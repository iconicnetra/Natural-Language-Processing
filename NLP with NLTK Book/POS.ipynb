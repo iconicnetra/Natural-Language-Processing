{
 "cells": [
  {
   "cell_type": "markdown",
   "metadata": {},
   "source": [
    "# Parts of Spees (POS) Tagging"
   ]
  },
  {
   "cell_type": "code",
   "execution_count": 12,
   "metadata": {},
   "outputs": [
    {
     "name": "stderr",
     "output_type": "stream",
     "text": [
      "[nltk_data] Downloading package averaged_perceptron_tagger to\n",
      "[nltk_data]     C:\\Users\\netra\\AppData\\Roaming\\nltk_data...\n",
      "[nltk_data]   Package averaged_perceptron_tagger is already up-to-\n",
      "[nltk_data]       date!\n"
     ]
    },
    {
     "data": {
      "text/plain": [
       "True"
      ]
     },
     "execution_count": 12,
     "metadata": {},
     "output_type": "execute_result"
    }
   ],
   "source": [
    "import nltk \n",
    "nltk.download('averaged_perceptron_tagger')"
   ]
  },
  {
   "cell_type": "code",
   "execution_count": 13,
   "metadata": {},
   "outputs": [
    {
     "name": "stdout",
     "output_type": "stream",
     "text": [
      "[('The', 'DT'), ('quick', 'JJ'), ('brown', 'NN'), ('fox', 'NN'), (',', ','), ('jumped', 'VBD'), ('over', 'IN'), ('the', 'DT'), ('lazy', 'JJ'), ('dog', 'NN'), ('.', '.')]\n"
     ]
    }
   ],
   "source": [
    "sentence = \"The quick brown fox, jumped over the lazy dog.\"\n",
    "tokens = nltk.word_tokenize(sentence)\n",
    "tagged_tokens = nltk.pos_tag(tokens)\n",
    "print(tagged_tokens)"
   ]
  },
  {
   "cell_type": "code",
   "execution_count": 14,
   "metadata": {},
   "outputs": [],
   "source": [
    "from nltk.tokenize import word_tokenize"
   ]
  },
  {
   "cell_type": "code",
   "execution_count": 16,
   "metadata": {},
   "outputs": [
    {
     "name": "stderr",
     "output_type": "stream",
     "text": [
      "[nltk_data] Downloading package averaged_perceptron_tagger to\n",
      "[nltk_data]     C:\\Users\\netra\\AppData\\Roaming\\nltk_data...\n",
      "[nltk_data]   Package averaged_perceptron_tagger is already up-to-\n",
      "[nltk_data]       date!\n",
      "[nltk_data] Downloading package punkt to\n",
      "[nltk_data]     C:\\Users\\netra\\AppData\\Roaming\\nltk_data...\n",
      "[nltk_data]   Package punkt is already up-to-date!\n"
     ]
    },
    {
     "data": {
      "text/plain": [
       "True"
      ]
     },
     "execution_count": 16,
     "metadata": {},
     "output_type": "execute_result"
    }
   ],
   "source": [
    "nltk.download('averaged_perceptron_tagger')\n",
    "nltk.download('punkt')"
   ]
  },
  {
   "cell_type": "markdown",
   "metadata": {},
   "source": [
    "## Tokenize the sentence"
   ]
  },
  {
   "cell_type": "code",
   "execution_count": 17,
   "metadata": {},
   "outputs": [
    {
     "data": {
      "text/plain": [
       "['Sure',\n",
       " ',',\n",
       " 'I',\n",
       " \"'d\",\n",
       " 'be',\n",
       " 'happy',\n",
       " 'to',\n",
       " 'guide',\n",
       " 'you',\n",
       " 'through',\n",
       " 'Parts',\n",
       " 'of',\n",
       " 'Speech',\n",
       " '(',\n",
       " 'POS',\n",
       " ')',\n",
       " 'tagging',\n",
       " 'using',\n",
       " 'the',\n",
       " 'Python',\n",
       " 'NLTK',\n",
       " 'library',\n",
       " '.']"
      ]
     },
     "execution_count": 17,
     "metadata": {},
     "output_type": "execute_result"
    }
   ],
   "source": [
    "text = \"Sure, I'd be happy to guide you through Parts of Speech (POS) tagging using the Python NLTK library.\"\n",
    "tokens = word_tokenize(text)\n",
    "tokens"
   ]
  },
  {
   "cell_type": "markdown",
   "metadata": {},
   "source": [
    "## POS Tagging"
   ]
  },
  {
   "cell_type": "code",
   "execution_count": 18,
   "metadata": {},
   "outputs": [
    {
     "name": "stdout",
     "output_type": "stream",
     "text": [
      "[('Sure', 'JJ'), (',', ','), ('I', 'PRP'), (\"'d\", 'MD'), ('be', 'VB'), ('happy', 'JJ'), ('to', 'TO'), ('guide', 'VB'), ('you', 'PRP'), ('through', 'IN'), ('Parts', 'NNS'), ('of', 'IN'), ('Speech', 'NNP'), ('(', '('), ('POS', 'NNP'), (')', ')'), ('tagging', 'VBG'), ('using', 'VBG'), ('the', 'DT'), ('Python', 'NNP'), ('NLTK', 'NNP'), ('library', 'NN'), ('.', '.')]\n"
     ]
    }
   ],
   "source": [
    "tagged_tokens = nltk.pos_tag(tokens)\n",
    "print(tagged_tokens)"
   ]
  },
  {
   "cell_type": "markdown",
   "metadata": {},
   "source": [
    "### Examples of POS Tagging "
   ]
  },
  {
   "cell_type": "code",
   "execution_count": 19,
   "metadata": {},
   "outputs": [
    {
     "name": "stdout",
     "output_type": "stream",
     "text": [
      "[('Python', 'NNP'), ('is', 'VBZ'), ('a', 'DT'), ('high-level', 'JJ'), ('programming', 'NN'), ('language', 'NN'), ('.', '.'), ('It', 'PRP'), (\"'s\", 'VBZ'), ('great', 'JJ'), ('for', 'IN'), ('data', 'NNS'), ('analysis', 'NN'), ('and', 'CC'), ('data', 'NNS'), ('science', 'NN'), ('for', 'IN'), ('the', 'DT'), ('future', 'NN'), ('of', 'IN'), ('AI', 'NNP'), ('.', '.')]\n"
     ]
    }
   ],
   "source": [
    "text = \"Python is a high-level programming language. It's great for data analysis and data science for the future of AI.\"\n",
    "\n",
    "tokens = word_tokenize(text)\n",
    "\n",
    "tagged_tokens = nltk.pos_tag(tokens)\n",
    "\n",
    "print(tagged_tokens)"
   ]
  },
  {
   "cell_type": "markdown",
   "metadata": {},
   "source": [
    "The POS tags are standardized codes. For instance, NNP stands for proper noun, singular, VBZ is a verb, 3rd person singular present, JJ is an adjective, etc. You can look up a full list of POS tags and their meanings in the NLTK documentation or by querying nltk.help.upenn_tagset() if you're curious about a specific tag."
   ]
  },
  {
   "cell_type": "markdown",
   "metadata": {},
   "source": [
    "## Tagsets"
   ]
  },
  {
   "cell_type": "code",
   "execution_count": 30,
   "metadata": {},
   "outputs": [
    {
     "name": "stdout",
     "output_type": "stream",
     "text": [
      "NNP: noun, proper, singular\n",
      "    Motown Venneboerger Czestochwa Ranzer Conchita Trumplane Christos\n",
      "    Oceanside Escobar Kreisler Sawyer Cougar Yvette Ervin ODI Darryl CTCA\n",
      "    Shannon A.K.C. Meltex Liverpool ...\n"
     ]
    },
    {
     "name": "stderr",
     "output_type": "stream",
     "text": [
      "[nltk_data] Downloading package tagsets to\n",
      "[nltk_data]     C:\\Users\\netra\\AppData\\Roaming\\nltk_data...\n",
      "[nltk_data]   Package tagsets is already up-to-date!\n"
     ]
    }
   ],
   "source": [
    "nltk.download('tagsets')\n",
    "nltk.help.upenn_tagset('NNP')"
   ]
  },
  {
   "cell_type": "code",
   "execution_count": 31,
   "metadata": {},
   "outputs": [
    {
     "name": "stdout",
     "output_type": "stream",
     "text": [
      "NNP: noun, proper, singular\n",
      "    Motown Venneboerger Czestochwa Ranzer Conchita Trumplane Christos\n",
      "    Oceanside Escobar Kreisler Sawyer Cougar Yvette Ervin ODI Darryl CTCA\n",
      "    Shannon A.K.C. Meltex Liverpool ...\n"
     ]
    }
   ],
   "source": [
    "nltk.help.upenn_tagset('NNP')"
   ]
  },
  {
   "cell_type": "code",
   "execution_count": 33,
   "metadata": {},
   "outputs": [
    {
     "name": "stdout",
     "output_type": "stream",
     "text": [
      "VB: verb, base form\n",
      "    ask assemble assess assign assume atone attention avoid bake balkanize\n",
      "    bank begin behold believe bend benefit bevel beware bless boil bomb\n",
      "    boost brace break bring broil brush build ...\n"
     ]
    }
   ],
   "source": [
    "nltk.help.upenn_tagset('VB')"
   ]
  },
  {
   "cell_type": "code",
   "execution_count": 34,
   "metadata": {},
   "outputs": [
    {
     "name": "stdout",
     "output_type": "stream",
     "text": [
      "IN: preposition or conjunction, subordinating\n",
      "    astride among uppon whether out inside pro despite on by throughout\n",
      "    below within for towards near behind atop around if like until below\n",
      "    next into if beside ...\n"
     ]
    }
   ],
   "source": [
    "nltk.help.upenn_tagset('IN')"
   ]
  },
  {
   "cell_type": "code",
   "execution_count": 35,
   "metadata": {},
   "outputs": [
    {
     "name": "stdout",
     "output_type": "stream",
     "text": [
      "VBZ: verb, present tense, 3rd person singular\n",
      "    bases reconstructs marks mixes displeases seals carps weaves snatches\n",
      "    slumps stretches authorizes smolders pictures emerges stockpiles\n",
      "    seduces fizzes uses bolsters slaps speaks pleads ...\n"
     ]
    }
   ],
   "source": [
    "nltk.help.upenn_tagset('VBZ')"
   ]
  },
  {
   "cell_type": "code",
   "execution_count": 36,
   "metadata": {},
   "outputs": [
    {
     "name": "stdout",
     "output_type": "stream",
     "text": [
      "CC: conjunction, coordinating\n",
      "    & 'n and both but either et for less minus neither nor or plus so\n",
      "    therefore times v. versus vs. whether yet\n"
     ]
    }
   ],
   "source": [
    "nltk.help.upenn_tagset('CC')"
   ]
  },
  {
   "attachments": {
    "image.png": {
     "image/png": "[encoded data removed]"
    }
   },
   "cell_type": "markdown",
   "metadata": {},
   "source": [
    "![image.png](attachment:image.png)"
   ]
  },
  {
   "cell_type": "markdown",
   "metadata": {},
   "source": [
    "# Other practice Examples "
   ]
  },
  {
   "cell_type": "markdown",
   "metadata": {},
   "source": [
    "### Simple Statements "
   ]
  },
  {
   "cell_type": "code",
   "execution_count": 37,
   "metadata": {},
   "outputs": [
    {
     "data": {
      "text/plain": [
       "'Social Constructivism: This is based on the work of Lev Vygotsky who emphasized the influence of culture and social interaction. Vygotsky believed that learning is a collaborative activity, and that social interaction plays a critical role in the process of constructing knowledge.'"
      ]
     },
     "execution_count": 37,
     "metadata": {},
     "output_type": "execute_result"
    }
   ],
   "source": [
    "text = \"Social Constructivism: This is based on the work of Lev Vygotsky who emphasized the influence of culture and social interaction. Vygotsky believed that learning is a collaborative activity, and that social interaction plays a critical role in the process of constructing knowledge.\"\n",
    "text"
   ]
  },
  {
   "cell_type": "code",
   "execution_count": 38,
   "metadata": {},
   "outputs": [
    {
     "data": {
      "text/plain": [
       "[('Social', 'JJ'),\n",
       " ('Constructivism', 'NN'),\n",
       " (':', ':'),\n",
       " ('This', 'DT'),\n",
       " ('is', 'VBZ'),\n",
       " ('based', 'VBN'),\n",
       " ('on', 'IN'),\n",
       " ('the', 'DT'),\n",
       " ('work', 'NN'),\n",
       " ('of', 'IN'),\n",
       " ('Lev', 'NNP'),\n",
       " ('Vygotsky', 'NNP'),\n",
       " ('who', 'WP'),\n",
       " ('emphasized', 'VBD'),\n",
       " ('the', 'DT'),\n",
       " ('influence', 'NN'),\n",
       " ('of', 'IN'),\n",
       " ('culture', 'NN'),\n",
       " ('and', 'CC'),\n",
       " ('social', 'JJ'),\n",
       " ('interaction', 'NN'),\n",
       " ('.', '.'),\n",
       " ('Vygotsky', 'NNP'),\n",
       " ('believed', 'VBD'),\n",
       " ('that', 'IN'),\n",
       " ('learning', 'NN'),\n",
       " ('is', 'VBZ'),\n",
       " ('a', 'DT'),\n",
       " ('collaborative', 'JJ'),\n",
       " ('activity', 'NN'),\n",
       " (',', ','),\n",
       " ('and', 'CC'),\n",
       " ('that', 'IN'),\n",
       " ('social', 'JJ'),\n",
       " ('interaction', 'NN'),\n",
       " ('plays', 'VBZ'),\n",
       " ('a', 'DT'),\n",
       " ('critical', 'JJ'),\n",
       " ('role', 'NN'),\n",
       " ('in', 'IN'),\n",
       " ('the', 'DT'),\n",
       " ('process', 'NN'),\n",
       " ('of', 'IN'),\n",
       " ('constructing', 'VBG'),\n",
       " ('knowledge', 'NN'),\n",
       " ('.', '.')]"
      ]
     },
     "execution_count": 38,
     "metadata": {},
     "output_type": "execute_result"
    }
   ],
   "source": [
    "tokens = word_tokenize(text)\n",
    "tagged_tokens = nltk.pos_tag(tokens)\n",
    "tagged_tokens"
   ]
  },
  {
   "cell_type": "markdown",
   "metadata": {},
   "source": [
    "### Complex sentences"
   ]
  },
  {
   "cell_type": "code",
   "execution_count": 39,
   "metadata": {},
   "outputs": [
    {
     "name": "stdout",
     "output_type": "stream",
     "text": [
      "[('If', 'IN'), ('it', 'PRP'), ('rains', 'VBZ'), ('tomorrow', 'NN'), (',', ','), ('the', 'DT'), ('picnic', 'NN'), ('will', 'MD'), ('be', 'VB'), ('canceled', 'VBN'), ('.', '.')]\n"
     ]
    }
   ],
   "source": [
    "text = \"If it rains tomorrow, the picnic will be canceled.\"\n",
    "tokens = word_tokenize(text)\n",
    "tagged_tokens = nltk.pos_tag(tokens)    \n",
    "print(tagged_tokens)"
   ]
  },
  {
   "cell_type": "markdown",
   "metadata": {},
   "source": [
    "### Use of Conjuctions "
   ]
  },
  {
   "cell_type": "code",
   "execution_count": 40,
   "metadata": {},
   "outputs": [
    {
     "data": {
      "text/plain": [
       "[('She', 'PRP'),\n",
       " ('plays', 'VBZ'),\n",
       " ('the', 'DT'),\n",
       " ('guitar', 'NN'),\n",
       " ('and', 'CC'),\n",
       " ('signs', 'NNS'),\n",
       " ('beautifully', 'RB'),\n",
       " ('.', '.')]"
      ]
     },
     "execution_count": 40,
     "metadata": {},
     "output_type": "execute_result"
    }
   ],
   "source": [
    "text = \"She plays the guitar and signs beautifully.\"\n",
    "\n",
    "tokens = word_tokenize(text)\n",
    "\n",
    "tagged_tokens = nltk.pos_tag(tokens)    \n",
    "\n",
    "tagged_tokens"
   ]
  },
  {
   "cell_type": "code",
   "execution_count": 41,
   "metadata": {},
   "outputs": [
    {
     "name": "stdout",
     "output_type": "stream",
     "text": [
      "RB: adverb\n",
      "    occasionally unabatingly maddeningly adventurously professedly\n",
      "    stirringly prominently technologically magisterially predominately\n",
      "    swiftly fiscally pitilessly ...\n"
     ]
    }
   ],
   "source": [
    "nltk.help.upenn_tagset('RB')"
   ]
  },
  {
   "cell_type": "markdown",
   "metadata": {},
   "source": [
    "### Use of Future Tense "
   ]
  },
  {
   "cell_type": "code",
   "execution_count": 42,
   "metadata": {},
   "outputs": [
    {
     "name": "stdout",
     "output_type": "stream",
     "text": [
      "[('They', 'PRP'), ('will', 'MD'), ('start', 'VB'), ('the', 'DT'), ('construction', 'NN'), ('of', 'IN'), ('the', 'DT'), ('new', 'JJ'), ('building', 'NN'), ('next', 'JJ'), ('month', 'NN'), ('.', '.')]\n"
     ]
    }
   ],
   "source": [
    "text = \"They will start the construction of the new building next month.\"\n",
    "\n",
    "tokens = word_tokenize(text)\n",
    "\n",
    "tagged_tokens = nltk.pos_tag(tokens)\n",
    "\n",
    "print(tagged_tokens)"
   ]
  },
  {
   "cell_type": "code",
   "execution_count": 43,
   "metadata": {},
   "outputs": [
    {
     "name": "stdout",
     "output_type": "stream",
     "text": [
      "PRP: pronoun, personal\n",
      "    hers herself him himself hisself it itself me myself one oneself ours\n",
      "    ourselves ownself self she thee theirs them themselves they thou thy us\n"
     ]
    }
   ],
   "source": [
    "nltk.help.upenn_tagset('PRP')"
   ]
  },
  {
   "cell_type": "code",
   "execution_count": 44,
   "metadata": {},
   "outputs": [
    {
     "name": "stdout",
     "output_type": "stream",
     "text": [
      "MD: modal auxiliary\n",
      "    can cannot could couldn't dare may might must need ought shall should\n",
      "    shouldn't will would\n"
     ]
    }
   ],
   "source": [
    "nltk.help.upenn_tagset('MD')"
   ]
  },
  {
   "cell_type": "markdown",
   "metadata": {},
   "source": [
    "### Past Perfect Tense "
   ]
  },
  {
   "cell_type": "code",
   "execution_count": 45,
   "metadata": {},
   "outputs": [
    {
     "data": {
      "text/plain": [
       "[('He', 'PRP'),\n",
       " ('had', 'VBD'),\n",
       " ('finished', 'VBN'),\n",
       " ('the', 'DT'),\n",
       " ('work', 'NN'),\n",
       " ('before', 'IN'),\n",
       " ('I', 'PRP'),\n",
       " ('arrived', 'VBD'),\n",
       " ('.', '.')]"
      ]
     },
     "execution_count": 45,
     "metadata": {},
     "output_type": "execute_result"
    }
   ],
   "source": [
    "text = \"He had finished the work before I arrived.\"\n",
    "\n",
    "tokens = word_tokenize(text)    \n",
    "\n",
    "tagged_tokens = nltk.pos_tag(tokens)\n",
    "\n",
    "tagged_tokens"
   ]
  },
  {
   "cell_type": "markdown",
   "metadata": {},
   "source": [
    "### Present Continous Tense"
   ]
  },
  {
   "cell_type": "code",
   "execution_count": 46,
   "metadata": {},
   "outputs": [
    {
     "data": {
      "text/plain": [
       "[('I', 'PRP'),\n",
       " ('am', 'VBP'),\n",
       " ('working', 'VBG'),\n",
       " ('in', 'IN'),\n",
       " ('the', 'DT'),\n",
       " ('field', 'NN'),\n",
       " ('of', 'IN'),\n",
       " ('data', 'NNS'),\n",
       " ('science', 'NN'),\n",
       " ('.', '.')]"
      ]
     },
     "execution_count": 46,
     "metadata": {},
     "output_type": "execute_result"
    }
   ],
   "source": [
    "text = \"I am working in the field of data science.\"\n",
    "\n",
    "tokens = word_tokenize(text)    \n",
    "\n",
    "tagged_tokens = nltk.pos_tag(tokens)\n",
    "\n",
    "tagged_tokens"
   ]
  },
  {
   "cell_type": "code",
   "execution_count": 47,
   "metadata": {},
   "outputs": [
    {
     "name": "stdout",
     "output_type": "stream",
     "text": [
      "VBG: verb, present participle or gerund\n",
      "    telegraphing stirring focusing angering judging stalling lactating\n",
      "    hankerin' alleging veering capping approaching traveling besieging\n",
      "    encrypting interrupting erasing wincing ...\n"
     ]
    }
   ],
   "source": [
    "nltk.help.upenn_tagset('VBG') #Gerund or Present participle "
   ]
  },
  {
   "cell_type": "code",
   "execution_count": 48,
   "metadata": {},
   "outputs": [
    {
     "name": "stdout",
     "output_type": "stream",
     "text": [
      "VBP: verb, present tense, not 3rd person singular\n",
      "    predominate wrap resort sue twist spill cure lengthen brush terminate\n",
      "    appear tend stray glisten obtain comprise detest tease attract\n",
      "    emphasize mold postpone sever return wag ...\n"
     ]
    }
   ],
   "source": [
    "nltk.help.upenn_tagset('VBP') # Present tense"
   ]
  },
  {
   "cell_type": "markdown",
   "metadata": {},
   "source": [
    "### List Items"
   ]
  },
  {
   "cell_type": "code",
   "execution_count": 50,
   "metadata": {},
   "outputs": [
    {
     "data": {
      "text/plain": [
       "[('Eggs', 'NNP'),\n",
       " (',', ','),\n",
       " ('milk', 'NN'),\n",
       " (',', ','),\n",
       " ('and', 'CC'),\n",
       " ('butter', 'NN'),\n",
       " ('are', 'VBP'),\n",
       " ('essential', 'JJ'),\n",
       " ('ingredients', 'NNS'),\n",
       " ('for', 'IN'),\n",
       " ('baking', 'VBG'),\n",
       " ('a', 'DT'),\n",
       " ('cake', 'NN'),\n",
       " ('.', '.')]"
      ]
     },
     "execution_count": 50,
     "metadata": {},
     "output_type": "execute_result"
    }
   ],
   "source": [
    "text = \"Eggs, milk, and butter are essential ingredients for baking a cake.\"\n",
    "\n",
    "tokens = word_tokenize(text)\n",
    "\n",
    "tagged_tokens = nltk.pos_tag(tokens)\n",
    "\n",
    "tagged_tokens"
   ]
  },
  {
   "cell_type": "markdown",
   "metadata": {},
   "source": [
    "### Adjective Heavy Sentences "
   ]
  },
  {
   "cell_type": "code",
   "execution_count": 51,
   "metadata": {},
   "outputs": [
    {
     "data": {
      "text/plain": [
       "[('The', 'DT'),\n",
       " ('old', 'JJ'),\n",
       " ('wooden', 'JJ'),\n",
       " ('cottage', 'NN'),\n",
       " ('stood', 'VBD'),\n",
       " ('alone', 'RB'),\n",
       " ('on', 'IN'),\n",
       " ('the', 'DT'),\n",
       " ('hill', 'NN'),\n",
       " ('.', '.')]"
      ]
     },
     "execution_count": 51,
     "metadata": {},
     "output_type": "execute_result"
    }
   ],
   "source": [
    "text = \"The old wooden cottage stood alone on the hill.\"\n",
    "\n",
    "tokens = word_tokenize(text)\n",
    "\n",
    "tagged_tokens = nltk.pos_tag(tokens)\n",
    "\n",
    "tagged_tokens"
   ]
  },
  {
   "cell_type": "markdown",
   "metadata": {},
   "source": [
    "### Technical Contents "
   ]
  },
  {
   "cell_type": "code",
   "execution_count": 52,
   "metadata": {},
   "outputs": [
    {
     "data": {
      "text/plain": [
       "[('Python', 'NNP'),\n",
       " ('utilizes', 'JJ'),\n",
       " ('dynamic', 'JJ'),\n",
       " ('typing', 'NN'),\n",
       " ('and', 'CC'),\n",
       " ('manages', 'VBZ'),\n",
       " ('memory', 'NN'),\n",
       " ('automatically', 'RB'),\n",
       " ('.', '.')]"
      ]
     },
     "execution_count": 52,
     "metadata": {},
     "output_type": "execute_result"
    }
   ],
   "source": [
    "text = \"Python utilizes dynamic typing and manages memory automatically.\"\n",
    "\n",
    "tokens = word_tokenize(text)\n",
    "\n",
    "tagged_tokens = nltk.pos_tag(tokens)\n",
    "\n",
    "tagged_tokens"
   ]
  },
  {
   "cell_type": "code",
   "execution_count": 53,
   "metadata": {},
   "outputs": [
    {
     "name": "stdout",
     "output_type": "stream",
     "text": [
      "NN: noun, common, singular or mass\n",
      "    common-carrier cabbage knuckle-duster Casino afghan shed thermostat\n",
      "    investment slide humour falloff slick wind hyena override subhumanity\n",
      "    machinist ...\n"
     ]
    }
   ],
   "source": [
    "nltk.help.upenn_tagset('NN')"
   ]
  },
  {
   "cell_type": "markdown",
   "metadata": {},
   "source": [
    "## Literary Style "
   ]
  },
  {
   "cell_type": "code",
   "execution_count": 54,
   "metadata": {},
   "outputs": [
    {
     "data": {
      "text/plain": [
       "[('Beneath', 'IN'),\n",
       " ('the', 'DT'),\n",
       " ('clear', 'JJ'),\n",
       " ('sky', 'NN'),\n",
       " (',', ','),\n",
       " ('the', 'DT'),\n",
       " ('river', 'NN'),\n",
       " ('glittered', 'VBN'),\n",
       " ('under', 'IN'),\n",
       " ('the', 'DT'),\n",
       " ('sun', 'NN'),\n",
       " ('.', '.')]"
      ]
     },
     "execution_count": 54,
     "metadata": {},
     "output_type": "execute_result"
    }
   ],
   "source": [
    "text = \"Beneath the clear sky, the river glittered under the sun.\"\n",
    "\n",
    "tokens = word_tokenize(text)    \n",
    "\n",
    "tagged_tokens = nltk.pos_tag(tokens)\n",
    "\n",
    "tagged_tokens"
   ]
  },
  {
   "cell_type": "markdown",
   "metadata": {},
   "source": [
    "### Imperative Sentences "
   ]
  },
  {
   "cell_type": "code",
   "execution_count": 55,
   "metadata": {},
   "outputs": [
    {
     "data": {
      "text/plain": [
       "[('Close', 'RB'), ('the', 'DT'), ('door', 'NN'), ('quietly', 'RB'), ('.', '.')]"
      ]
     },
     "execution_count": 55,
     "metadata": {},
     "output_type": "execute_result"
    }
   ],
   "source": [
    "text = \"Close the door quietly.\"\n",
    "\n",
    "tokens = word_tokenize(text)    \n",
    "\n",
    "tagged_tokens = nltk.pos_tag(tokens)\n",
    "\n",
    "tagged_tokens"
   ]
  },
  {
   "cell_type": "markdown",
   "metadata": {},
   "source": [
    "### Interrogative with Model"
   ]
  },
  {
   "cell_type": "code",
   "execution_count": 56,
   "metadata": {},
   "outputs": [
    {
     "data": {
      "text/plain": [
       "[('Can', 'MD'),\n",
       " ('you', 'PRP'),\n",
       " ('open', 'VB'),\n",
       " ('the', 'DT'),\n",
       " ('window', 'NN'),\n",
       " ('?', '.')]"
      ]
     },
     "execution_count": 56,
     "metadata": {},
     "output_type": "execute_result"
    }
   ],
   "source": [
    "text = \"Can you open the window?\"\n",
    "\n",
    "tokens = word_tokenize(text)    \n",
    "\n",
    "tagged_tokens = nltk.pos_tag(tokens)\n",
    "\n",
    "tagged_tokens"
   ]
  },
  {
   "cell_type": "markdown",
   "metadata": {},
   "source": [
    "### Complex Compound Sentences "
   ]
  },
  {
   "cell_type": "code",
   "execution_count": 57,
   "metadata": {},
   "outputs": [
    {
     "data": {
      "text/plain": [
       "[('I', 'PRP'),\n",
       " ('ran', 'VBD'),\n",
       " ('to', 'TO'),\n",
       " ('the', 'DT'),\n",
       " ('store', 'NN'),\n",
       " (',', ','),\n",
       " ('but', 'CC'),\n",
       " ('they', 'PRP'),\n",
       " ('were', 'VBD'),\n",
       " ('out', 'IN'),\n",
       " ('of', 'IN'),\n",
       " ('milk', 'NN'),\n",
       " (',', ','),\n",
       " ('so', 'IN'),\n",
       " ('I', 'PRP'),\n",
       " ('bought', 'VBD'),\n",
       " ('eggs', 'NNS'),\n",
       " ('instead', 'RB'),\n",
       " ('.', '.')]"
      ]
     },
     "execution_count": 57,
     "metadata": {},
     "output_type": "execute_result"
    }
   ],
   "source": [
    "text = \"I ran to the store, but they were out of milk, so I bought eggs instead.\"\n",
    "\n",
    "tokens = word_tokenize(text)    \n",
    "\n",
    "tagged_tokens = nltk.pos_tag(tokens)\n",
    "\n",
    "tagged_tokens"
   ]
  },
  {
   "cell_type": "markdown",
   "metadata": {},
   "source": [
    "### use of Passive Voice"
   ]
  },
  {
   "cell_type": "code",
   "execution_count": 58,
   "metadata": {},
   "outputs": [
    {
     "data": {
      "text/plain": [
       "[('The', 'DT'),\n",
       " ('book', 'NN'),\n",
       " ('was', 'VBD'),\n",
       " ('written', 'VBN'),\n",
       " ('by', 'IN'),\n",
       " ('Netra', 'NNP'),\n",
       " ('Kumar', 'NNP'),\n",
       " ('Manandhar', 'NNP'),\n",
       " ('.', '.')]"
      ]
     },
     "execution_count": 58,
     "metadata": {},
     "output_type": "execute_result"
    }
   ],
   "source": [
    "text = \"The book was written by Netra Kumar Manandhar.\"\n",
    "\n",
    "tokens = word_tokenize(text)\n",
    "\n",
    "tagged_tokens = nltk.pos_tag(tokens)\n",
    "\n",
    "tagged_tokens"
   ]
  },
  {
   "cell_type": "markdown",
   "metadata": {},
   "source": [
    "### Historical Facts "
   ]
  },
  {
   "cell_type": "code",
   "execution_count": 59,
   "metadata": {},
   "outputs": [
    {
     "data": {
      "text/plain": [
       "[('In', 'IN'),\n",
       " ('1991', 'CD'),\n",
       " ('AD', 'NNP'),\n",
       " (',', ','),\n",
       " ('Kathmandu', 'NNP'),\n",
       " ('University', 'NNP'),\n",
       " ('was', 'VBD'),\n",
       " ('established', 'VBN'),\n",
       " ('in', 'IN'),\n",
       " ('Dhulikhel', 'NNP'),\n",
       " ('.', '.')]"
      ]
     },
     "execution_count": 59,
     "metadata": {},
     "output_type": "execute_result"
    }
   ],
   "source": [
    "text = \"In 1991 AD, Kathmandu University was established in Dhulikhel.\"\n",
    "\n",
    "tokens = word_tokenize(text)\n",
    "\n",
    "tagged_tokens= nltk.pos_tag(tokens)\n",
    "tagged_tokens"
   ]
  },
  {
   "cell_type": "code",
   "execution_count": 60,
   "metadata": {},
   "outputs": [
    {
     "name": "stdout",
     "output_type": "stream",
     "text": [
      "CD: numeral, cardinal\n",
      "    mid-1890 nine-thirty forty-two one-tenth ten million 0.5 one forty-\n",
      "    seven 1987 twenty '79 zero two 78-degrees eighty-four IX '60s .025\n",
      "    fifteen 271,124 dozen quintillion DM2,000 ...\n"
     ]
    }
   ],
   "source": [
    "nltk.help.upenn_tagset('CD')"
   ]
  },
  {
   "cell_type": "markdown",
   "metadata": {},
   "source": [
    "### Technical and Scientific statements "
   ]
  },
  {
   "cell_type": "code",
   "execution_count": 61,
   "metadata": {},
   "outputs": [
    {
     "data": {
      "text/plain": [
       "[('Carbon', 'NNP'),\n",
       " ('dioxide', 'NN'),\n",
       " ('levels', 'NNS'),\n",
       " ('in', 'IN'),\n",
       " ('the', 'DT'),\n",
       " ('atmosphere', 'NN'),\n",
       " ('have', 'VBP'),\n",
       " ('risen', 'VBN'),\n",
       " ('dramatically', 'RB'),\n",
       " ('over', 'IN'),\n",
       " ('the', 'DT'),\n",
       " ('past', 'JJ'),\n",
       " ('century', 'NN'),\n",
       " ('.', '.')]"
      ]
     },
     "execution_count": 61,
     "metadata": {},
     "output_type": "execute_result"
    }
   ],
   "source": [
    "text = \"Carbon dioxide levels in the atmosphere have risen dramatically over the past century.\"\n",
    "\n",
    "tokens = word_tokenize(text)\n",
    "\n",
    "tagged_tokens = nltk.pos_tag(tokens)    \n",
    "\n",
    "tagged_tokens"
   ]
  },
  {
   "cell_type": "markdown",
   "metadata": {},
   "source": [
    "### Conditional Sentences "
   ]
  },
  {
   "cell_type": "code",
   "execution_count": 62,
   "metadata": {},
   "outputs": [
    {
     "data": {
      "text/plain": [
       "[('If', 'IN'),\n",
       " ('you', 'PRP'),\n",
       " ('save', 'VBP'),\n",
       " ('money', 'NN'),\n",
       " (',', ','),\n",
       " ('you', 'PRP'),\n",
       " ('can', 'MD'),\n",
       " ('by', 'IN'),\n",
       " ('a', 'DT'),\n",
       " ('new', 'JJ'),\n",
       " ('laptop', 'JJ'),\n",
       " ('later', 'NN'),\n",
       " ('.', '.')]"
      ]
     },
     "execution_count": 62,
     "metadata": {},
     "output_type": "execute_result"
    }
   ],
   "source": [
    "text = \"If you save money, you can by a new laptop later.\"\n",
    "\n",
    "tokens = word_tokenize(text)\n",
    "\n",
    "tagged_tokens = nltk.pos_tag(tokens)\n",
    "\n",
    "tagged_tokens"
   ]
  },
  {
   "cell_type": "markdown",
   "metadata": {},
   "source": [
    "### Use of Infinitives "
   ]
  },
  {
   "cell_type": "code",
   "execution_count": 63,
   "metadata": {},
   "outputs": [
    {
     "data": {
      "text/plain": [
       "[('To', 'TO'),\n",
       " ('understand', 'VB'),\n",
       " ('recursion', 'NN'),\n",
       " (',', ','),\n",
       " ('you', 'PRP'),\n",
       " ('must', 'MD'),\n",
       " ('first', 'VB'),\n",
       " ('understand', 'JJ'),\n",
       " ('recursion', 'NN'),\n",
       " ('.', '.')]"
      ]
     },
     "execution_count": 63,
     "metadata": {},
     "output_type": "execute_result"
    }
   ],
   "source": [
    "text = \"To understand recursion, you must first understand recursion.\"\n",
    "\n",
    "tokens = word_tokenize(text)\n",
    "\n",
    "tagged_tokens = nltk.pos_tag(tokens)\n",
    "\n",
    "tagged_tokens"
   ]
  },
  {
   "cell_type": "markdown",
   "metadata": {},
   "source": [
    "### Statement with Gerunds "
   ]
  },
  {
   "cell_type": "code",
   "execution_count": 64,
   "metadata": {},
   "outputs": [
    {
     "data": {
      "text/plain": [
       "[('Swimming', 'VBG'),\n",
       " ('in', 'IN'),\n",
       " ('the', 'DT'),\n",
       " ('ocean', 'NN'),\n",
       " ('has', 'VBZ'),\n",
       " ('been', 'VBN'),\n",
       " ('Sharon', 'NNP'),\n",
       " (\"'s\", 'POS'),\n",
       " ('passion', 'NN'),\n",
       " ('since', 'IN'),\n",
       " ('she', 'PRP'),\n",
       " ('was', 'VBD'),\n",
       " ('five', 'CD'),\n",
       " ('years', 'NNS'),\n",
       " ('old', 'JJ'),\n",
       " ('.', '.')]"
      ]
     },
     "execution_count": 64,
     "metadata": {},
     "output_type": "execute_result"
    }
   ],
   "source": [
    "text = \"Swimming in the ocean has been Sharon's passion since she was five years old.\"\n",
    "\n",
    "tokens = word_tokenize(text)\n",
    "\n",
    "tagged_tokens = nltk.pos_tag(tokens)\n",
    "\n",
    "tagged_tokens   "
   ]
  },
  {
   "cell_type": "code",
   "execution_count": 65,
   "metadata": {},
   "outputs": [
    {
     "name": "stdout",
     "output_type": "stream",
     "text": [
      "POS: genitive marker\n",
      "    ' 's\n"
     ]
    }
   ],
   "source": [
    "nltk.help.upenn_tagset('POS')"
   ]
  },
  {
   "cell_type": "markdown",
   "metadata": {},
   "source": [
    "### Complex sentence with multiple clauses "
   ]
  },
  {
   "cell_type": "code",
   "execution_count": 66,
   "metadata": {},
   "outputs": [
    {
     "data": {
      "text/plain": [
       "[('When', 'WRB'),\n",
       " ('I', 'PRP'),\n",
       " ('arrive', 'VBP'),\n",
       " (',', ','),\n",
       " ('if', 'IN'),\n",
       " ('the', 'DT'),\n",
       " ('weather', 'NN'),\n",
       " ('is', 'VBZ'),\n",
       " ('nice', 'JJ'),\n",
       " (',', ','),\n",
       " ('we', 'PRP'),\n",
       " ('will', 'MD'),\n",
       " ('go', 'VB'),\n",
       " ('to', 'TO'),\n",
       " ('the', 'DT'),\n",
       " ('park', 'NN'),\n",
       " ('.', '.')]"
      ]
     },
     "execution_count": 66,
     "metadata": {},
     "output_type": "execute_result"
    }
   ],
   "source": [
    "text = \"When I arrive, if the weather is nice, we will go to the park.\"\n",
    "\n",
    "tokens = word_tokenize(text)\n",
    "\n",
    "tagged_tokens = nltk.pos_tag(tokens)    \n",
    "\n",
    "tagged_tokens"
   ]
  },
  {
   "cell_type": "markdown",
   "metadata": {},
   "source": [
    "### Descriptive Narratives "
   ]
  },
  {
   "cell_type": "code",
   "execution_count": 67,
   "metadata": {},
   "outputs": [
    {
     "data": {
      "text/plain": [
       "[('The', 'DT'),\n",
       " ('ancient', 'JJ'),\n",
       " ('tree', 'NN'),\n",
       " ('cast', 'VBD'),\n",
       " ('a', 'DT'),\n",
       " ('long', 'JJ'),\n",
       " ('shadow', 'NN'),\n",
       " ('over', 'IN'),\n",
       " ('the', 'DT'),\n",
       " ('old', 'JJ'),\n",
       " (',', ','),\n",
       " ('crumbling', 'VBG'),\n",
       " ('walls', 'NNS'),\n",
       " ('.', '.')]"
      ]
     },
     "execution_count": 67,
     "metadata": {},
     "output_type": "execute_result"
    }
   ],
   "source": [
    "text = \"The ancient tree cast a long shadow over the old, crumbling walls.\"\n",
    "tokens = word_tokenize(text)\n",
    "\n",
    "tagged_tokens = nltk.pos_tag(tokens)    \n",
    "\n",
    "tagged_tokens"
   ]
  },
  {
   "cell_type": "markdown",
   "metadata": {},
   "source": [
    "### Simple Questions "
   ]
  },
  {
   "cell_type": "code",
   "execution_count": 68,
   "metadata": {},
   "outputs": [
    {
     "data": {
      "text/plain": [
       "[('Where', 'WRB'),\n",
       " ('are', 'VBP'),\n",
       " ('my', 'PRP$'),\n",
       " ('glasses', 'NNS'),\n",
       " ('?', '.')]"
      ]
     },
     "execution_count": 68,
     "metadata": {},
     "output_type": "execute_result"
    }
   ],
   "source": [
    "text = \"Where are my glasses?\"\n",
    "\n",
    "tokens = word_tokenize(text)\n",
    "\n",
    "tagged_tokens = nltk.pos_tag(tokens)    \n",
    "\n",
    "tagged_tokens"
   ]
  },
  {
   "cell_type": "code",
   "execution_count": 69,
   "metadata": {},
   "outputs": [
    {
     "name": "stdout",
     "output_type": "stream",
     "text": [
      "WP: WH-pronoun\n",
      "    that what whatever whatsoever which who whom whosoever\n"
     ]
    }
   ],
   "source": [
    "nltk.help.upenn_tagset('WP')"
   ]
  },
  {
   "cell_type": "code",
   "execution_count": 70,
   "metadata": {},
   "outputs": [
    {
     "name": "stdout",
     "output_type": "stream",
     "text": [
      "WRB: Wh-adverb\n",
      "    how however whence whenever where whereby whereever wherein whereof why\n"
     ]
    }
   ],
   "source": [
    "nltk.help.upenn_tagset('WRB')"
   ]
  },
  {
   "cell_type": "markdown",
   "metadata": {},
   "source": [
    "### Use of Conjuctions and Commas "
   ]
  },
  {
   "cell_type": "code",
   "execution_count": 71,
   "metadata": {},
   "outputs": [
    {
     "data": {
      "text/plain": [
       "[('She', 'PRP'),\n",
       " ('bought', 'VBD'),\n",
       " ('apples', 'NNS'),\n",
       " (',', ','),\n",
       " ('oranges', 'NNS'),\n",
       " (',', ','),\n",
       " ('and', 'CC'),\n",
       " ('bananas', 'NNS'),\n",
       " (',', ','),\n",
       " ('but', 'CC'),\n",
       " ('forgot', 'VBD'),\n",
       " ('milk', 'NN'),\n",
       " ('.', '.')]"
      ]
     },
     "execution_count": 71,
     "metadata": {},
     "output_type": "execute_result"
    }
   ],
   "source": [
    "text = \"She bought apples, oranges, and bananas, but forgot milk.\"\n",
    "tokens = word_tokenize(text)\n",
    "\n",
    "tagged_tokens = nltk.pos_tag(tokens)    \n",
    "\n",
    "tagged_tokens"
   ]
  },
  {
   "cell_type": "markdown",
   "metadata": {},
   "source": [
    "### Simple Future Tense "
   ]
  },
  {
   "cell_type": "code",
   "execution_count": 72,
   "metadata": {},
   "outputs": [
    {
     "data": {
      "text/plain": [
       "[('They', 'PRP'),\n",
       " ('will', 'MD'),\n",
       " ('go', 'VB'),\n",
       " ('to', 'TO'),\n",
       " ('the', 'DT'),\n",
       " ('cinema', 'NN'),\n",
       " ('tonight', 'NN'),\n",
       " ('.', '.')]"
      ]
     },
     "execution_count": 72,
     "metadata": {},
     "output_type": "execute_result"
    }
   ],
   "source": [
    "text = \"They will go to the cinema tonight.\"\n",
    "tokens = word_tokenize(text)\n",
    "\n",
    "tagged_tokens = nltk.pos_tag(tokens)    \n",
    "\n",
    "tagged_tokens"
   ]
  },
  {
   "cell_type": "code",
   "execution_count": 73,
   "metadata": {},
   "outputs": [
    {
     "name": "stdout",
     "output_type": "stream",
     "text": [
      "TO: \"to\" as preposition or infinitive marker\n",
      "    to\n"
     ]
    }
   ],
   "source": [
    "nltk.help.upenn_tagset(\"TO\")"
   ]
  },
  {
   "cell_type": "markdown",
   "metadata": {},
   "source": [
    "### Complex sentence with adverbial clause "
   ]
  },
  {
   "cell_type": "code",
   "execution_count": 74,
   "metadata": {},
   "outputs": [
    {
     "data": {
      "text/plain": [
       "[('Although', 'IN'),\n",
       " ('it', 'PRP'),\n",
       " ('was', 'VBD'),\n",
       " ('raining', 'VBG'),\n",
       " (',', ','),\n",
       " ('we', 'PRP'),\n",
       " ('decided', 'VBD'),\n",
       " ('to', 'TO'),\n",
       " ('go', 'VB'),\n",
       " ('for', 'IN'),\n",
       " ('a', 'DT'),\n",
       " ('walk', 'NN'),\n",
       " ('.', '.')]"
      ]
     },
     "execution_count": 74,
     "metadata": {},
     "output_type": "execute_result"
    }
   ],
   "source": [
    "text = \"Although it was raining, we decided to go for a walk.\"\n",
    "\n",
    "tokens = word_tokenize(text)\n",
    "\n",
    "tagged_tokens = nltk.pos_tag(tokens)    \n",
    "\n",
    "tagged_tokens"
   ]
  },
  {
   "cell_type": "markdown",
   "metadata": {},
   "source": [
    "### Imperative with a direct object "
   ]
  },
  {
   "cell_type": "code",
   "execution_count": 76,
   "metadata": {},
   "outputs": [
    {
     "data": {
      "text/plain": [
       "[('Please', 'NNP'),\n",
       " ('pass', 'VB'),\n",
       " ('me', 'PRP'),\n",
       " ('the', 'DT'),\n",
       " ('salt', 'NN'),\n",
       " ('.', '.')]"
      ]
     },
     "execution_count": 76,
     "metadata": {},
     "output_type": "execute_result"
    }
   ],
   "source": [
    "text = \"Please pass me the salt.\"\n",
    "tokens = word_tokenize(text)\n",
    "\n",
    "tagged_tokens = nltk.pos_tag(tokens)    \n",
    "\n",
    "tagged_tokens"
   ]
  },
  {
   "cell_type": "markdown",
   "metadata": {},
   "source": [
    "### Conditional and Future "
   ]
  },
  {
   "cell_type": "code",
   "execution_count": 77,
   "metadata": {},
   "outputs": [
    {
     "data": {
      "text/plain": [
       "[('If', 'IN'),\n",
       " ('she', 'PRP'),\n",
       " ('arrives', 'VBZ'),\n",
       " ('late', 'RB'),\n",
       " (',', ','),\n",
       " ('we', 'PRP'),\n",
       " ('will', 'MD'),\n",
       " ('start', 'VB'),\n",
       " ('without', 'IN'),\n",
       " ('her', 'PRP'),\n",
       " ('.', '.')]"
      ]
     },
     "execution_count": 77,
     "metadata": {},
     "output_type": "execute_result"
    }
   ],
   "source": [
    "text = \"If she arrives late, we will start without her.\"\n",
    "\n",
    "tokens = word_tokenize(text)\n",
    "\n",
    "tagged_tokens = nltk.pos_tag(tokens)    \n",
    "\n",
    "tagged_tokens"
   ]
  },
  {
   "cell_type": "markdown",
   "metadata": {},
   "source": [
    "### Use of Multiple Adjectives "
   ]
  },
  {
   "cell_type": "code",
   "execution_count": 78,
   "metadata": {},
   "outputs": [
    {
     "data": {
      "text/plain": [
       "[('The', 'DT'),\n",
       " ('tall', 'NN'),\n",
       " (',', ','),\n",
       " ('dark', 'JJ'),\n",
       " ('figure', 'NN'),\n",
       " ('stood', 'VBD'),\n",
       " ('silently', 'RB'),\n",
       " ('in', 'IN'),\n",
       " ('the', 'DT'),\n",
       " ('doorway', 'NN'),\n",
       " ('.', '.')]"
      ]
     },
     "execution_count": 78,
     "metadata": {},
     "output_type": "execute_result"
    }
   ],
   "source": [
    "text = \"The tall, dark figure stood silently in the doorway.\"\n",
    "\n",
    "tokens = word_tokenize(text)\n",
    "\n",
    "tagged_tokens = nltk.pos_tag(tokens)    \n",
    "\n",
    "tagged_tokens"
   ]
  },
  {
   "cell_type": "markdown",
   "metadata": {},
   "source": [
    "1. Context Sensitivity\n",
    "Limited Context: POS taggers typically look at a limited context around each word to determine its tag. If the surrounding context is ambiguous or not indicative of the typical usage of a word, the tagger might assign an incorrect tag.\n",
    "Model Limitations: Many POS taggers are based on statistical models that use probabilities derived from training data. If the training data doesn't include sufficient examples of a word being used in a particular way, the tagger might not learn to tag it correctly in all contexts.\n",
    "2. Homonyms and Homographs\n",
    "Words that are spelled the same but have different meanings in different contexts (homographs) can confuse POS taggers. For example, \"lead\" (to go in front) vs. \"lead\" (a metal).\n",
    "3. Tagging Accuracy\n",
    "Most POS taggers, including the commonly used models in NLTK (like the averaged_perceptron_tagger), have accuracies in the range of 95-97%. This means they still make mistakes in some cases.\n",
    "4. Complex Sentences\n",
    "Sentences with complex structures, multiple clauses, or embedded phrases can challenge taggers, especially if the syntactic structure influences the role of words in unusual ways.\n",
    "5. Fixed Tag Sets\n",
    "Most taggers use a fixed set of tags, which might not include all possible uses of a word across different dialects, technical fields, or modern slang.\n",
    "6. Training Data Bias\n",
    "The performance of a POS tagger is heavily dependent on the corpus it was trained on. If the training data does not reflect the diversity of language use across different domains or registers, the tagger might perform poorly on text that diverges from the training data.\n",
    "7. Rare and Neologisms\n",
    "New words or rare words might not be recognized properly by the tagger if they were not present in the training data."
   ]
  },
  {
   "cell_type": "markdown",
   "metadata": {},
   "source": [
    "`Corrected Version`"
   ]
  },
  {
   "cell_type": "code",
   "execution_count": 79,
   "metadata": {},
   "outputs": [
    {
     "name": "stdout",
     "output_type": "stream",
     "text": [
      "[('The', 'DT'), ('tall', 'JJ'), ('man', 'NN'), ('walked', 'VBD'), ('quickly', 'RB'), ('.', '.')]\n"
     ]
    }
   ],
   "source": [
    "import nltk\n",
    "from nltk.tokenize import word_tokenize\n",
    "\n",
    "# Example text where \"tall\" should be an adjective\n",
    "text = \"The tall man walked quickly.\"\n",
    "tokens = word_tokenize(text)\n",
    "tagged_tokens = nltk.pos_tag(tokens)\n",
    "print(tagged_tokens)\n"
   ]
  },
  {
   "cell_type": "markdown",
   "metadata": {},
   "source": [
    "`Using Another Model`"
   ]
  },
  {
   "cell_type": "code",
   "execution_count": 81,
   "metadata": {},
   "outputs": [
    {
     "name": "stdout",
     "output_type": "stream",
     "text": [
      "[('The', 'DET'), ('tall', 'ADJ'), (',', 'PUNCT'), ('dark', 'ADJ'), ('figure', 'NOUN'), ('stood', 'VERB'), ('silently', 'ADV'), ('in', 'ADP'), ('the', 'DET'), ('doorway', 'NOUN'), ('.', 'PUNCT')]\n"
     ]
    }
   ],
   "source": [
    "import spacy\n",
    "\n",
    "nlp = spacy.load('en_core_web_sm')  \n",
    "doc = nlp(\"The tall, dark figure stood silently in the doorway.\")\n",
    "print([(token.text, token.pos_) for token in doc])"
   ]
  },
  {
   "cell_type": "markdown",
   "metadata": {},
   "source": [
    "### Scientific Explanation "
   ]
  },
  {
   "cell_type": "code",
   "execution_count": 82,
   "metadata": {},
   "outputs": [
    {
     "data": {
      "text/plain": [
       "[('Photosynthesis', 'NN'),\n",
       " ('is', 'VBZ'),\n",
       " ('a', 'DT'),\n",
       " ('process', 'NN'),\n",
       " ('used', 'VBN'),\n",
       " ('by', 'IN'),\n",
       " ('plants', 'NNS'),\n",
       " ('and', 'CC'),\n",
       " ('other', 'JJ'),\n",
       " ('organisms', 'NNS'),\n",
       " ('to', 'TO'),\n",
       " ('convert', 'VB'),\n",
       " ('light', 'JJ'),\n",
       " ('energy', 'NN'),\n",
       " ('into', 'IN'),\n",
       " ('chemical', 'JJ'),\n",
       " ('energy', 'NN'),\n",
       " ('that', 'WDT'),\n",
       " ('can', 'MD'),\n",
       " ('later', 'RB'),\n",
       " ('be', 'VB'),\n",
       " ('released', 'VBN'),\n",
       " ('to', 'TO'),\n",
       " ('fuel', 'VB'),\n",
       " ('the', 'DT'),\n",
       " ('organisms', 'NNS'),\n",
       " (\"'\", 'POS'),\n",
       " ('activities', 'NNS'),\n",
       " ('.', '.')]"
      ]
     },
     "execution_count": 82,
     "metadata": {},
     "output_type": "execute_result"
    }
   ],
   "source": [
    "text = \"Photosynthesis is a process used by plants and other organisms to convert light energy into chemical energy that can later be released to fuel the organisms' activities.\"\n",
    "\n",
    "tokens = word_tokenize(text)\n",
    "\n",
    "tagged_tokens = nltk.pos_tag(tokens)    \n",
    "\n",
    "tagged_tokens"
   ]
  },
  {
   "cell_type": "markdown",
   "metadata": {},
   "source": [
    "### Formal Announcement"
   ]
  },
  {
   "cell_type": "code",
   "execution_count": 83,
   "metadata": {},
   "outputs": [
    {
     "data": {
      "text/plain": [
       "[('The', 'DT'),\n",
       " ('president', 'NN'),\n",
       " ('will', 'MD'),\n",
       " ('address', 'VB'),\n",
       " ('the', 'DT'),\n",
       " ('nation', 'NN'),\n",
       " ('tomorrow', 'NN'),\n",
       " ('evening', 'VBG'),\n",
       " ('at', 'IN'),\n",
       " ('eight', 'CD'),\n",
       " (\"o'clock\", 'NN'),\n",
       " ('.', '.')]"
      ]
     },
     "execution_count": 83,
     "metadata": {},
     "output_type": "execute_result"
    }
   ],
   "source": [
    "text = \"The president will address the nation tomorrow evening at eight o'clock.\"\n",
    "\n",
    "tokens = word_tokenize(text)\n",
    "\n",
    "tagged_tokens = nltk.pos_tag(tokens)    \n",
    "\n",
    "tagged_tokens"
   ]
  },
  {
   "cell_type": "code",
   "execution_count": null,
   "metadata": {},
   "outputs": [],
   "source": []
  }
 ],
 "metadata": {
  "kernelspec": {
   "display_name": "myenv",
   "language": "python",
   "name": "python3"
  },
  "language_info": {
   "codemirror_mode": {
    "name": "ipython",
    "version": 3
   },
   "file_extension": ".py",
   "mimetype": "text/x-python",
   "name": "python",
   "nbconvert_exporter": "python",
   "pygments_lexer": "ipython3",
   "version": "3.11.9"
  }
 },
 "nbformat": 4,
 "nbformat_minor": 2
}
