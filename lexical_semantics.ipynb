{
 "cells": [
  {
   "cell_type": "markdown",
   "metadata": {},
   "source": [
    "# Lexical Semantics"
   ]
  },
  {
   "cell_type": "markdown",
   "metadata": {
    "vscode": {
     "languageId": "plaintext"
    }
   },
   "source": [
    "## Lexims"
   ]
  },
  {
   "cell_type": "markdown",
   "metadata": {},
   "source": [
    "### A lexeme is the smallest unit of meaning in the lexicon of a language.\n",
    "### It represents a set of words that are forms of the same word, such as \"run,\" \"runs,\" \"ran,\" and \"running.\""
   ]
  },
  {
   "cell_type": "code",
   "execution_count": 39,
   "metadata": {},
   "outputs": [],
   "source": [
    "import spacy "
   ]
  },
  {
   "cell_type": "code",
   "execution_count": 40,
   "metadata": {},
   "outputs": [
    {
     "name": "stdout",
     "output_type": "stream",
     "text": [
      "She she\n",
      "is be\n",
      "running run\n",
      "and and\n",
      "he he\n",
      "ran run\n",
      "yesterday yesterday\n",
      ". .\n"
     ]
    }
   ],
   "source": [
    "nlp = spacy.load('en_core_web_sm')  \n",
    "doc = nlp(\"She is running and he ran yesterday.\")\n",
    "for token in doc: \n",
    "    print(token.text, token.lemma_)"
   ]
  },
  {
   "cell_type": "code",
   "execution_count": 41,
   "metadata": {},
   "outputs": [
    {
     "name": "stdout",
     "output_type": "stream",
     "text": [
      "A a\n",
      "lexicon lexicon\n",
      "is be\n",
      "the the\n",
      "vocabulary vocabulary\n",
      "of of\n",
      "a a\n",
      "language language\n",
      ", ,\n",
      "including include\n",
      "its its\n",
      "words word\n",
      "and and\n",
      "expressions expression\n",
      ". .\n",
      "It it\n",
      "contains contain\n",
      "information information\n",
      "about about\n",
      "the the\n",
      "syntactic syntactic\n",
      "properties property\n",
      ", ,\n",
      "meanings meaning\n",
      ", ,\n",
      "and and\n",
      "usages usage\n",
      "of of\n",
      "words word\n",
      ". .\n"
     ]
    }
   ],
   "source": [
    "nlp = spacy.load('en_core_web_sm')  \n",
    "doc = nlp(\"A lexicon is the vocabulary of a language, including its words and expressions. It contains information about the syntactic properties, meanings, and usages of words.\")\n",
    "for token in doc: \n",
    "    print(token.text, token.lemma_)"
   ]
  },
  {
   "cell_type": "markdown",
   "metadata": {},
   "source": [
    "## Lexicons"
   ]
  },
  {
   "cell_type": "code",
   "execution_count": 42,
   "metadata": {},
   "outputs": [
    {
     "name": "stdout",
     "output_type": "stream",
     "text": [
      "running VERB VBG ROOT\n"
     ]
    }
   ],
   "source": [
    "token = nlp(\"running\")[0]\n",
    "print(token.text, token.pos_, token.tag_, token.dep_)"
   ]
  },
  {
   "cell_type": "markdown",
   "metadata": {},
   "source": [
    "## Lexical Relations "
   ]
  },
  {
   "cell_type": "markdown",
   "metadata": {},
   "source": [
    "### Lexical relations describe how words are related to each other within a language, including synonyms, antonyms, hypernyms, hyponyms, meronyms, and holonyms."
   ]
  },
  {
   "cell_type": "code",
   "execution_count": 43,
   "metadata": {},
   "outputs": [
    {
     "name": "stdout",
     "output_type": "stream",
     "text": [
      "Synset('love.n.01') ['love']\n",
      "Synset('love.n.02') ['love', 'passion']\n",
      "Synset('beloved.n.01') ['beloved', 'dear', 'dearest', 'honey', 'love']\n",
      "Synset('love.n.04') ['love', 'sexual_love', 'erotic_love']\n",
      "Synset('love.n.05') ['love']\n",
      "Synset('sexual_love.n.02') ['sexual_love', 'lovemaking', 'making_love', 'love', 'love_life']\n",
      "Synset('love.v.01') ['love']\n",
      "Synset('love.v.02') ['love', 'enjoy']\n",
      "Synset('love.v.03') ['love']\n",
      "Synset('sleep_together.v.01') ['sleep_together', 'roll_in_the_hay', 'love', 'make_out', 'make_love', 'sleep_with', 'get_laid', 'have_sex', 'know', 'do_it', 'be_intimate', 'have_intercourse', 'have_it_away', 'have_it_off', 'screw', 'fuck', 'jazz', 'eff', 'hump', 'lie_with', 'bed', 'have_a_go_at_it', 'bang', 'get_it_on', 'bonk']\n"
     ]
    }
   ],
   "source": [
    "from nltk.corpus import wordnet as wn\n",
    "synonyms = wn.synsets('love')\n",
    "for syn in synonyms:\n",
    "    print(syn, syn.lemma_names())"
   ]
  },
  {
   "cell_type": "code",
   "execution_count": 44,
   "metadata": {},
   "outputs": [
    {
     "name": "stdout",
     "output_type": "stream",
     "text": [
      "Synset('married.n.01') ['married']\n",
      "Synset('marry.v.01') ['marry', 'get_married', 'wed', 'conjoin', 'hook_up_with', 'get_hitched_with', 'espouse']\n",
      "Synset('marry.v.02') ['marry', 'wed', 'tie', 'splice']\n",
      "Synset('married.a.01') ['married']\n",
      "Synset('marital.a.01') ['marital', 'matrimonial', 'married']\n"
     ]
    }
   ],
   "source": [
    "synonyms = wn.synsets('married')\n",
    "for syn in synonyms:\n",
    "    print(syn, syn.lemma_names())"
   ]
  },
  {
   "cell_type": "code",
   "execution_count": 45,
   "metadata": {},
   "outputs": [
    {
     "name": "stdout",
     "output_type": "stream",
     "text": [
      "Synset('plagiarism.n.01') ['plagiarism']\n",
      "Synset('plagiarism.n.02') ['plagiarism', 'plagiarization', 'plagiarisation', 'piracy']\n"
     ]
    }
   ],
   "source": [
    "synonyms = wn.synsets('plagiarism')\n",
    "for syn in synonyms:\n",
    "    print(syn, syn.lemma_names())"
   ]
  },
  {
   "cell_type": "code",
   "execution_count": 46,
   "metadata": {},
   "outputs": [
    {
     "name": "stdout",
     "output_type": "stream",
     "text": [
      "Synset('large.a.01') ['large', 'big']\n",
      "Synset('big.s.02') ['big']\n",
      "Synset('bad.s.02') ['bad', 'big']\n",
      "Synset('big.s.04') ['big']\n",
      "Synset('big.s.05') ['big', 'large', 'prominent']\n",
      "Synset('big.s.06') ['big', 'heavy']\n",
      "Synset('boastful.s.01') ['boastful', 'braggart', 'bragging', 'braggy', 'big', 'cock-a-hoop', 'crowing', 'self-aggrandizing', 'self-aggrandising']\n",
      "Synset('big.s.08') ['big', 'swelled', 'vainglorious']\n",
      "Synset('adult.s.01') ['adult', 'big', 'full-grown', 'fully_grown', 'grown', 'grownup']\n",
      "Synset('big.s.10') ['big']\n",
      "Synset('big.s.11') ['big', 'large', 'magnanimous']\n",
      "Synset('big.s.12') ['big', 'bighearted', 'bounteous', 'bountiful', 'freehanded', 'handsome', 'giving', 'liberal', 'openhanded']\n",
      "Synset('big.s.13') ['big', 'enceinte', 'expectant', 'gravid', 'great', 'large', 'heavy', 'with_child']\n",
      "Synset('big.r.01') ['big']\n",
      "Synset('boastfully.r.01') ['boastfully', 'vauntingly', 'big', 'large']\n",
      "Synset('big.r.03') ['big']\n",
      "Synset('big.r.04') ['big']\n"
     ]
    }
   ],
   "source": [
    "synonyms = wn.synsets('big')\n",
    "for syn in synonyms:\n",
    "    print(syn, syn.lemma_names())"
   ]
  },
  {
   "cell_type": "code",
   "execution_count": 47,
   "metadata": {},
   "outputs": [
    {
     "name": "stdout",
     "output_type": "stream",
     "text": [
      "Synset('ambiguity.n.01') ['ambiguity']\n",
      "Synset('ambiguity.n.02') ['ambiguity', 'equivocalness']\n"
     ]
    }
   ],
   "source": [
    "synonyms = wn.synsets('ambiguity')\n",
    "for syn in synonyms:\n",
    "    print(syn, syn.lemma_names())"
   ]
  },
  {
   "cell_type": "code",
   "execution_count": 48,
   "metadata": {},
   "outputs": [
    {
     "name": "stdout",
     "output_type": "stream",
     "text": [
      "Synset('nepal.n.01') ['Nepal', 'Kingdom_of_Nepal']\n"
     ]
    }
   ],
   "source": [
    "synonyms = wn.synsets('nepal')\n",
    "for syn in synonyms:\n",
    "    print(syn, syn.lemma_names())"
   ]
  },
  {
   "cell_type": "markdown",
   "metadata": {},
   "source": [
    "## WordNet (Lexical Database)"
   ]
  },
  {
   "cell_type": "code",
   "execution_count": 49,
   "metadata": {},
   "outputs": [
    {
     "name": "stdout",
     "output_type": "stream",
     "text": [
      "Synset('love.n.01') a strong positive emotion of regard and affection\n",
      "Synset('love.n.02') any object of warm affection or devotion\n",
      "Synset('beloved.n.01') a beloved person; used as terms of endearment\n",
      "Synset('love.n.04') a deep feeling of sexual desire and attraction\n",
      "Synset('love.n.05') a score of zero in tennis or squash\n",
      "Synset('sexual_love.n.02') sexual activities (often including sexual intercourse) between two people\n",
      "Synset('love.v.01') have a great affection or liking for\n",
      "Synset('love.v.02') get pleasure from\n",
      "Synset('love.v.03') be enamored or in love with\n",
      "Synset('sleep_together.v.01') have sexual intercourse with\n"
     ]
    }
   ],
   "source": [
    "from nltk.corpus import wordnet as wn\n",
    "synsets = wn.synsets('love')\n",
    "for syn in synsets:\n",
    "    print(syn, syn.definition())"
   ]
  },
  {
   "cell_type": "code",
   "execution_count": 50,
   "metadata": {},
   "outputs": [
    {
     "name": "stdout",
     "output_type": "stream",
     "text": [
      "Synset('bark.n.01') tough protective covering of the woody stems and roots of trees and other woody plants\n",
      "Synset('bark.n.02') a noise resembling the bark of a dog\n",
      "Synset('bark.n.03') a sailing ship with 3 (or more) masts\n",
      "Synset('bark.n.04') the sound made by a dog\n",
      "Synset('bark.v.01') speak in an unfriendly tone\n",
      "Synset('bark.v.02') cover with bark\n",
      "Synset('bark.v.03') remove the bark of a tree\n",
      "Synset('bark.v.04') make barking sounds\n",
      "Synset('bark.v.05') tan (a skin) with bark tannins\n"
     ]
    }
   ],
   "source": [
    "from nltk.corpus import wordnet as wn \n",
    "synsets = wn.synsets('bark')\n",
    "for syn in synsets:\n",
    "    print(syn, syn.definition())    "
   ]
  },
  {
   "cell_type": "code",
   "execution_count": 51,
   "metadata": {},
   "outputs": [
    {
     "name": "stdout",
     "output_type": "stream",
     "text": [
      "Synset('bank.n.01') sloping land (especially the slope beside a body of water)\n",
      "Synset('depository_financial_institution.n.01') a financial institution that accepts deposits and channels the money into lending activities\n",
      "Synset('bank.n.03') a long ridge or pile\n",
      "Synset('bank.n.04') an arrangement of similar objects in a row or in tiers\n",
      "Synset('bank.n.05') a supply or stock held in reserve for future use (especially in emergencies)\n",
      "Synset('bank.n.06') the funds held by a gambling house or the dealer in some gambling games\n",
      "Synset('bank.n.07') a slope in the turn of a road or track; the outside is higher than the inside in order to reduce the effects of centrifugal force\n",
      "Synset('savings_bank.n.02') a container (usually with a slot in the top) for keeping money at home\n",
      "Synset('bank.n.09') a building in which the business of banking transacted\n",
      "Synset('bank.n.10') a flight maneuver; aircraft tips laterally about its longitudinal axis (especially in turning)\n",
      "Synset('bank.v.01') tip laterally\n",
      "Synset('bank.v.02') enclose with a bank\n",
      "Synset('bank.v.03') do business with a bank or keep an account at a bank\n",
      "Synset('bank.v.04') act as the banker in a game or in gambling\n",
      "Synset('bank.v.05') be in the banking business\n",
      "Synset('deposit.v.02') put into a bank account\n",
      "Synset('bank.v.07') cover with ashes so to control the rate of burning\n",
      "Synset('trust.v.01') have confidence or faith in\n"
     ]
    }
   ],
   "source": [
    "from nltk.corpus import wordnet as wn \n",
    "synsets = wn.synsets('bank')\n",
    "for syn in synsets:\n",
    "    print(syn, syn.definition())    "
   ]
  },
  {
   "cell_type": "code",
   "execution_count": 52,
   "metadata": {},
   "outputs": [
    {
     "name": "stdout",
     "output_type": "stream",
     "text": [
      "Synset('practice.n.01') a customary way of operation or behavior\n",
      "Synset('exercise.n.03') systematic training by multiple repetitions\n",
      "Synset('practice.n.03') translating an idea into action\n",
      "Synset('practice.n.04') the exercise of a profession\n",
      "Synset('practice.n.05') knowledge of how something is usually done\n",
      "Synset('practice.v.01') carry out or practice; as of jobs and professions\n",
      "Synset('drill.v.03') learn by repetition\n",
      "Synset('rehearse.v.01') engage in a rehearsal (of)\n",
      "Synset('practice.v.04') avail oneself to\n",
      "Synset('commit.v.06') engage in or perform\n"
     ]
    }
   ],
   "source": [
    "from nltk.corpus import wordnet as wn \n",
    "synsets = wn.synsets('practice')\n",
    "for syn in synsets:\n",
    "    print(syn, syn.definition())  "
   ]
  },
  {
   "cell_type": "code",
   "execution_count": 53,
   "metadata": {},
   "outputs": [
    {
     "name": "stdout",
     "output_type": "stream",
     "text": [
      "Synset('bat.n.01') nocturnal mouselike mammal with forelimbs modified to form membranous wings and anatomical adaptations for echolocation by which they navigate\n",
      "Synset('bat.n.02') (baseball) a turn trying to get a hit\n",
      "Synset('squash_racket.n.01') a small racket with a long handle used for playing squash\n",
      "Synset('cricket_bat.n.01') the club used in playing cricket\n",
      "Synset('bat.n.05') a club used for hitting a ball in various games\n",
      "Synset('bat.v.01') strike with, or as if with a baseball bat\n",
      "Synset('bat.v.02') wink briefly\n",
      "Synset('bat.v.03') have a turn at bat\n",
      "Synset('bat.v.04') use a bat\n",
      "Synset('cream.v.02') beat thoroughly and conclusively in a competition or fight\n"
     ]
    }
   ],
   "source": [
    "from nltk.corpus import wordnet as wn \n",
    "synsets = wn.synsets('bat')\n",
    "for syn in synsets:\n",
    "    print(syn, syn.definition())  "
   ]
  },
  {
   "cell_type": "markdown",
   "metadata": {},
   "source": [
    "## Word Sense Disambiguation (WSD)"
   ]
  },
  {
   "cell_type": "markdown",
   "metadata": {},
   "source": [
    "`WSD is the process of identifying which sense of a word is used in a sentence when the word has multiple meanings.`"
   ]
  },
  {
   "cell_type": "code",
   "execution_count": 54,
   "metadata": {},
   "outputs": [
    {
     "name": "stdout",
     "output_type": "stream",
     "text": [
      "Synset('depository_financial_institution.n.01') a financial institution that accepts deposits and channels the money into lending activities\n"
     ]
    }
   ],
   "source": [
    "from nltk.wsd import lesk\n",
    "sentence = \"The bank can guarantee deposits will eventually cover future tuition costs.\"\n",
    "sense = lesk(sentence.split(), 'bank')\n",
    "print(sense, sense.definition())"
   ]
  },
  {
   "cell_type": "markdown",
   "metadata": {},
   "source": [
    "--------------"
   ]
  },
  {
   "cell_type": "code",
   "execution_count": 70,
   "metadata": {},
   "outputs": [],
   "source": [
    "import nltk"
   ]
  },
  {
   "cell_type": "code",
   "execution_count": 74,
   "metadata": {},
   "outputs": [
    {
     "name": "stdout",
     "output_type": "stream",
     "text": [
      "Synset('sea_bass.n.01') the lean flesh of a saltwater fish of the family Serranidae\n"
     ]
    }
   ],
   "source": [
    "from nltk.wsd import lesk\n",
    "sentence = \"He caught a bass in the river.\"\n",
    "sense = lesk(nltk.word_tokenize(sentence), 'bass')\n",
    "print(sense, sense.definition())"
   ]
  },
  {
   "cell_type": "code",
   "execution_count": 76,
   "metadata": {},
   "outputs": [
    {
     "name": "stdout",
     "output_type": "stream",
     "text": [
      "Synset('sea_bass.n.01') the lean flesh of a saltwater fish of the family Serranidae\n"
     ]
    }
   ],
   "source": [
    "sentence = \"The bass guitar has a deep sound.\"\n",
    "sense = lesk(nltk.word_tokenize(sentence), 'bass')\n",
    "print(sense, sense.definition())"
   ]
  },
  {
   "cell_type": "markdown",
   "metadata": {},
   "source": [
    "----------------------"
   ]
  },
  {
   "cell_type": "markdown",
   "metadata": {},
   "source": [
    "## The 'Bank'"
   ]
  },
  {
   "cell_type": "code",
   "execution_count": 77,
   "metadata": {},
   "outputs": [
    {
     "name": "stdout",
     "output_type": "stream",
     "text": [
      "Synset('savings_bank.n.02') a container (usually with a slot in the top) for keeping money at home\n"
     ]
    }
   ],
   "source": [
    "sentence = \"She went to the bank to withdraw some money.\"\n",
    "sense = lesk(nltk.word_tokenize(sentence), 'bank')\n",
    "print(sense, sense.definition())\n"
   ]
  },
  {
   "cell_type": "code",
   "execution_count": 78,
   "metadata": {},
   "outputs": [
    {
     "name": "stdout",
     "output_type": "stream",
     "text": [
      "Synset('savings_bank.n.02') a container (usually with a slot in the top) for keeping money at home\n"
     ]
    }
   ],
   "source": [
    "sentence = \"The river bank was flooded after the storm.\"\n",
    "sense = lesk(nltk.word_tokenize(sentence), 'bank')\n",
    "print(sense, sense.definition())\n"
   ]
  },
  {
   "cell_type": "markdown",
   "metadata": {},
   "source": [
    "## 'plant'"
   ]
  },
  {
   "cell_type": "code",
   "execution_count": 79,
   "metadata": {},
   "outputs": [
    {
     "name": "stdout",
     "output_type": "stream",
     "text": [
      "Synset('plant.n.03') an actor situated in the audience whose acting is rehearsed but seems spontaneous to the audience\n"
     ]
    }
   ],
   "source": [
    "sentence = \"The chemical plant had to be shut down due to an accident.\"\n",
    "sense = lesk(nltk.word_tokenize(sentence), 'plant')\n",
    "print(sense, sense.definition())\n"
   ]
  },
  {
   "cell_type": "code",
   "execution_count": 80,
   "metadata": {},
   "outputs": [
    {
     "name": "stdout",
     "output_type": "stream",
     "text": [
      "Synset('plant.v.06') put firmly in the mind\n"
     ]
    }
   ],
   "source": [
    "sentence = \"She watered the plant every day.\"\n",
    "sense = lesk(nltk.word_tokenize(sentence), 'plant')\n",
    "print(sense, sense.definition())\n"
   ]
  },
  {
   "cell_type": "markdown",
   "metadata": {},
   "source": [
    "## 'bat'"
   ]
  },
  {
   "cell_type": "code",
   "execution_count": 81,
   "metadata": {},
   "outputs": [
    {
     "name": "stdout",
     "output_type": "stream",
     "text": [
      "Synset('cricket_bat.n.01') the club used in playing cricket\n"
     ]
    }
   ],
   "source": [
    "sentence = \"The bat flew out of the cave.\"\n",
    "sense = lesk(nltk.word_tokenize(sentence), 'bat')\n",
    "print(sense, sense.definition())\n"
   ]
  },
  {
   "cell_type": "code",
   "execution_count": 82,
   "metadata": {},
   "outputs": [
    {
     "name": "stdout",
     "output_type": "stream",
     "text": [
      "Synset('bat.v.01') strike with, or as if with a baseball bat\n"
     ]
    }
   ],
   "source": [
    "sentence = \"He hit the ball with a bat.\"\n",
    "sense = lesk(nltk.word_tokenize(sentence), 'bat')\n",
    "print(sense, sense.definition())\n"
   ]
  },
  {
   "cell_type": "markdown",
   "metadata": {},
   "source": [
    "## 'light'"
   ]
  },
  {
   "cell_type": "code",
   "execution_count": 83,
   "metadata": {},
   "outputs": [
    {
     "name": "stdout",
     "output_type": "stream",
     "text": [
      "Synset('light.n.07') the visual effect of illumination on objects or scenes as created in pictures\n"
     ]
    }
   ],
   "source": [
    "sentence = \"She turned on the light in the room.\"\n",
    "sense = lesk(nltk.word_tokenize(sentence), 'light')\n",
    "print(sense, sense.definition())\n"
   ]
  },
  {
   "cell_type": "code",
   "execution_count": 95,
   "metadata": {},
   "outputs": [
    {
     "name": "stdout",
     "output_type": "stream",
     "text": [
      "Synset('inner_light.n.01') a divine presence believed by Quakers to enlighten and guide the soul\n"
     ]
    }
   ],
   "source": [
    "sentence = \"He prefers to travel light, with just a backpack.\"\n",
    "sense = lesk(nltk.word_tokenize(sentence), 'light')\n",
    "print(sense, sense.definition())"
   ]
  },
  {
   "cell_type": "markdown",
   "metadata": {},
   "source": [
    "## 'leaves'"
   ]
  },
  {
   "cell_type": "code",
   "execution_count": 86,
   "metadata": {},
   "outputs": [
    {
     "name": "stdout",
     "output_type": "stream",
     "text": [
      "Synset('leave.n.01') the period of time during which you are absent from work or duty\n"
     ]
    }
   ],
   "source": [
    "sentence = \"He leaves for work at 8 AM every day.\"\n",
    "sense = lesk(nltk.word_tokenize(sentence), 'leaves')\n",
    "print(sense, sense.definition())\n"
   ]
  },
  {
   "cell_type": "code",
   "execution_count": 96,
   "metadata": {},
   "outputs": [
    {
     "name": "stdout",
     "output_type": "stream",
     "text": [
      "Synset('leaf.n.01') the main organ of photosynthesis and transpiration in higher plants\n"
     ]
    }
   ],
   "source": [
    "sentence = \"The leaves of the tree turned yellow in the fall.\"\n",
    "sense = lesk(nltk.word_tokenize(sentence), 'leaves')\n",
    "print(sense, sense.definition())"
   ]
  },
  {
   "cell_type": "markdown",
   "metadata": {},
   "source": [
    "## 'spring'"
   ]
  },
  {
   "cell_type": "code",
   "execution_count": 87,
   "metadata": {},
   "outputs": [
    {
     "name": "stdout",
     "output_type": "stream",
     "text": [
      "Synset('spring.n.01') the season of growth\n"
     ]
    }
   ],
   "source": [
    "sentence = \"The kids love to play in the spring season.\"\n",
    "sense = lesk(nltk.word_tokenize(sentence), 'spring')\n",
    "print(sense, sense.definition())\n"
   ]
  },
  {
   "cell_type": "code",
   "execution_count": 88,
   "metadata": {},
   "outputs": [
    {
     "name": "stdout",
     "output_type": "stream",
     "text": [
      "Synset('bounce.v.01') spring back; spring away from an impact\n"
     ]
    }
   ],
   "source": [
    "sentence = \"Water flowed from the natural spring.\"\n",
    "sense = lesk(nltk.word_tokenize(sentence), 'spring')\n",
    "print(sense, sense.definition())\n"
   ]
  },
  {
   "cell_type": "markdown",
   "metadata": {},
   "source": [
    "## 'right'"
   ]
  },
  {
   "cell_type": "code",
   "execution_count": 89,
   "metadata": {},
   "outputs": [
    {
     "name": "stdout",
     "output_type": "stream",
     "text": [
      "Synset('right_field.n.01') the piece of ground in the outfield on the catcher's right\n"
     ]
    }
   ],
   "source": [
    "sentence = \"Turn right at the next intersection.\"\n",
    "sense = lesk(nltk.word_tokenize(sentence), 'right')\n",
    "print(sense, sense.definition())\n"
   ]
  },
  {
   "cell_type": "code",
   "execution_count": 90,
   "metadata": {},
   "outputs": [
    {
     "name": "stdout",
     "output_type": "stream",
     "text": [
      "Synset('right.n.02') location near or direction toward the right side; i.e. the side to the south when a person or object faces east\n"
     ]
    }
   ],
   "source": [
    "sentence = \"Everyone has the right to free speech.\"\n",
    "sense = lesk(nltk.word_tokenize(sentence), 'right')\n",
    "print(sense, sense.definition())\n"
   ]
  },
  {
   "cell_type": "markdown",
   "metadata": {},
   "source": [
    "## 'match'"
   ]
  },
  {
   "cell_type": "code",
   "execution_count": 91,
   "metadata": {},
   "outputs": [
    {
     "name": "stdout",
     "output_type": "stream",
     "text": [
      "Synset('match.n.05') the score needed to win a match\n"
     ]
    }
   ],
   "source": [
    "sentence = \"She found a match to light the candle.\"\n",
    "sense = lesk(nltk.word_tokenize(sentence), 'match')\n",
    "print(sense, sense.definition())\n"
   ]
  },
  {
   "cell_type": "code",
   "execution_count": 92,
   "metadata": {},
   "outputs": [
    {
     "name": "stdout",
     "output_type": "stream",
     "text": [
      "Synset('match.n.05') the score needed to win a match\n"
     ]
    }
   ],
   "source": [
    "sentence = \"The match between the two teams was exciting.\"\n",
    "sense = lesk(nltk.word_tokenize(sentence), 'match')\n",
    "print(sense, sense.definition())\n"
   ]
  },
  {
   "cell_type": "markdown",
   "metadata": {},
   "source": [
    "## 'duck'"
   ]
  },
  {
   "cell_type": "code",
   "execution_count": 93,
   "metadata": {},
   "outputs": [
    {
     "name": "stdout",
     "output_type": "stream",
     "text": [
      "Synset('duck.n.03') flesh of a duck (domestic or wild)\n"
     ]
    }
   ],
   "source": [
    "sentence = \"The duck swam across the pond.\"\n",
    "sense = lesk(nltk.word_tokenize(sentence), 'duck')\n",
    "print(sense, sense.definition())"
   ]
  },
  {
   "cell_type": "code",
   "execution_count": 94,
   "metadata": {},
   "outputs": [
    {
     "name": "stdout",
     "output_type": "stream",
     "text": [
      "Synset('hedge.v.01') avoid or try to avoid fulfilling, answering, or performing (duties, questions, or issues)\n"
     ]
    }
   ],
   "source": [
    "sentence = \"He had to duck to avoid being hit by the ball.\"\n",
    "sense = lesk(nltk.word_tokenize(sentence), 'duck')\n",
    "print(sense, sense.definition())\n"
   ]
  },
  {
   "cell_type": "markdown",
   "metadata": {},
   "source": [
    "------------------------------"
   ]
  },
  {
   "cell_type": "markdown",
   "metadata": {},
   "source": [
    "### Word Similarity"
   ]
  },
  {
   "cell_type": "code",
   "execution_count": 58,
   "metadata": {},
   "outputs": [
    {
     "name": "stdout",
     "output_type": "stream",
     "text": [
      "0.6177120208740234\n"
     ]
    },
    {
     "name": "stderr",
     "output_type": "stream",
     "text": [
      "C:\\Users\\netra\\AppData\\Local\\Temp\\ipykernel_28792\\4190965340.py:3: UserWarning: [W007] The model you're using has no word vectors loaded, so the result of the Token.similarity method will be based on the tagger, parser and NER, which may not give useful similarity judgements. This may happen if you're using one of the small models, e.g. `en_core_web_sm`, which don't ship with word vectors and only use context-sensitive tensors. You can always add your own word vectors, or use one of the larger models instead if available.\n",
      "  print(token1.similarity(token2))\n"
     ]
    }
   ],
   "source": [
    "token1 = nlp(\"car\")[0]\n",
    "token2 = nlp(\"automobile\")[0]\n",
    "print(token1.similarity(token2))"
   ]
  },
  {
   "cell_type": "code",
   "execution_count": 59,
   "metadata": {},
   "outputs": [
    {
     "name": "stdout",
     "output_type": "stream",
     "text": [
      "0.7796082496643066\n"
     ]
    },
    {
     "name": "stderr",
     "output_type": "stream",
     "text": [
      "C:\\Users\\netra\\AppData\\Local\\Temp\\ipykernel_28792\\1783032197.py:3: UserWarning: [W007] The model you're using has no word vectors loaded, so the result of the Token.similarity method will be based on the tagger, parser and NER, which may not give useful similarity judgements. This may happen if you're using one of the small models, e.g. `en_core_web_sm`, which don't ship with word vectors and only use context-sensitive tensors. You can always add your own word vectors, or use one of the larger models instead if available.\n",
      "  print(token1.similarity(token2))\n"
     ]
    }
   ],
   "source": [
    "token1 = nlp(\"big\")[0]\n",
    "token2 = nlp(\"large\")[0]\n",
    "print(token1.similarity(token2))"
   ]
  },
  {
   "cell_type": "code",
   "execution_count": 60,
   "metadata": {},
   "outputs": [
    {
     "name": "stdout",
     "output_type": "stream",
     "text": [
      "0.8149476647377014\n"
     ]
    },
    {
     "name": "stderr",
     "output_type": "stream",
     "text": [
      "C:\\Users\\netra\\AppData\\Local\\Temp\\ipykernel_28792\\3851506318.py:3: UserWarning: [W007] The model you're using has no word vectors loaded, so the result of the Token.similarity method will be based on the tagger, parser and NER, which may not give useful similarity judgements. This may happen if you're using one of the small models, e.g. `en_core_web_sm`, which don't ship with word vectors and only use context-sensitive tensors. You can always add your own word vectors, or use one of the larger models instead if available.\n",
      "  print(token1.similarity(token2))\n"
     ]
    }
   ],
   "source": [
    "token1 = nlp(\"love\")[0]\n",
    "token2 = nlp(\"affection\")[0]\n",
    "print(token1.similarity(token2))"
   ]
  },
  {
   "cell_type": "code",
   "execution_count": 61,
   "metadata": {},
   "outputs": [
    {
     "name": "stdout",
     "output_type": "stream",
     "text": [
      "0.40963008999824524\n"
     ]
    },
    {
     "name": "stderr",
     "output_type": "stream",
     "text": [
      "C:\\Users\\netra\\AppData\\Local\\Temp\\ipykernel_28792\\2661819100.py:3: UserWarning: [W007] The model you're using has no word vectors loaded, so the result of the Token.similarity method will be based on the tagger, parser and NER, which may not give useful similarity judgements. This may happen if you're using one of the small models, e.g. `en_core_web_sm`, which don't ship with word vectors and only use context-sensitive tensors. You can always add your own word vectors, or use one of the larger models instead if available.\n",
      "  print(word1.similarity(word2))\n"
     ]
    }
   ],
   "source": [
    "word1 = nlp(\"Furnish\")[0]\n",
    "word2 = nlp(\"equip\")[0]\n",
    "print(word1.similarity(word2))"
   ]
  },
  {
   "cell_type": "code",
   "execution_count": 62,
   "metadata": {},
   "outputs": [
    {
     "name": "stdout",
     "output_type": "stream",
     "text": [
      "0.09377171263603526\n"
     ]
    },
    {
     "name": "stderr",
     "output_type": "stream",
     "text": [
      "C:\\Users\\netra\\AppData\\Local\\Temp\\ipykernel_28792\\3560404398.py:3: UserWarning: [W007] The model you're using has no word vectors loaded, so the result of the Token.similarity method will be based on the tagger, parser and NER, which may not give useful similarity judgements. This may happen if you're using one of the small models, e.g. `en_core_web_sm`, which don't ship with word vectors and only use context-sensitive tensors. You can always add your own word vectors, or use one of the larger models instead if available.\n",
      "  print(word1.similarity(word2))\n"
     ]
    }
   ],
   "source": [
    "word1 = nlp(\"Furnish\")[0]\n",
    "word2 = nlp(\"[[provide], [offer], [afford], [give], [equip], [grant], [replenish]]\")\n",
    "print(word1.similarity(word2))"
   ]
  },
  {
   "cell_type": "markdown",
   "metadata": {},
   "source": [
    "## Vector Semantics "
   ]
  },
  {
   "cell_type": "markdown",
   "metadata": {},
   "source": [
    "### Vector semantics represent words as vectors in a high-dimensional space, capturing their meanings based on the context they appear in."
   ]
  },
  {
   "cell_type": "code",
   "execution_count": 97,
   "metadata": {},
   "outputs": [
    {
     "name": "stdout",
     "output_type": "stream",
     "text": [
      "The [ 0.81509054 -0.32198358  0.6265458   1.5712924  -0.64950514  0.10411583\n",
      " -1.2337358  -0.09840313 -0.7147306   1.1976016   2.1092858   1.6130346\n",
      " -0.3255603  -0.10818994 -0.554604   -0.9375833  -0.9329753   1.7877439\n",
      " -1.3869371  -0.3296978  -1.4456661  -0.41869608 -0.97110254 -1.3069153\n",
      "  1.3849475  -0.20401183  1.2894576   0.30058974  0.05159023  0.9078096\n",
      "  1.3101169  -1.081714    1.0761732  -1.5438899   0.1786359   1.0685904\n",
      "  0.5189685  -0.68061626  0.35116792  2.77146    -1.511271    0.79204845\n",
      " -1.254946    0.22101155 -1.125068    0.02544989 -0.39643008  1.3714895\n",
      "  0.26509082  1.2452883  -0.76998955  0.3030273   0.17006868  0.96309704\n",
      "  0.57846975  0.47396427 -0.92994976  1.6480184  -0.54359293  0.2771799\n",
      " -0.9940381   0.11064211 -0.533097   -0.4616582   0.5294682  -0.17385483\n",
      " -0.12964739 -1.7433332  -1.1369914  -0.51788247 -0.07437868  1.2464186\n",
      "  0.1293999   0.89940274 -0.28934675 -1.5084343   0.39196053 -0.34326893\n",
      "  0.18210533  0.03142613 -0.26547265 -1.0457382  -0.41411185 -1.9734361\n",
      "  2.52715     0.47394192  0.6860481  -0.09803948  0.59237957 -0.07559571\n",
      " -0.18078196 -0.9542556  -0.04175054 -0.47642472 -0.7420277   0.0472651 ]\n",
      "quick [ 0.82337105 -1.1887456   0.939326    1.1702602   0.2662807  -0.00492298\n",
      " -0.36061263 -0.858011   -0.33466592 -0.6535291   0.18827909  0.17926967\n",
      " -1.4565992  -0.36418533 -0.4511209   0.37738103  0.61006397 -0.07231134\n",
      " -1.2368598  -0.62874734 -0.3116253   0.9800496   0.2563344  -0.04945164\n",
      " -0.48900503  0.27080703  0.15849334  0.43778494  0.7010016   0.6340735\n",
      "  1.3181133  -1.6765475   0.40698338 -0.50842017 -0.37611067  0.94424045\n",
      "  0.68666446 -0.43210956  0.8014731   0.43392518 -1.2530909   1.948536\n",
      "  0.6037346  -0.36496255  0.20176548 -0.4721672   0.05903544  0.13692625\n",
      " -1.0058577   0.5550028  -1.0366689   2.8081017  -1.1433715   0.22630477\n",
      " -0.69464326  0.6895536   1.2631425   0.61054987 -0.7272148   0.78721946\n",
      " -0.92246675 -1.0502335   0.13827184 -0.71855295 -0.79148406 -0.39886716\n",
      "  0.08430994  0.7948519  -0.07607937 -0.32952267 -0.0038721   0.5241901\n",
      "  0.43011677  0.4032744   0.20027588 -0.85637134 -0.4653954  -1.5217285\n",
      "  0.0474461  -0.2872277  -0.85267544 -0.47557795  0.11851835  0.68980205\n",
      " -1.253273    0.26893553 -0.8539057   0.5355695  -0.28690016  0.80864865\n",
      "  1.4883907   0.10143647  1.2440503   0.49725232 -1.0457793  -0.25672975]\n",
      "brown [ 1.1416955  -1.0569009  -0.3596752   0.7157223   0.2409343   0.31787303\n",
      " -0.22365636 -0.18114743  0.45945358 -0.3327719  -0.6388435   0.61688435\n",
      " -0.8300518  -1.8574262  -0.03352373  0.28106928  0.40763295 -0.03069383\n",
      " -0.8847108  -0.45181084 -0.61179817  0.4956436   0.57094795  0.17058405\n",
      " -0.19947538 -0.14463124  0.10464978 -0.06905681  0.3500464  -0.11188585\n",
      "  1.36892    -0.45209357 -0.31518763 -0.4016741  -0.3155033   1.1674572\n",
      "  0.9303513  -0.11329949 -1.2712268   1.1628709  -0.79956174  0.6761886\n",
      "  0.48286974  0.41965628  0.74034846 -0.89543855 -0.5395386   0.61511785\n",
      " -0.68344826  0.6708026  -0.7752569   2.0553806  -0.89332294 -0.30012113\n",
      " -1.1642554   0.81997883 -0.30026248  0.29070777 -0.884914    0.45478258\n",
      " -0.8876547  -0.86900735  0.9344715  -0.3965981  -1.142417    0.20799735\n",
      "  0.53859186  1.2395813   0.11595776 -0.36475194  0.17668861  0.24283825\n",
      " -0.30908227 -0.7047255  -0.37712526 -1.0468508  -0.02593084 -1.3740354\n",
      " -0.09169086 -0.8734477  -0.5743949   0.20213932 -1.0557493   0.6135677\n",
      " -0.9479996   0.36042178  0.05264987 -0.6319062  -0.22460136 -0.19762832\n",
      "  0.62615854  1.139535    1.3938969   0.31117657  0.08275819  0.8833256 ]\n",
      "fox [-0.4558109  -0.84515333 -0.03697798  0.48024255 -0.50914353  0.7484179\n",
      "  2.0006614   0.963182    0.41709778  0.4637887   0.5309798   0.2045347\n",
      " -0.6900859  -0.8092799  -0.7165711   0.6978809   0.07902706 -0.37710038\n",
      " -0.16490644  0.3236934   0.69569135 -0.46658573  0.31487966 -0.3023831\n",
      " -0.71881515  0.15976286  0.61975473  0.6381784   1.1311675  -0.04837397\n",
      " -0.20718944 -0.23503596 -0.89177847  0.22835161 -0.3679831  -0.49938977\n",
      "  0.77738833 -0.02822274 -0.7588555   0.43437105 -0.6292515  -0.45456636\n",
      "  0.555915    1.4614431  -0.03977591  0.09650099  0.4579927   0.8369253\n",
      "  0.01218021 -0.24835187 -0.9260235   0.5652147   1.0631884  -0.9194881\n",
      " -0.37895173  0.42179084  0.30272856  0.33133668 -0.50042593 -0.23337294\n",
      " -0.23332383 -0.428399   -0.8381572  -0.2818219   0.5615403   0.48101705\n",
      " -0.01790076  0.22158793 -0.26760858 -0.32742938  0.91934645 -0.27487838\n",
      "  0.62234133 -0.4519581   0.6906228  -1.2127559  -0.06112177 -1.9586179\n",
      " -0.28677255 -1.0617412   0.06512271  0.73648894 -1.1984982  -0.15615341\n",
      " -0.6052562  -0.55734193 -0.7444099  -1.035345   -1.2249632   0.9074266\n",
      " -0.03582224  0.444112    1.84415     0.34565088 -0.75360465  0.43022323]\n",
      "jumps [-0.05551584  1.2271733   0.04230827  1.2755044  -0.5577661  -1.1375536\n",
      "  0.70609236 -0.5663543   0.631246   -0.41436005  0.32283917  0.06821899\n",
      " -0.6821273  -1.990842    0.22144875  0.45071    -0.5903671   0.5238264\n",
      " -0.20633754  0.4180983  -0.337553   -0.84158564 -0.8114826   0.42721164\n",
      " -0.9864171  -0.31653702  0.1531393   0.49314222 -0.4885887  -0.2797007\n",
      " -0.45548475  0.0114938  -0.75910866  1.1969674   0.76563954  0.5264504\n",
      "  0.22444965 -0.32081336 -0.43656614 -1.258413    2.4628198   0.2201409\n",
      "  0.33201766 -0.22112924  0.03960282 -0.3560052   1.220254   -1.2371447\n",
      " -0.00504807 -0.1322388  -0.01604214 -0.0173485  -1.0614369  -0.04889898\n",
      "  0.52760595 -0.82622635 -0.07003888 -0.6000732  -0.43471295  0.1546396\n",
      "  0.6277871   0.66066617 -0.45122805  0.3420233   0.9573041   0.3310023\n",
      " -0.28332752  0.6002008   0.02862483  0.6059764   0.37165678  0.35900337\n",
      "  0.5291631  -0.4775743  -0.06555142 -0.34005204  0.28102112 -1.1071181\n",
      " -0.6518874  -1.795351    0.05612642  0.62459743 -0.80550265 -0.80226594\n",
      "  0.7295812   0.34477955 -0.30994877 -0.11066789  0.6682159  -0.36539528\n",
      " -0.16442707  0.24944413 -0.15674333  1.0854907   0.1971704   0.27093768]\n",
      "over [-0.07474575 -0.31422797 -0.19162704 -0.8609487  -0.06179265 -0.85225487\n",
      " -0.34213215 -1.3811997   0.84392655  0.7467464   0.24041301 -0.34465334\n",
      " -0.12361693  0.02930728  1.432219   -0.76736414 -0.99752045  1.4025617\n",
      "  0.6901572   1.0355228  -0.48761427 -0.51113987 -0.18611647 -0.6460488\n",
      "  0.7733637  -1.2271755   0.06358254 -0.25254473  0.726189    0.03582358\n",
      " -0.5358391  -0.47441864  0.7538382  -0.13161476 -0.48156464 -0.75119233\n",
      "  0.9409539  -0.32932332  1.5568541  -1.1011446  -0.92855203 -0.10034889\n",
      " -0.67585486 -1.1022375  -0.24839291  0.65875256  1.2996826  -0.51205564\n",
      "  0.7833732  -0.74350214 -1.329036    0.20309381  0.82420623  0.73551035\n",
      " -0.67748195  0.5910123  -1.4574094  -1.5993758   1.532919   -0.8439741\n",
      " -1.0628638  -0.04822309 -0.3608545   0.89939004 -0.5861207   0.64298123\n",
      "  2.3316147  -0.6893622   0.3250036  -0.6468882   1.2380195   0.48520982\n",
      "  0.4333836  -0.42683774 -0.40055785  0.46401447  0.13348185  0.52548736\n",
      "  0.3417558  -0.45570332 -0.250508    0.5803033  -0.06824049  0.57671326\n",
      "  0.838836   -0.04921    -0.6304982   1.320175   -0.88672936  0.88530207\n",
      " -0.19627336 -0.01181368 -0.09721802  0.8225526  -0.2379249  -0.6108427 ]\n",
      "the [ 1.0541207   0.6170199   0.5772002   1.2589737  -0.19961292 -0.10778791\n",
      " -0.6979208   0.27937713  0.4682024   1.399879   -0.09833154  1.2567269\n",
      "  1.1147612   0.58824044 -0.6174935  -0.71398103  0.63217276  1.5474638\n",
      " -0.35463876 -0.88587993 -0.99929875 -0.14433499 -0.58262116 -1.3500682\n",
      "  0.8566178  -0.16476378 -0.05188817 -0.54674804  0.6418538   0.67996836\n",
      "  1.0287523  -0.37688893  0.8166069  -1.2403433   1.0231098   0.7983492\n",
      "  1.0355201   0.7662544  -0.26798338 -0.53800994 -0.3291813   1.4451821\n",
      " -1.7392895   0.74221504 -0.95645785  0.70845723 -0.61369866  0.4841721\n",
      " -0.5109109   0.19060095 -0.91070414  0.01216313 -0.4488659   1.261173\n",
      "  0.17289308  0.44195753 -0.6222296   1.2718817  -0.5958736  -1.290412\n",
      "  0.4728427  -0.91962206  0.78484213 -1.4730245   0.47140506 -1.0635595\n",
      " -0.20386706 -0.04618543  0.3282236   0.19019298  0.57200015  0.93909866\n",
      " -0.8435185   0.11276722 -1.1016836  -1.2226049  -0.16671711  1.2740592\n",
      "  0.407104   -1.0029196   0.13484988  1.4609175  -0.48463377 -1.2222508\n",
      " -0.08607541 -0.3475649   1.6800585  -0.63966215 -1.28222     0.50716186\n",
      " -0.3843878  -0.3266112   0.01169004 -0.35978922 -0.98676527 -0.5079623 ]\n",
      "lazy [ 0.26981086 -1.2135911   0.3549974   0.10239931 -0.7001181   0.7496253\n",
      "  0.26521295 -1.1065991  -0.08813335 -0.5191372   0.32931402  0.33635587\n",
      " -0.2646916  -0.27657402 -0.38694346  0.1661367   0.30194005 -0.33580595\n",
      "  0.4390803  -0.2792253  -0.50688237  0.5626409  -0.56316096  0.52249914\n",
      " -0.13289842 -0.23235731  0.13242376  0.03014316  1.0210528   0.19269842\n",
      "  2.3107605   0.3249455  -0.72077215 -1.3555064   0.31592104  0.31871897\n",
      "  0.5186075  -0.00462155 -0.59114254 -0.4489401  -0.3336908   0.86116785\n",
      " -0.42844623  0.44490927  1.0927625  -0.5587099  -0.20755836  0.04779208\n",
      " -1.0018158   0.7729301  -0.99759066  3.1921802  -1.2093681  -0.6417165\n",
      " -1.1295768   0.9484294   0.32205266  2.504268   -1.0757381   0.33766097\n",
      " -0.690218   -0.7770301   0.02056843 -0.5505663  -0.7124096  -0.636328\n",
      "  0.88836783  0.6149471   0.5268926  -1.577631    0.790624    0.49504977\n",
      " -0.9816935   0.25278503 -0.7719556  -0.7692392  -1.0882747  -1.3485442\n",
      " -0.41220713 -0.17126817 -0.29626042  0.54649657  0.27099687 -0.10724744\n",
      " -1.5618806  -0.09347208 -0.03188813  0.04862024 -0.21053182  0.40035877\n",
      "  0.69644153  0.89519227  1.5715779   0.8528387  -0.61433554 -0.47587204]\n",
      "dog [-1.359443   -0.49764985  0.20539962 -0.11952335  0.56015027  0.14828928\n",
      "  1.5326929   0.68848884 -0.21603839 -0.603053   -1.1763269  -0.61965704\n",
      "  0.05341816  0.13078064 -0.33235633  0.5766133  -0.8912106  -1.1022177\n",
      "  0.48488438  0.8394403   0.48164004  1.1191878  -0.81875205 -0.5832628\n",
      " -0.52873105 -0.3147757   0.14789647  0.0503587   0.37774783  0.16155916\n",
      "  0.09043053 -0.6494192   0.8704207  -0.04033428  0.4185119   0.20011911\n",
      "  0.10699281  0.8084213  -0.29540724  0.17978293 -0.8954017  -0.111911\n",
      "  0.79297125  0.05475546  0.00784385 -0.08643097 -1.6509616  -0.563722\n",
      "  0.37863183  0.33100647 -0.33376482  1.176536    0.76931995 -0.932064\n",
      "  1.0433282  -0.08081371  0.23764986 -0.23249146 -0.1459733  -0.54039276\n",
      " -0.41801977 -0.86681765 -0.60556626  0.2872051   0.5369445   0.55712044\n",
      " -0.17370889 -0.8682499   0.54454565 -0.42079136  0.38024297 -0.26115644\n",
      "  2.0119495  -0.91603446  0.5162208  -1.1278992  -0.59218985 -0.9450249\n",
      "  0.5524307  -0.99948025 -0.2766903   0.87997246 -1.7162281  -0.4151719\n",
      "  0.7705584   1.1686991   0.2924097  -0.92524695 -1.4400206   0.9920294\n",
      " -0.696896    0.12108178  1.1880447   0.3493702   0.29348686  1.3462821 ]\n",
      ". [-4.8632500e-01 -5.8396506e-01  3.0757695e-02 -1.7286941e+00\n",
      " -4.7495568e-01  1.8483940e+00  3.8155040e-01 -3.5156974e-01\n",
      " -1.2312353e-01 -2.3120941e-01  2.9262064e+00 -6.4836872e-01\n",
      "  5.1016492e-01  1.9137993e+00 -6.3426214e-01  1.1339215e+00\n",
      " -1.4846580e+00 -7.5112420e-01  1.3137753e+00 -8.8334984e-01\n",
      " -2.8486252e-03 -4.3358371e-01  1.5371695e+00 -4.7373551e-01\n",
      "  1.6770325e+00  4.0804453e+00 -2.7929652e-01  3.8730997e-01\n",
      "  2.2259384e-02  2.1607788e+00  1.1078352e-01  1.3476152e+00\n",
      "  1.5717423e+00  6.2634599e-01 -3.9316094e-01  1.9439083e-01\n",
      " -4.8534897e-01 -5.0650477e-01 -1.2709312e+00  7.4950963e-01\n",
      "  2.0232272e+00  1.1762351e-02  1.4742206e-01 -1.4669154e+00\n",
      "  8.2799435e-02 -8.5595894e-01 -7.3812062e-01 -1.8058246e-01\n",
      "  1.6613736e+00 -6.8732643e-01  3.5517683e+00 -1.1220757e+00\n",
      " -5.7123548e-01  2.0616746e-01  1.0006158e+00 -1.4962616e+00\n",
      " -2.4637812e-01 -7.5218487e-01  2.5656059e-01 -1.5212794e-01\n",
      "  9.3376443e-02 -1.4186720e+00  2.4573742e-01  1.7776033e+00\n",
      "  2.5424865e-01 -3.4859738e-01 -6.9857574e-01 -1.3896596e-01\n",
      " -7.6816219e-01 -2.2899015e-01 -7.7506196e-01 -2.1847725e-01\n",
      " -7.2538716e-01 -9.7225893e-01  2.3740168e+00 -3.0709437e-01\n",
      " -5.8230358e-01  1.5619054e+00 -1.0585822e+00 -1.1249449e+00\n",
      " -1.2947908e-01 -1.1987103e+00 -1.1100512e+00  2.0672366e-01\n",
      " -1.2571696e+00  8.3923161e-02 -3.2078999e-01  1.3808450e+00\n",
      " -2.0013087e+00  8.5421216e-01 -7.5559658e-01  3.9647740e-01\n",
      "  1.5330464e-02 -5.9938908e-02 -4.7066456e-01 -8.9471501e-01]\n"
     ]
    }
   ],
   "source": [
    "doc = nlp(\"The quick brown fox jumps over the lazy dog.\")   \n",
    "for token in doc: \n",
    "    print(token.text, token.vector)"
   ]
  },
  {
   "cell_type": "code",
   "execution_count": 98,
   "metadata": {},
   "outputs": [
    {
     "name": "stdout",
     "output_type": "stream",
     "text": [
      "AI [-1.3268771  -2.0290956   0.06533456  0.39503524  0.08091717  0.15397343\n",
      "  0.33957782  1.2837629  -0.98811805 -0.6846752   0.8394653   0.22220804\n",
      " -1.3373065   0.17542517 -1.4079552  -0.795309    1.6697806  -0.33859384\n",
      " -0.08382377 -0.33615616 -1.3768802  -0.20620358  0.66602534 -0.12817763\n",
      " -0.81701785  0.25096664  1.4939406   1.1271633  -0.74918896  1.160439\n",
      "  0.14813295 -0.03427923  0.6185019   0.35099474 -0.6854881   0.58943033\n",
      " -0.7405379   1.1924392   0.46032938  2.964799   -1.1917462  -0.5423831\n",
      "  0.7031218   1.0341445  -1.4072043   0.61347747 -0.08405335  1.1812031\n",
      "  0.30844602 -1.0841696  -0.90169007  1.508883   -0.3706113  -1.5783228\n",
      " -0.3274125  -0.3956673   1.07515    -0.63086295  0.31451958 -0.41219634\n",
      " -1.0448024   0.9563086   0.641791   -0.32097703  0.68657327  0.66446984\n",
      " -0.5141428  -0.09546706 -0.31380242 -1.7868323   0.5588393   0.12173761\n",
      "  0.8027327   0.17381017 -0.6550814  -0.69019186 -0.55867696 -1.6917912\n",
      " -0.05562437  0.4499746  -0.18284655  0.4006034  -0.52441436 -0.23066959\n",
      "  2.3145823  -0.3805836   0.46696374 -0.37586874  0.3079993   0.8851535\n",
      " -0.58220536 -0.932707    2.0155988  -0.43432683 -0.8490331   1.3141632 ]\n",
      "is [-1.7124128  -0.15537022 -0.01280268  0.53796923 -0.898777    0.10830382\n",
      "  1.6392999   0.41208446  0.97372085  1.5510374   1.579745    0.21219262\n",
      " -0.37997466 -0.25420743 -0.5412489   0.70669585  1.1387815  -0.18805104\n",
      "  0.45668352  0.58067894 -1.0011489  -0.68460417 -0.4360091   0.60836196\n",
      "  0.47936046  0.35234034  0.9145152   0.29101503 -1.3990984   0.7528761\n",
      "  0.11797934  2.5056827  -0.87352955 -0.6063004  -0.40889168 -1.8400702\n",
      " -0.13076273 -0.97212327  1.5010344   1.0419319   1.4591029   0.20276314\n",
      "  0.29006937 -0.26077574  2.9166017  -0.27394348 -0.54034686 -0.80693567\n",
      " -0.00977796  0.7721832  -1.1635308  -0.39434123 -1.5993774  -0.9142398\n",
      "  1.2037911  -0.32322478 -0.23494229  0.57756674  0.17711845  0.10442403\n",
      "  1.2409179  -0.33985847  2.1978326  -0.84246993  1.2254258  -0.40107358\n",
      "  0.14981812  0.61092573  2.0068805  -0.5607395   0.732923   -0.8025147\n",
      " -0.7322402  -0.8061986  -1.1936042  -0.24646375  0.28962278 -1.3485339\n",
      " -1.3811643   0.77847767  0.15649638 -0.7971649  -0.5124265  -1.1800504\n",
      " -1.141091   -1.0770843  -0.44887212  0.29596078  0.80101097  0.15884638\n",
      "  0.34965038 -0.9261733  -0.78546095 -0.03675273 -1.0044289  -0.7241384 ]\n",
      "transforming [-1.7149464   0.7697145   0.4643943  -0.14065662 -1.0926939  -0.5111419\n",
      " -0.5569082  -1.5010195  -0.29246783  1.0238242   1.0317881  -0.70625633\n",
      " -0.7913158  -0.20122366  1.6419837   1.2151783   0.1382811  -1.5695261\n",
      " -0.91117847  1.183325   -0.90452445  1.8023669   0.05038981  0.29481506\n",
      " -0.05379317 -0.7172508   1.4004419   1.4703802   1.8520365  -0.12488426\n",
      "  0.58999324  1.308871   -0.43770123 -0.27999157  0.65635914 -0.1786635\n",
      " -0.50219846  0.954378   -0.44407848 -1.28193     1.5730026  -0.0559807\n",
      " -0.9257744  -0.10153928 -0.02627438 -0.32833448  1.0097711  -0.89974916\n",
      "  0.7972621  -0.78201044 -0.662991   -0.65919566 -0.09704918 -1.323789\n",
      " -0.11123749 -0.09006958 -0.00540328  0.07841514 -0.48392695 -0.06798974\n",
      "  0.30291313  1.3191999  -0.1940741   2.333982    0.27564055 -0.23465216\n",
      " -0.55578756 -1.264511    0.60251385  0.2763607   0.17646524 -0.71422756\n",
      "  1.022941    0.42826775 -0.35343486 -1.2248964  -0.48378897  0.00729239\n",
      " -0.14532104 -1.4278846  -0.38551247 -0.4514295   0.3611158  -0.82165694\n",
      "  0.11330365  1.1264708   1.5395448   0.02795838  0.0836923  -0.9047583\n",
      "  0.21560791 -1.0936713  -0.7731177   0.5691109   0.70374554  0.25865522]\n",
      "the [ 1.2302283   0.62881875 -0.11222214  0.71940416 -0.12814745 -0.12929855\n",
      " -1.0036383  -0.07640523  0.5399265   1.2607754  -0.51627624  0.39692128\n",
      "  1.917603   -0.27677634 -1.1927388  -0.62093306 -0.52718717  1.672944\n",
      "  0.17078279  0.35891825 -0.50587845 -0.01375757 -1.1721036  -1.5866828\n",
      "  2.1437778  -0.26877633 -0.37438363  0.03751194  0.62460774  1.2632875\n",
      "  0.78580344  0.0911385  -0.22006941 -1.5361885  -0.02178174 -0.6687889\n",
      "  1.3316936   0.3135178  -0.7231877  -0.05088454 -0.88418764  1.1360409\n",
      " -1.5844857   1.3580467  -1.4055933   0.33775997 -0.5582828  -0.02759504\n",
      "  0.1644581  -0.4276227  -0.45224407  0.6791328   0.4591265   0.49755615\n",
      "  0.33326656  1.3372602  -1.0268116   1.8459811  -1.9397993  -0.77406925\n",
      "  0.9890908  -1.3094823   0.8383693  -0.22866665  1.0183916  -0.6537013\n",
      "  0.28954774  0.59698623  0.47672656 -0.0879384   0.47153795  0.32997143\n",
      " -1.1191618   0.3039242  -1.0182431  -0.48802233  0.06430155  0.9812277\n",
      "  0.17967972 -0.37118804  0.11276774 -0.87045026 -0.27889362 -0.6533813\n",
      " -0.58658546 -0.15312298  1.3070557  -0.09589206 -1.5386109   2.4653711\n",
      " -0.3310007  -0.41901034  0.08478731 -0.49141943 -1.5077407   0.20214373]\n",
      "world [-1.3735027  -0.22212532 -0.45985466 -0.7483069  -0.271508   -0.35158095\n",
      "  1.0922365   0.56101596  0.27634913 -0.68896294 -0.55049825 -1.2503712\n",
      " -0.09409068  0.44779226 -0.446374    0.3366215  -0.5304604  -0.7191838\n",
      "  0.67560756  0.5126817   0.54761934  0.9711113  -0.82438827 -0.29177606\n",
      "  0.1636349  -0.41389984 -0.24749604 -0.28746855  0.48905274  0.12651846\n",
      " -0.446082   -0.19722599  0.5832367  -0.13933283 -0.20137379 -0.1809365\n",
      "  0.11709076  1.2850784  -0.28704864  0.07551968 -0.2971158  -0.2966136\n",
      "  0.61467385  0.9754864  -0.26183078  0.37593818 -1.0865047  -0.74738383\n",
      "  0.14082208  0.24142319 -0.03459737  0.74185634  0.1705108  -0.7913334\n",
      " -0.2608575  -0.66061604  0.12061442  1.1573334   0.07254219 -0.8535116\n",
      "  1.2676226  -0.1577417  -0.40106386 -0.05127472  0.17707363 -0.17533028\n",
      " -0.41087323  0.21381593 -0.4430764  -0.34577063 -0.1320371  -0.18983471\n",
      "  0.34251034 -1.173075   -0.54782677 -1.4009426  -0.42637005 -0.60160196\n",
      " -0.04784063 -0.9921818  -0.06791255  0.287399   -1.7913809  -0.56379485\n",
      "  1.2423666   0.5252509   0.5334821  -0.41063187 -0.41607425  1.3863642\n",
      " -0.34184784  1.4412328   2.470552    1.0556017   0.9217771   0.71392846]\n",
      ". [-0.7114091  -0.77522737  0.67537695 -1.8402249  -0.27947572  2.318034\n",
      "  0.8674923  -0.2979332   0.02843757 -0.6132812   3.473132   -0.95946395\n",
      "  0.3833797   1.6909442  -0.48924404  0.67334986 -1.4755979  -0.6143819\n",
      "  1.6315556  -0.8707039   0.55380243 -0.33417237  1.0794806  -0.24592677\n",
      "  1.5731702   4.0835743  -0.47176045  0.22975595 -0.24585384  1.9171349\n",
      " -0.23471412  1.2031623   1.5538024   0.40817967 -0.49982992  0.135934\n",
      " -0.06678328 -0.46064055 -0.80916023  1.1604335   2.2300959  -0.06846327\n",
      "  0.02276647 -1.2507898   0.279383   -0.87216324 -0.6991848   0.02019209\n",
      "  1.383298   -0.45907634  3.9252489  -0.6669713  -0.7533573   0.74034274\n",
      "  0.79717    -1.3683369  -0.61938846 -1.168738    0.63010645  0.0237008\n",
      "  0.1759702  -2.0859523  -0.12749583  2.3991246   0.5376282  -0.42281872\n",
      " -0.2993176   0.12947088 -0.8527895  -0.68021566 -0.60472864  0.02462787\n",
      " -0.9931428  -0.49500984  2.7208848  -0.11270396 -0.85627645  1.6259439\n",
      " -1.2268802  -1.3500524  -0.7229029  -1.3597021  -0.9479637   0.5860658\n",
      " -0.91124547 -0.21848054 -0.37772715  0.89363766 -1.9100261   1.0740466\n",
      " -0.8064146  -0.20710841  0.36679205 -0.22397861 -0.49227706 -1.1687751 ]\n"
     ]
    }
   ],
   "source": [
    "doc = nlp(\"AI is transforming the world.\")\n",
    "for token in doc: \n",
    "    print(token.text, token.vector)     "
   ]
  },
  {
   "cell_type": "code",
   "execution_count": 99,
   "metadata": {},
   "outputs": [
    {
     "name": "stdout",
     "output_type": "stream",
     "text": [
      "Machine [-1.4779022e+00 -3.9832503e-02 -3.5191739e-01  4.3770716e-01\n",
      " -1.2100801e+00  5.9405610e-02  1.4573216e-02 -4.1871071e-03\n",
      " -1.1835296e+00 -6.1808121e-01  1.1526598e+00  6.1434388e-01\n",
      " -1.1129396e+00 -3.6918473e-01 -1.3603711e-01  3.0962324e-01\n",
      " -5.5644035e-01  1.8030301e-01 -1.5147625e+00 -7.3530644e-01\n",
      "  1.3193145e-01  3.0957216e-01  5.5868030e-02 -4.5872438e-01\n",
      " -3.0289650e-02  6.6938782e-01  1.4508311e+00  1.3915756e+00\n",
      "  1.8450842e+00 -1.6176508e-01 -4.2573580e-01 -1.4298415e+00\n",
      "  3.9877504e-01 -5.9064656e-01 -3.7975204e-01  2.0821214e+00\n",
      " -4.0374494e-01 -1.5570320e+00  2.7714700e-02  3.5031922e+00\n",
      " -1.4615020e+00  1.8819358e+00 -7.0242202e-01  1.1318129e+00\n",
      " -8.0491191e-01 -1.0903239e+00 -3.6283708e-01  1.9472691e+00\n",
      "  1.2644930e+00  2.1509826e-01 -1.2216840e+00 -6.1352181e-01\n",
      "  4.9564135e-01 -1.4868724e+00 -5.0161946e-01 -1.2506042e+00\n",
      "  5.6293154e-01 -3.9017048e-01 -5.6939030e-01 -1.6504303e-03\n",
      " -1.0221276e+00 -2.8158441e-02 -9.1814309e-01  1.3279790e-01\n",
      "  5.6581056e-01 -9.7444820e-01  6.9294482e-01  2.8161657e-01\n",
      "  2.2475067e-01 -1.2108061e+00  1.4334255e+00  9.4471467e-01\n",
      "  9.0799218e-01 -3.5529402e-01  8.3702660e-01 -4.8239061e-01\n",
      "  7.6705240e-02 -1.3528414e+00  9.3028176e-01 -3.2301110e-01\n",
      " -5.9177327e-01 -7.8120530e-02 -2.6143318e-01 -1.0554225e+00\n",
      "  6.9561034e-01  7.5197324e-02  4.3618411e-01  3.0444548e-01\n",
      " -1.8334147e-01  3.5797176e-01  5.1005244e-01 -6.8881428e-01\n",
      "  2.5219424e+00  6.1288637e-01 -5.7762247e-01  3.0060476e-01]\n",
      "learning [-0.34052974  0.6392001  -0.96688735  0.27736405 -0.03793216  1.1092198\n",
      "  1.3580933  -0.17654634  0.5899194  -0.5376424   0.2851773  -1.2404602\n",
      " -0.6871393  -1.6835396  -0.86021924  0.2016199   0.9162529  -0.38107282\n",
      "  0.31807834  1.657419   -1.0311449   1.7457522   0.8685761   0.01829404\n",
      " -1.1631479   0.5597583   1.9708028   0.29750237  0.66215706 -0.75102055\n",
      "  1.2374943  -0.5077208  -1.3711119  -0.4666022   0.14096332  0.07141453\n",
      " -0.2886653   0.8649461  -0.56183255  1.6239219  -0.6284088   0.6280561\n",
      "  0.07559633 -0.19276372 -0.34228623  0.8797758   0.41044277  0.91478\n",
      "  0.11462815 -0.45070553 -0.985485    0.22326054 -0.32481885 -0.73830926\n",
      "  0.10711679 -0.9974195   1.271699    0.7691486   0.5825072  -0.7910565\n",
      " -0.20981586  0.18094918 -1.223678   -0.7995225  -0.4596655  -0.03189325\n",
      " -0.6374035  -0.6002276   1.3079066  -0.3549435   1.1794007  -1.2994153\n",
      "  0.5268363   0.7170693   0.29265317 -1.1311226   0.4768458  -1.4197596\n",
      "  0.18460086 -1.7697058  -0.26818734  0.51684064 -0.99538517 -1.2719047\n",
      " -0.38111442  0.44493988  0.26415244 -0.8854115  -0.79003155  0.5563692\n",
      " -0.16260558  1.5759234   0.6358492   0.7632916  -0.47908252  0.827099  ]\n",
      "is [-3.35375786e-01  1.16964805e+00 -5.25115132e-01  2.89866209e-01\n",
      "  5.01612604e-01 -6.45785868e-01  5.16655505e-01  1.65725857e-01\n",
      "  4.64603066e-01  4.58845139e-01  1.11242735e+00 -7.00612664e-01\n",
      " -6.58950984e-01  1.00386894e+00 -6.01179183e-01  2.80126065e-01\n",
      " -3.41302872e-01  5.28052330e-01 -1.34747729e-01  1.64958388e-01\n",
      " -5.64379871e-01 -4.58293885e-01 -1.83928609e-01  1.25662374e+00\n",
      " -7.03320265e-01 -2.50326931e-01 -4.88799363e-02  6.98534608e-01\n",
      " -1.04984784e+00 -1.07143247e+00 -6.29687965e-01  2.45848298e+00\n",
      "  3.65330726e-01  2.04869762e-01 -4.70329702e-01 -4.05998886e-01\n",
      " -2.04746380e-01 -2.85990417e-01 -6.41483963e-02 -1.41775012e-01\n",
      "  2.25244236e+00  2.56718218e-01  9.82390225e-01 -1.20225036e+00\n",
      "  9.80771184e-01  7.05731660e-02  1.61291468e+00  1.84853375e-02\n",
      " -1.11944735e-01 -4.66936737e-01 -8.20707202e-01  6.59855783e-01\n",
      " -1.21254110e+00 -9.32599425e-01 -5.94150543e-01 -6.07781112e-01\n",
      "  5.03983498e-02 -1.35050416e-02 -2.55648941e-01  5.71953654e-01\n",
      "  1.07303965e+00 -2.37936497e-01  3.56491268e-01  9.60477352e-01\n",
      "  6.72819614e-01  1.06794238e+00  4.88130897e-02 -1.15574837e-01\n",
      "  8.73100340e-01  8.02435353e-02 -7.14377880e-01 -2.75280863e-01\n",
      " -9.36090946e-04 -5.25020242e-01 -1.41316950e+00 -2.67928511e-01\n",
      " -3.27571064e-01 -1.10406888e+00 -1.50600445e+00  4.16801393e-01\n",
      " -1.12247303e-01 -6.67634726e-01 -5.83136640e-02 -5.65764546e-01\n",
      "  9.11976993e-01 -7.21932173e-01 -2.00592667e-01  6.98657334e-01\n",
      " -1.39036626e-01 -5.75270176e-01  3.62565428e-01 -6.39462292e-01\n",
      " -8.24979007e-01 -1.03900418e-01 -8.37907195e-01  4.38337922e-02]\n",
      "a [ 1.7327102   0.21942523  0.55802244  1.2014421  -0.45364362 -0.03364155\n",
      "  0.56513274  0.3195118   0.2908936   2.5422206   0.22649911  0.18841451\n",
      "  0.35722783  1.0278989  -1.078791   -0.7325585  -0.03283031 -0.18255961\n",
      " -0.29815364  0.21908927  0.21552996 -0.6515175   1.0195925  -1.298106\n",
      "  1.5365517  -1.17839     1.1078107  -0.4083906   1.0943326   1.660403\n",
      "  0.96987885  0.26447323  0.7150401  -1.4271578  -0.4074615   0.2380743\n",
      "  0.00984134  1.4877086  -0.55751234 -0.5468244  -0.5237096   1.2705559\n",
      " -0.79397523  1.1165607  -0.8135341   1.5450903  -1.4530276   0.3163302\n",
      " -0.4939528  -0.14950596 -0.7656747  -0.54524744  0.1973745   1.2688612\n",
      "  0.2742037   1.4712496  -1.868355    1.6310722  -0.5602455  -0.58196557\n",
      "  1.0592202  -1.0210885   0.94122326 -1.2819219  -0.33845606 -1.1623352\n",
      "  0.67371523  0.05902079  0.27448824  0.3826086  -0.49806926 -0.44363272\n",
      " -0.97986805  0.19431433 -1.3182062   0.07705206  0.10427867 -0.31372422\n",
      "  0.1107806  -0.45267516 -0.49537647 -0.0255357  -0.39774203 -0.95266485\n",
      " -0.07599285 -0.5201302   1.3451892  -0.30351868 -0.78818226  0.12136868\n",
      " -0.33240435 -0.464569   -0.07918583 -0.9401832  -0.24774176 -1.4129562 ]\n",
      "subset [ 0.10342886 -0.0587154   0.5171057  -0.29217723  0.66752785  0.5259587\n",
      "  0.3347712  -0.18542847 -0.53583115 -0.05905282 -0.10578407 -1.1050646\n",
      " -0.88737744  0.8065914   0.08125146  0.60678965  0.4351036  -1.2071713\n",
      " -0.06808376  0.8859887   0.18906038  0.69029427 -0.5144366  -0.69470644\n",
      " -0.3595475   0.19709828 -0.0547483   0.74041414  1.1129075   0.5792992\n",
      "  0.20158282  0.28188828  0.36793283 -0.01119969  0.09975637  0.2901819\n",
      "  0.4086069   0.8187434  -0.43633825 -0.68898    -0.20982352  0.07860571\n",
      " -0.09444569 -0.34301212 -0.19729394 -0.04204327 -1.1016302  -0.66768897\n",
      " -1.4882317   0.24197835 -1.3692324  -1.1197565   1.095672   -0.8240542\n",
      " -0.14582665 -0.4721282  -0.08149683 -0.15026097 -0.39025515 -0.38943872\n",
      " -0.6067482   0.3866282  -0.6820043  -0.5296781   0.71870035  0.0929417\n",
      "  0.16016096 -0.39859992 -0.22827683 -0.12136567  0.36066142  1.1094809\n",
      "  0.8915588  -0.05669713  0.11589715 -1.303505   -0.512699   -0.13136336\n",
      "  0.00424436 -0.36334726 -0.1032719   0.27461675 -0.66112125 -0.42308718\n",
      " -0.1785532  -0.16694206  0.68942064 -0.6573538  -0.30349955 -0.03835496\n",
      " -0.57869196 -0.5878132   1.3189151   1.6062677   0.1357157   1.2393681 ]\n",
      "of [ 1.0625249  -0.38784745 -0.5366292  -0.90304077 -0.4107821  -1.4724483\n",
      "  0.13562144 -0.94269437  0.6317009   0.6235813   0.64284194 -1.4241382\n",
      " -1.0944653   0.36248282  0.88759303 -1.4146593   0.5921947   0.436335\n",
      "  0.3937618   1.6968114  -0.3951898  -0.5998782  -0.74171513 -0.5478218\n",
      "  1.957196   -0.6913221   0.79044634 -0.7437694   1.3827065   0.71671075\n",
      " -0.3263072  -0.21076238  1.6142964  -0.42219865 -0.7851453   0.04990804\n",
      "  0.09320772  1.0644946  -0.4632742  -0.21979201 -1.0810971  -0.78817683\n",
      " -1.0326765  -0.32760084  1.2900456   0.023981   -0.0927215  -0.22139218\n",
      " -0.01081158 -0.59988916 -0.9420073  -1.5368919   0.02012277  1.1168176\n",
      " -1.7918893  -0.0804846   0.21225938 -1.6483727   1.4447334  -0.5064093\n",
      " -0.656958   -1.2736984  -0.48837525  0.33616588 -0.18187058  0.75444746\n",
      "  1.0607775  -0.9602928   0.2748432   0.77305233  1.1351357   0.16310592\n",
      "  0.8303441   1.1023593  -1.625018    0.14024967 -0.18331021  0.9764839\n",
      "  0.45286083  0.23563835  0.49382353  0.14706881 -0.3202154   1.1060995\n",
      "  1.5572948  -0.26380134 -1.07735     1.191153   -1.0108285   0.25758943\n",
      "  0.33228734  0.17272557 -1.1254245  -0.05921691 -0.64732075  1.7168615 ]\n",
      "artificial [ 0.13204259 -0.35145172 -0.23490265  0.9678097  -0.24016365  0.02860445\n",
      "  0.39394456 -0.81455916 -0.23553488 -0.46392804 -0.76245946  0.24016634\n",
      "  0.14649998  0.33614427 -1.2789108  -0.20963812 -0.031762   -1.3485105\n",
      " -0.10288066 -0.89974964 -1.0180417   1.122186   -0.10495383  0.1081906\n",
      "  0.22324352 -0.54308486 -0.07207976 -0.18944195  1.257431    0.52830595\n",
      "  0.22361347 -0.4406049  -0.10248604 -0.6343968   0.34076408  0.4472266\n",
      "  0.19784996 -0.34422928 -0.28056246 -0.6877057   0.5127995   1.0485241\n",
      " -0.35340676  1.5236964   1.1214188  -0.24549353 -0.38320145  0.23540127\n",
      "  0.477128    0.55379725 -0.74200416  1.2275838   0.33148915 -0.41056094\n",
      " -0.80841386  1.6613983   0.23111407  1.812933   -1.2640237  -0.11909869\n",
      " -0.68111914 -1.0640798   0.47002113 -1.4916936  -0.5024921  -0.66762\n",
      "  0.98706317  1.7535543  -0.26862836 -0.4186259   0.2510371  -0.18406117\n",
      " -1.5499223  -0.82415175 -0.06054879 -1.6973522  -1.222241   -0.38339347\n",
      "  0.1455586  -0.553819    0.41510952  0.80665505  0.25581682 -0.64076877\n",
      " -1.5111004  -0.02008072  0.604672    0.4981143  -0.4855755   0.77295405\n",
      "  0.6463257   0.10710566  1.1390057   0.8677839  -1.1294994   0.3400345 ]\n",
      "intelligence [-0.65449965  0.44531387 -0.57776207 -0.5731334   0.8298577  -0.5348852\n",
      "  1.0953511   1.3922935   0.8483907  -1.023844   -0.5934723  -0.5988254\n",
      "  0.129603   -0.02790773  0.24063799  0.56464875  0.16030139 -0.8867645\n",
      "  1.3577434   0.42641827  0.594925    0.4019532  -0.95036745 -0.22172685\n",
      " -0.48285156 -0.6393496   0.4151     -0.26525182  0.0735967   0.72506726\n",
      " -0.63382924 -0.13442287  0.30352506 -0.06006683  0.23809612 -0.54628545\n",
      "  0.4796939   0.9144317  -0.10557809 -0.01678288 -0.5752493   0.3756572\n",
      " -0.2927487   0.42962044 -0.05711043  0.15855974 -1.4269264  -0.52347004\n",
      "  0.14286582 -0.29274565 -0.00369498  0.65520227  1.23008    -0.35584047\n",
      "  0.18833944 -0.22776604 -0.69032943  0.03972214  0.22069299 -0.91384107\n",
      " -0.1692268  -0.33505088 -0.43174875  0.17500252  1.1548221   0.32246697\n",
      " -0.69896126 -0.67450446  0.27829483 -0.04000419 -0.29987594  0.02955692\n",
      "  1.3180566  -0.8596022  -0.25332463 -1.3246105  -0.4883172  -1.0000861\n",
      "  0.50847125 -1.0106045  -0.18766443 -0.3814543  -0.7364305  -1.1113338\n",
      "  0.07441774  0.8229939   0.7515377  -0.27470237 -0.97119975  0.81495416\n",
      " -0.85892254  1.2966864   1.541293    0.7138782   0.23653999  0.3172884 ]\n",
      ". [-0.4492799  -0.7633982   0.17931232 -1.5942926  -0.14023623  2.1216948\n",
      "  0.7054059  -0.12457725  0.19119444 -0.6808712   3.331882   -0.971891\n",
      "  0.5056384   2.1950884  -0.6654718   0.89082456 -1.6297526  -0.6150351\n",
      "  1.225061   -0.9593863   0.2060566  -0.2682543   2.0766323  -0.3998319\n",
      "  1.6415793   3.943307   -0.5618897   0.3366238  -0.43523994  1.7562093\n",
      " -0.10543275  1.4023548   1.504127    0.01632422 -0.49085715  0.03259903\n",
      " -0.75364065 -0.2541129  -1.1920062   1.1046666   2.4565687  -0.47432977\n",
      "  0.2131585  -1.012954    0.2661092  -0.78914714 -0.7304923  -0.07177401\n",
      "  1.5070955  -0.8228089   4.0061994  -0.6916532  -0.8144995   0.3210859\n",
      "  0.94295293 -1.4503973  -0.6670736  -0.9630786   0.37252754 -0.21191557\n",
      "  0.230409   -1.427439    0.11655333  2.3751822   0.28083625 -0.5766589\n",
      " -0.73488164 -0.11610419 -0.8126388  -0.44824648 -0.5984769   0.10589296\n",
      " -1.056802   -0.5665113   2.6156082   0.27142406 -0.80634683  1.6310453\n",
      " -1.0694016  -1.3728994  -0.57379806 -1.7735748  -0.7008222   0.43985125\n",
      " -1.122671   -0.20755072 -0.4232309   0.76505864 -1.9362348   1.1802928\n",
      " -0.74554026 -0.01361629  0.24507594 -0.14466316 -0.7977215  -0.91377175]\n"
     ]
    }
   ],
   "source": [
    "doc = nlp(\"Machine learning is a subset of artificial intelligence.\")\n",
    "for token in doc:\n",
    "    print(token.text, token.vector)"
   ]
  },
  {
   "cell_type": "code",
   "execution_count": 100,
   "metadata": {},
   "outputs": [
    {
     "name": "stdout",
     "output_type": "stream",
     "text": [
      "Natural [ 0.44944215 -1.2214469  -0.03736261  0.98433125 -0.7769758   0.35571152\n",
      "  0.47159892  0.45437983 -0.6434296  -1.2890105   0.58860415  0.47670504\n",
      " -1.4374486  -1.7139584  -1.6542679  -0.7304026  -0.57910067 -0.24535364\n",
      " -0.886428    0.49007544 -0.610227    1.1837628  -0.29609513  1.309742\n",
      "  0.44650272  0.9467243   0.61988866  0.70630676  0.7064614   0.16170835\n",
      " -0.66501814 -0.96401656 -0.46396634 -0.31326827 -0.97529554  0.6560827\n",
      "  0.62439656 -1.3808086   0.00939558  1.8181674  -0.99183154  2.9111311\n",
      " -0.35467127  1.687848    0.09677979 -0.49003202 -0.45213994 -0.54972374\n",
      "  0.54851633  0.29999018 -0.7771915   1.630383   -0.38033453 -0.90399784\n",
      " -0.972876    1.0825073   0.42420638  0.4404528  -0.52801216  0.4126389\n",
      " -1.5362301  -1.4398942  -0.2241203  -0.82788736  0.5289198  -0.7106651\n",
      "  1.0456891   1.4321443  -1.216643   -1.4963017  -0.26729652  0.41840434\n",
      " -0.3745861  -0.09769055  0.25329778 -0.20668815 -0.13527139 -1.2487129\n",
      "  0.49954608 -0.14765099  0.4750393   0.00865477  1.6202362   0.16536368\n",
      " -0.506952    1.2228198  -0.014865    1.4984503  -0.9939256  -0.33331984\n",
      "  1.4822918  -0.04020238  1.8974205  -0.20031497 -0.52732974  0.64590245]\n",
      "language [-1.72521055e-01 -1.09930563e+00 -2.48497248e-01 -1.18816629e-01\n",
      " -7.31257498e-02 -1.52071327e-01  4.87462878e-02  1.55109966e+00\n",
      " -7.80369937e-02  5.34547031e-01  1.01770729e-01  7.73451924e-02\n",
      " -1.91901326e-02 -1.03123605e+00  7.26851821e-02  7.21440494e-01\n",
      " -2.73946255e-01 -1.32965833e-01 -6.14512086e-01 -3.40454102e-01\n",
      "  1.23739934e+00  2.31538564e-01  4.12090421e-01  3.54051590e-04\n",
      "  5.63808680e-01  9.35710669e-02  6.77528620e-01 -4.91652995e-01\n",
      "  1.26797128e+00 -4.45217133e-01 -7.33521938e-01 -1.26399767e+00\n",
      " -3.30819547e-01 -2.82187641e-01 -3.21630239e-01  3.50415647e-01\n",
      "  4.03803825e-01  9.68822241e-02 -1.34022772e-01 -4.78992879e-01\n",
      " -6.07439637e-01  1.40632820e+00  4.14018869e-01  7.87496924e-01\n",
      "  5.58710456e-01 -4.39562201e-02 -9.03335810e-01  4.41210747e-01\n",
      " -6.90538764e-01  6.80448413e-02 -1.10633600e+00 -3.81459713e-01\n",
      "  8.47710788e-01 -1.07321298e+00 -3.60865369e-02  4.42309737e-01\n",
      " -5.11980534e-01 -2.54006326e-01 -5.06080031e-01 -7.45861679e-02\n",
      " -1.75319701e-01 -1.26067966e-01 -1.90494806e-02 -6.29010499e-01\n",
      "  1.17761433e-01 -3.74861062e-02  4.71224189e-01 -2.49407113e-01\n",
      "  1.06458485e-01 -5.69571614e-01  9.96397018e-01  6.25662267e-01\n",
      "  6.70675576e-01 -1.03630400e+00  1.24629521e+00 -9.13067937e-01\n",
      " -1.43311650e-01 -1.37074530e+00  1.01412684e-02 -1.00671649e+00\n",
      " -3.69533479e-01 -5.98913580e-02 -2.45060787e-01 -2.41152585e-01\n",
      " -2.97413886e-01 -6.95090890e-01  9.32581425e-01  5.42265177e-03\n",
      " -2.48726457e-01  4.78446901e-01 -8.75186205e-01  6.48478508e-01\n",
      "  2.19808340e+00  6.15149736e-01 -9.38434005e-01  7.79553533e-01]\n",
      "processing [-0.36204517  0.14941466 -0.45469666 -0.2932117   0.4575395   1.1454082\n",
      "  2.2255342   0.71847796  0.75522614 -0.5045633   0.44418547 -1.2686633\n",
      " -0.4272173  -1.4721702   0.13006961  0.5897144   1.0106239  -1.1126872\n",
      "  0.3486253   0.96489036  0.40295416  1.4327781   0.91233784 -0.52107596\n",
      " -0.43524575  0.01686248  1.3267401  -0.10497752  0.67585593  0.25284028\n",
      "  0.6847809   0.02324526 -0.50274205 -0.40613848 -0.4543908  -0.58451134\n",
      "  0.48288643  0.19104698  0.3325239   0.5503544  -1.102493   -0.42098606\n",
      " -0.47310588  1.5704002   0.04351497  0.44552833 -0.17310804  1.2520283\n",
      "  0.31340164 -0.38343382 -0.602287   -0.0440336   1.0851213  -0.51274925\n",
      " -0.02799004 -0.4423806   0.8590052   0.09559256 -0.05389161 -0.02049503\n",
      "  0.08694953  0.7606338  -0.7898028   0.2669553   0.710858   -0.5023698\n",
      " -0.9743127  -0.8461666  -0.19770789 -0.33133918  0.6380651  -1.6507905\n",
      "  1.9266868  -0.16348103  0.18884233 -2.1002965   0.21368921 -1.5246327\n",
      "  0.50304025 -0.7611706  -0.7753324   0.06564364 -1.0089451  -1.3913276\n",
      " -0.06402767  0.12655245 -0.04765454 -0.9723129  -1.1225878  -0.8233335\n",
      " -0.3968216   1.788849    0.74015415  0.9640075   0.16680771  0.31202406]\n",
      "involves [-0.12319023  1.4343302   0.09373815  0.4597909   0.1258958  -1.4681782\n",
      " -0.7916826  -0.71502244  0.5532061   0.6069536   0.78817445 -0.5238031\n",
      " -1.2522109  -1.238591    0.6794314  -0.3866692  -0.2955999   0.39822662\n",
      "  0.13980108  0.07000498 -0.04561615 -1.177069   -0.32118234  0.9245163\n",
      " -1.0939958   0.07124102  0.38429907  0.5285741  -0.30186903 -0.9496609\n",
      " -0.44625497  1.606565   -0.76650214  0.7431318  -0.30848736 -0.46779197\n",
      " -0.36361176  0.21357825  0.5338508  -0.39796996  2.8645418   0.49159735\n",
      " -0.17211132 -0.7585313   1.0106057  -0.5353135   1.2551978  -0.017125\n",
      "  0.5651282  -0.62989694 -0.43431816 -0.0806222  -0.16648988 -1.0480977\n",
      "  0.18094748  0.02727884 -1.0382704  -0.24610816  0.15600976  0.25043142\n",
      "  0.37254894  2.168935   -0.19668695  2.1866124   1.435828    0.06437821\n",
      " -0.320221    0.7043496   0.2977544   1.0387962  -1.3590919   0.34859306\n",
      "  0.1761046   0.4681905  -0.7237876  -0.5151226   0.7010624  -1.2555538\n",
      " -1.4950161  -1.3234622  -0.2828598  -0.55621564 -0.47594452 -0.4949181\n",
      "  1.6288952  -0.23702888 -0.8213627   0.49055028  1.3284681  -0.08163986\n",
      "  0.31473732 -0.30963308 -0.3877623   0.711264   -1.6792835  -0.05503181]\n",
      "the [ 1.4091469  -0.33068967 -0.20558812 -0.06851016 -0.08270481  0.35957795\n",
      " -0.12278171 -0.31546485 -0.19565743  1.8180276   0.7236999   0.9124501\n",
      "  0.21279904 -0.34813824 -0.36719176 -0.5461292  -1.1165102   1.4395504\n",
      "  0.3677662  -0.42187858  0.2467767   0.24426654 -0.9649071  -1.4624765\n",
      "  1.3303332  -0.96216714  0.7475084  -0.4429003   0.58326876  0.6740803\n",
      "  1.3624187   0.00856575  0.339439   -1.5412295   0.8685272  -0.1953972\n",
      "  0.38713497 -0.28566623 -0.89907926  0.7949167  -0.59297866  1.138555\n",
      " -1.7694387   0.9943446  -1.3808563   0.25771224 -0.61769164  0.6363489\n",
      " -0.02001402 -0.08346474 -0.2210723   0.3954829  -0.2912339   0.61384594\n",
      "  0.9918196   1.4951004  -1.1282449   2.389429   -1.4013159  -0.12496313\n",
      "  0.56777567 -1.0774474   0.8830575  -0.44193485  0.2287786  -0.20293525\n",
      "  1.0209945  -0.1329601   0.6159613  -0.11092088  0.54099965  0.57710874\n",
      " -0.6012751   0.1370855  -1.3055794   0.04581553 -0.46976954 -0.7290852\n",
      "  0.00881673 -1.2504587   0.36554503  1.0199275  -0.6126878  -0.7728784\n",
      "  0.349123   -0.2854731   0.8283068  -0.5303763  -1.0793624   0.3103559\n",
      "  0.28407404 -0.33050135 -0.04892483 -0.81766844 -0.7366604  -0.6961864 ]\n",
      "interaction [-0.7112397  -0.4869755   0.10139799 -0.43058524 -0.22303951  0.6063352\n",
      "  1.928184    0.20780179 -0.25728774 -1.1891518  -0.14900482 -0.7363494\n",
      "  0.05718461 -0.85649586  0.4279944   0.6154649   0.02351998 -0.24297109\n",
      "  0.39346892  0.7065592   0.87641734  0.5675921   0.31977826 -0.9619263\n",
      " -0.5818769  -0.38449687 -0.3447479   0.01297379  0.5784661  -0.01858035\n",
      "  0.00680943 -0.38946608 -0.09565222 -0.39661834  0.5273142   0.2371976\n",
      "  0.88189286 -0.16364405 -0.31678843  0.08819964  0.42280143 -0.1310066\n",
      " -0.29870814  0.5480453  -0.3115049   0.6419323  -0.75487477 -1.009908\n",
      " -1.148279   -0.54696894 -0.61699235  0.43115404  0.5327582  -0.56895995\n",
      "  0.17109144 -0.26564634 -0.55624944  0.58836335 -0.22225794 -0.2997414\n",
      "  0.30880547 -0.74385095 -1.1796166  -0.01464668  0.97863936 -0.2842644\n",
      "  0.23228143  0.02818036 -0.5438256   0.01043862  0.42310768  0.00701746\n",
      "  1.6332111  -0.5720555   0.16505945 -0.9035362  -0.48566115 -0.77749306\n",
      "  0.3147868  -0.25836548  0.16824646  1.2211279  -1.0902574  -0.6361822\n",
      "  0.82987815  0.37557393  0.22404054 -0.31675205 -0.3554415  -0.03595065\n",
      " -0.36636138 -0.6844714   0.5868397   1.2796541   0.09217608  1.0855703 ]\n",
      "between [ 8.57043982e-01  1.67656243e-02 -2.38604993e-01 -5.24167120e-01\n",
      " -7.93549865e-02 -1.36657262e+00  2.03419715e-01 -1.61842060e+00\n",
      "  2.23727584e-01  3.42148870e-01 -2.52775282e-01 -1.41016936e+00\n",
      " -2.93673694e-01  2.50507891e-01  1.21819329e+00 -8.66782844e-01\n",
      " -4.76256549e-01  1.19875145e+00  5.13487756e-02  1.56782579e+00\n",
      " -1.50385189e+00 -1.97722507e+00  5.68238437e-01 -1.06756318e+00\n",
      "  1.68527305e+00  9.59333181e-01  1.32923079e+00 -5.22147059e-01\n",
      "  2.71530837e-01  7.52285123e-04 -4.79519278e-01 -7.67624617e-01\n",
      "  8.28214288e-01 -1.69125184e-01 -5.27796209e-01 -1.10693502e+00\n",
      "  4.14778084e-01  2.67823040e-01  5.65965772e-01 -4.19176340e-01\n",
      " -7.63520598e-01 -2.13428408e-01  1.06420204e-01 -3.98827732e-01\n",
      "  6.24698162e-01  2.81243205e-01  1.96689045e+00 -5.64035952e-01\n",
      "  8.81990075e-01  4.12184030e-01 -7.52613187e-01 -1.47946572e+00\n",
      "  6.32320940e-01 -2.58086920e-02 -8.38629723e-01  1.01152092e-01\n",
      " -5.75431883e-01 -1.64523423e+00  1.26776028e+00 -7.23717093e-01\n",
      " -7.26287484e-01 -8.77191424e-02  1.20371008e+00  6.43061340e-01\n",
      " -4.15728718e-01 -7.14522600e-01  5.58941722e-01 -3.94364685e-01\n",
      "  1.06214702e+00  1.60750365e+00  2.70825446e-01 -1.21326178e-01\n",
      "  1.03107893e+00 -6.15120828e-02 -1.60901546e+00  3.31676006e-01\n",
      "  5.28140366e-01  1.01935089e+00  7.61153698e-02 -1.04189515e-02\n",
      "  1.20247126e-01  1.34228563e+00 -7.05814362e-01 -8.91023576e-02\n",
      "  3.89782131e-01  1.06819797e+00 -9.32432294e-01  1.73647904e+00\n",
      " -6.78276122e-01 -1.86728030e-01 -8.41609538e-01  7.39754081e-01\n",
      " -6.11656427e-01  6.57960236e-01 -1.20964599e+00  2.33974636e-01]\n",
      "computers [-1.4225639   1.2438316   0.0664771  -0.33254775  1.3144243  -0.31183773\n",
      "  1.7221988   0.5735288   0.6824399   0.16539234 -0.7308683  -1.3036559\n",
      " -1.0893828  -0.16813274  0.29464054 -0.5677582   0.37742954  0.6191212\n",
      "  0.3823895  -0.98879135 -0.16943735 -1.0409881  -0.05571398 -0.13799372\n",
      " -0.68747157 -0.9626192   1.0641544   0.04127863  0.18300846 -0.81955224\n",
      "  0.22533903 -1.1995566   0.3531425  -0.29358658 -0.07031918  0.30857944\n",
      "  1.0358818   1.171361   -0.75649995 -0.728137    0.34412307  0.11468966\n",
      " -0.08923709 -0.16293523 -0.03206047 -0.26230204  0.29163325 -0.00528787\n",
      " -0.0988729  -1.1921391  -0.14883438 -1.4141216   1.2414334  -0.39514485\n",
      " -0.9497664   1.2981259   1.2436149  -0.5679383  -0.08575599  0.61675733\n",
      "  1.4783611  -0.2737915  -0.01260465 -0.724252    1.0253291  -0.07918054\n",
      " -0.4889279   1.1729327  -0.6221676  -0.08685628 -0.8124167   1.294201\n",
      "  1.250108   -0.47374988 -0.47021514 -0.92371595 -1.0288187   0.6146872\n",
      " -0.9485252   0.10734817 -1.0388203   0.9451175  -0.3025888  -1.7053479\n",
      " -0.17023742  0.70742154 -1.6379285   0.20250565  0.33054814  1.0435495\n",
      " -1.283578   -0.17020325  1.5308644   0.8416656   0.58086085  0.31417885]\n",
      "and [ 2.0759897e+00 -2.2919774e-03 -1.3854709e+00  3.5160142e-01\n",
      "  7.9660214e-02  2.2329648e+00 -1.3601345e-01  6.7823017e-01\n",
      "  2.1606389e-01  1.1016040e+00 -1.1263239e+00  8.6093467e-01\n",
      " -6.6877586e-01 -1.4903790e-01  2.4347327e+00 -1.4333980e-01\n",
      " -1.8882424e-01  2.1119854e+00 -6.9395292e-01  3.9642429e-01\n",
      " -1.4219854e+00  3.3973029e-01 -3.4847975e-02 -1.3811296e+00\n",
      "  1.8640246e+00 -7.3616791e-01  6.3931793e-01  2.0247195e+00\n",
      " -2.9081875e-01 -6.0248566e-01 -9.0908647e-01  5.2033857e-02\n",
      "  8.7155670e-02  2.3783529e-01  1.7328818e+00 -4.3488327e-01\n",
      " -1.2979543e-01 -5.2029002e-01 -5.2822268e-01  2.0474801e+00\n",
      " -1.4053814e+00 -7.8278124e-01 -2.1320250e+00  3.1704521e-01\n",
      " -3.7540078e-01  1.1854295e+00 -1.2384470e+00  7.5905874e-02\n",
      " -8.4163594e-01  8.9188784e-01  2.8207633e+00 -1.8366301e+00\n",
      "  4.4957191e-01 -1.2538819e+00  1.0890559e+00 -5.0667155e-01\n",
      " -1.0882781e+00 -6.8504035e-01  6.0187221e-01  1.9739687e-02\n",
      " -1.2115061e+00 -1.4399331e+00  2.6309744e-01 -1.1508148e+00\n",
      "  9.3051589e-01  6.4125288e-01 -1.2643981e+00 -1.0124364e+00\n",
      "  1.4867651e+00  1.6231521e+00 -1.8132043e+00 -6.5202469e-01\n",
      " -7.6967102e-01  2.5881830e-01 -2.0029600e+00 -4.7297138e-01\n",
      " -1.4768755e+00  2.3446503e+00 -3.6928004e-01  2.5877390e+00\n",
      " -8.0521923e-01 -3.0373544e-01 -6.4518857e-01  1.5699738e+00\n",
      " -3.0367190e-01  1.2518227e-02 -5.4746276e-01  2.3483629e+00\n",
      " -8.8613832e-01 -6.6925150e-01  4.5902041e-01  5.9938967e-01\n",
      "  1.5104443e-02  3.7110049e-01  3.3740056e-01  2.9249352e-01]\n",
      "humans [-0.64747334  1.3955466  -0.5312381   0.547387    2.1066294  -1.0189333\n",
      "  1.4700046   0.983138    1.404271    0.05605751 -0.7374145  -0.48714334\n",
      "  0.33621663 -0.04943451  0.35229793  0.35734805  0.86978334  0.18445736\n",
      "  0.19508281 -0.6285975  -0.38849223 -0.65132046 -0.87641114  0.1301371\n",
      " -0.3395453  -0.1302982  -0.03900304  0.14237016 -0.2713759  -0.48056144\n",
      " -0.42534497 -0.52945083  0.18056682  0.01145865 -0.99520826 -0.9007768\n",
      "  0.46831754  2.4601336  -1.0049605  -0.18749607 -0.5686037  -1.3764129\n",
      " -0.8640706  -0.4791305   0.55496806  0.03118432 -0.09688111 -1.2063868\n",
      "  1.1530049  -0.49606535  1.0241897   0.4632263   1.3626482  -0.39041996\n",
      "  0.10197065  0.07781091 -0.78366184 -0.5302743  -0.9361049   0.998046\n",
      "  0.6612549  -0.08407739 -0.6090306  -0.47582257  0.7175139  -0.236658\n",
      "  0.09445542  0.52062404 -0.68700665 -0.2818889  -0.57594246 -0.9485563\n",
      " -0.08786298  0.0265168  -0.9041205  -0.72876954 -0.51967883 -0.14283642\n",
      " -0.88132125  0.02973296 -1.2295424  -1.1452239  -0.32227206 -1.3042877\n",
      "  0.1323793  -0.02059723 -0.41579273  1.5661467  -0.07459265  1.0971179\n",
      " -1.048596    1.1551535   3.4209394  -0.05990675  1.0288165   1.5134268 ]\n",
      ". [-0.386865   -0.5919497  -0.07207139 -1.7049658   0.02498407  2.091352\n",
      "  1.1000748  -0.21820259  0.12861228 -0.85197675  3.0913436  -1.0493739\n",
      "  0.32732177  1.7002575  -0.48046798  0.6292206  -1.5583252  -0.53023136\n",
      "  0.95782864 -0.67130834  0.31207582 -0.6038821   1.1362984  -0.01421577\n",
      "  1.724168    3.7506518  -0.2351023   0.16718522 -0.4182688   1.5466365\n",
      "  0.14092451  1.158182    1.1591725  -0.03835234 -0.6629187  -0.2808208\n",
      " -0.29961863 -0.3951171  -0.8026615   0.9673191   1.8684945  -0.20822993\n",
      " -0.05975284 -0.92620474  0.5092098  -0.29800588 -0.6130708  -0.10074493\n",
      "  1.362496   -0.53354675  3.9068666  -0.1411879  -0.713791    0.9899954\n",
      "  0.9649434  -1.3768475  -0.78903246 -1.3058159   0.6888908   0.28304136\n",
      "  0.21484916 -1.8968332   0.56774163  2.3358693   0.84433395 -0.243564\n",
      " -0.89791214  0.23165649 -0.6719358  -0.15334928 -0.99041766  0.35352257\n",
      " -1.3952585  -0.8380947   3.128096    0.90029895 -0.82125545  1.0703108\n",
      " -0.9985414  -1.1799471  -0.16323593 -2.0404522  -0.6130415   0.7698667\n",
      " -0.4811355  -0.6254815  -0.5702474   0.10643896 -1.9268924   0.6834173\n",
      " -0.8893976   0.12923914  0.01964365  0.07138744 -0.903291   -1.242051  ]\n"
     ]
    }
   ],
   "source": [
    "doc = nlp(\"Natural language processing involves the interaction between computers and humans.\")\n",
    "for token in doc:\n",
    "    print(token.text, token.vector)\n"
   ]
  },
  {
   "cell_type": "code",
   "execution_count": 101,
   "metadata": {},
   "outputs": [
    {
     "name": "stdout",
     "output_type": "stream",
     "text": [
      "Deep [-4.33042526e-01 -1.04033613e+00 -4.57081437e-01  6.54177487e-01\n",
      " -1.19228296e-01  7.30892196e-02  4.14647162e-02  5.87291121e-01\n",
      "  2.56889760e-01 -7.72441149e-01  1.28807497e+00  5.13577461e-01\n",
      " -2.10609508e+00 -1.44068968e+00 -3.20277065e-01 -8.76271605e-01\n",
      " -4.14330125e-01 -4.33577776e-01 -1.34970069e+00 -2.94027269e-01\n",
      " -7.38078117e-01  9.87300873e-01 -7.87041306e-01 -5.18574715e-02\n",
      "  6.14413440e-01  1.40681773e-01  1.89046764e+00  1.10837185e+00\n",
      " -1.88816816e-01  3.51376772e-01 -3.68279934e-01 -1.61304903e+00\n",
      " -4.22394544e-01 -1.20882761e+00 -7.72746921e-01  1.86450517e+00\n",
      " -1.11173153e+00 -8.78296018e-01  1.64634198e-01  3.46024203e+00\n",
      " -1.58193207e+00  1.55328429e+00 -5.49271822e-01 -2.33098835e-01\n",
      "  5.89270294e-02 -4.17385697e-02  2.91199386e-01  8.48809719e-01\n",
      "  8.56730938e-01  6.76643610e-01 -2.47987360e-01  2.56845057e-01\n",
      " -3.78334522e-02  2.84061134e-02 -6.36534572e-01  5.77008426e-01\n",
      "  4.71154809e-01 -2.12133080e-01 -1.95952848e-01  1.39899361e+00\n",
      " -1.68605244e+00 -1.10996056e+00 -3.55218351e-01 -5.22652090e-01\n",
      "  3.46353054e-01 -9.24520493e-01  1.06347227e+00  6.52327597e-01\n",
      " -1.24109197e+00 -4.88388270e-01  1.32864714e-03  1.03145278e+00\n",
      " -1.93379104e-01 -1.51785254e-01  5.67732275e-01 -1.04958487e+00\n",
      "  4.62055057e-01 -1.04748058e+00  7.32458711e-01  6.37314796e-01\n",
      " -5.76233983e-01  3.85538340e-02 -2.70762652e-01 -3.82741690e-02\n",
      "  4.06984150e-01 -1.30637527e-01  1.37201071e+00  2.60686755e-01\n",
      "  1.12409759e+00 -3.95976275e-01  7.50026703e-01 -8.18531394e-01\n",
      "  1.79873049e+00  7.69332945e-01 -1.47847608e-01  1.25836730e-02]\n",
      "learning [-4.8326361e-01 -1.2162030e-03  4.4449484e-01  2.9908395e-01\n",
      " -4.9487293e-01  7.9716539e-01 -1.8058267e-01  2.4420387e-01\n",
      "  4.9114060e-01  4.2040199e-01  5.5610669e-01 -2.1163878e-01\n",
      " -1.1027071e+00 -1.6107991e+00 -4.7390330e-01  4.9547860e-01\n",
      "  6.6953111e-01  8.6415529e-02 -1.2874289e+00  8.3381885e-01\n",
      " -6.2627488e-01  2.3917589e+00  7.4681246e-01  1.0442350e+00\n",
      "  1.5308931e-01  3.4484673e-01  1.6784413e+00  7.4481523e-01\n",
      "  8.2325065e-01 -5.5177057e-01  8.9285290e-01 -3.7317730e-02\n",
      " -1.3574600e+00 -1.3054796e+00  2.7374306e-01 -1.3858788e-02\n",
      " -8.9046079e-01  3.5704044e-01 -1.6884308e-01  7.1468437e-01\n",
      " -1.4876492e+00 -6.2337238e-01 -2.1434289e-01  2.0606337e-01\n",
      " -6.9827437e-02 -3.0266368e-01 -8.6953640e-02  9.5992410e-01\n",
      " -5.3488481e-01  1.6211382e-01 -9.0749276e-01 -1.1035832e+00\n",
      " -6.4072716e-01 -7.3905736e-01 -1.1214463e+00 -1.3230646e+00\n",
      "  3.8366312e-01  2.0229018e-01 -8.9926320e-01 -2.4514228e-01\n",
      " -4.0227759e-01  9.2343271e-01 -4.3977091e-01 -2.6512140e-01\n",
      " -1.3117616e+00 -2.0055521e-01  5.5400473e-01  8.0448836e-02\n",
      "  2.7746719e-01 -8.0429977e-01  5.7891476e-01 -2.4315409e-01\n",
      "  7.5712872e-01  4.8312604e-02  5.9889555e-01 -2.0273751e-01\n",
      "  3.7492186e-01 -6.1787856e-01  1.1060780e+00 -1.6994500e+00\n",
      " -4.0545321e-01  2.0231187e-01 -7.2420323e-01 -1.0785248e+00\n",
      " -6.2541097e-01 -5.2732462e-01  7.0268816e-01 -2.0977665e-01\n",
      "  2.0663708e-02  6.4580286e-01  7.2501898e-01  9.8276937e-01\n",
      "  1.0412495e+00  1.0952566e+00 -9.5911646e-01 -6.2764275e-01]\n",
      "algorithms [-0.42225885  0.8104977  -0.6811604   0.78983617  1.4420955  -0.27493298\n",
      "  1.9825559   0.53444695  0.5743364  -0.41226128  1.1259402  -0.02496342\n",
      " -0.24120341 -1.0976044  -0.24543694  0.26629496  0.19804287  0.316258\n",
      " -0.74640596 -0.5627588  -1.0231352  -1.193591    0.06252109  0.5216991\n",
      " -1.3603631  -0.06721     0.9433772  -0.97312534  0.09123081 -0.6909511\n",
      " -1.0081775   0.1502591  -0.7697166   0.11608481  0.35151798 -0.18824565\n",
      " -0.22583562  1.0174594  -0.92386925 -0.0563865   0.13184816  0.7149677\n",
      "  0.22891732  0.5897943  -0.29163617  1.5469716   1.4891798   0.91218245\n",
      "  0.24077055 -1.3033129  -0.35579744 -0.05315334  0.29451543 -0.71602136\n",
      "  0.08547065  0.31757832  0.21303952  0.10875598  0.21402396 -0.1823815\n",
      "  0.34628814  0.31870303 -0.18825382 -0.54194     0.07334957  0.1411491\n",
      "  0.23937011  0.61263156  1.0963356  -0.854992    0.15197247  0.10536529\n",
      " -0.23696959 -0.39987835 -0.28617233 -0.47530884  0.29224572 -1.5709925\n",
      " -0.2990417  -0.90578413  0.32640707 -0.2504753  -1.1057074  -0.6013623\n",
      " -0.09206492  0.991704   -1.6248875  -0.01685733 -0.59168136  0.2960543\n",
      " -0.6498423   1.3893447   1.1852311   1.0552484  -0.74801123  0.42303625]\n",
      "are [-0.8553154   0.08892242  0.5459724  -0.40517548 -0.9432863   0.7198091\n",
      "  1.3621817   1.9436476   0.733732    0.75804317  0.45753342  0.11204214\n",
      "  0.664916    0.3347027  -0.88988763 -0.14118183 -0.17825279  0.34922862\n",
      " -0.6620534  -0.42810652 -0.7795505   0.05340153 -0.7445982  -0.07421362\n",
      "  0.5495648  -0.899848   -0.27024668  0.5156201  -2.4418702  -0.13116418\n",
      "  0.57007015  2.0081716  -0.6118852  -1.0078182  -0.8955125  -1.4532211\n",
      " -0.18541305 -1.1376164  -0.4199768   1.9636652   1.008649   -0.17125326\n",
      " -0.2606499  -0.34321615  3.185328   -0.6702901   0.50302577 -0.65958166\n",
      "  0.296496   -0.27061003 -0.970824   -0.09903091 -1.867378   -1.7296675\n",
      "  1.9051777  -0.60782576 -0.9710093   0.11490501  0.20078081 -0.24397972\n",
      "  2.9978964   0.68241227  1.5752504   0.0878846   0.11583015 -0.91678876\n",
      "  0.7410392  -1.4890519   3.2423556  -0.514376    1.0832912  -0.21968292\n",
      "  0.4806707  -1.2705517  -1.2927008   1.3806225  -1.0230167  -1.2990291\n",
      " -1.0715657   0.66968226 -0.43026024 -0.08937991  0.97486144  0.76228803\n",
      " -0.22560929 -0.273759    0.97155166 -1.3162227  -1.0139633   0.7162981\n",
      "  0.34459066 -0.266634   -0.37734556 -0.3135302  -0.12650521 -0.09378612]\n",
      "inspired [ 2.585121   -1.3694768  -0.8450835   2.2544172  -1.2210771   0.42748478\n",
      " -0.1482051  -0.923911   -0.9199106  -0.24215195 -1.4636428  -0.5781679\n",
      " -0.4158454   1.2302655  -1.0950902   0.8517499  -1.2618029  -1.0016134\n",
      " -0.9695059   1.9170098  -0.2690662  -0.5206666   1.5402008   0.03545564\n",
      " -0.4249339  -0.3945097  -1.0122461   0.92998564  0.44654596 -0.32163528\n",
      " -0.14336225  0.32475626  0.5500514   0.6165494   0.14807844 -0.84117573\n",
      " -1.2019062  -0.01943427  0.55759275  0.095465    2.597299   -0.04174393\n",
      "  0.1875304  -0.16637263  0.36118767 -0.63359463 -0.50153255 -0.5151049\n",
      " -0.4933917   0.7599084  -0.69142735 -0.8221214  -0.03616449 -1.1718507\n",
      "  0.01794849  1.9501728   2.22856    -1.5702994   0.6668651   0.0691669\n",
      " -0.5495516   0.38008305  1.3841643   1.2667538   0.94539756 -0.33738288\n",
      " -0.826385   -0.9657086  -1.2105577   0.2697538  -0.19278643 -0.2678588\n",
      " -0.91494614  0.73725104 -0.33786115 -0.13376892 -1.1007221  -1.092148\n",
      " -1.0023812  -0.49117795 -1.0168009   0.18611345  0.679203    0.77639955\n",
      " -0.18595791 -0.21690822  0.97618556  0.7818891  -0.5627843  -0.4543295\n",
      " -0.26337248 -0.68612885  0.02693827  2.086415    0.8899654   0.9228985 ]\n",
      "by [ 1.9464332  -1.0339631  -0.67734873 -0.7428932  -0.33920723 -1.3246847\n",
      " -0.23576906 -0.86650234 -0.5145371   0.53862864 -0.17990506 -1.0387437\n",
      " -1.2020565   0.08777142  1.7848563  -0.52454007 -0.27757007  1.5350151\n",
      "  0.19160393  2.1007342  -0.45868033 -0.5758318   0.37187666 -1.0952604\n",
      "  1.1191128  -0.6165648   0.31135356  0.00655942  0.437764    0.1966677\n",
      " -0.19026166 -0.81665975  0.7233867   1.3871334  -0.49869668  0.05539608\n",
      "  0.12693864  0.03303674  1.3443336  -0.2873977  -0.41098285 -0.81703436\n",
      " -0.972015   -0.703192    0.02972609  0.55011225  1.5821476   0.33305514\n",
      "  1.0588644  -1.0691047  -1.0370983   1.0930052   1.1307354  -0.8992435\n",
      " -1.8313881  -0.4947848  -0.95007145 -1.5147356   1.2027891  -0.46853632\n",
      " -0.9261381  -0.19014773  1.3553874   0.5059177   0.15990046 -0.34880942\n",
      "  0.35753393 -0.13578057  0.43898588  0.95860064  1.3107517  -0.5798016\n",
      " -0.6016077   0.08382478 -0.44118404  1.2482995  -0.11630273  0.10976693\n",
      " -0.47561133  0.72487193 -0.23867568  0.8618544  -1.1651495  -0.47110003\n",
      "  0.22519803  0.50871813 -0.71053165  1.2672751  -0.9129368   0.3443792\n",
      " -0.8697729  -0.11976707 -0.1588361   0.1629893  -0.46056652  0.95467305]\n",
      "the [ 1.2094235  -0.48837692 -0.7267356   0.7904475  -0.7102761   0.18321872\n",
      " -0.38488773  0.5062726   0.6754288   2.122438   -0.3503772   1.312908\n",
      "  0.55515456  0.63610864 -1.032681   -1.0412924   0.4072267   0.89660615\n",
      " -0.5890956  -1.3388151  -0.7470068  -0.14548329 -0.16270691 -0.89557064\n",
      "  1.593464   -0.36136824  0.25293034 -0.49470857  0.6428867   0.3000125\n",
      "  0.17760995 -0.92369795  0.10883102 -0.21055421  1.1830716   0.5026443\n",
      "  0.90842307  1.1531084  -1.4104946  -0.7220853   0.51676524  1.3538632\n",
      " -1.3290881   0.40913236 -1.0786165   1.3860514  -0.69936275  0.71838874\n",
      " -0.71348476 -0.01278841 -1.2998018   0.4871166   0.36176017  1.7465312\n",
      " -0.25670892  0.8586087  -0.63347965  1.2545543  -0.88892406 -0.71478945\n",
      "  0.46921197 -0.98503387  1.0028883  -1.3396707   0.1843645  -0.84960985\n",
      "  0.48228914  0.7827764  -0.20568188  0.2980202  -0.57047546  0.8349729\n",
      " -0.8322406  -0.47475374 -1.2749159  -0.46894917 -0.12396091  1.5249649\n",
      " -0.6006888  -0.6322509  -0.37228757  1.4924543   0.22920154 -1.4633868\n",
      " -0.16446988 -0.10470796  1.103023   -0.19263676 -0.85713947  1.0006843\n",
      " -0.69888896  0.07349555 -0.42570826 -0.6178547  -0.73341924  0.14471287]\n",
      "human [ 6.21043861e-01 -1.30218387e+00  4.43169385e-01  3.31187010e-01\n",
      " -1.21051073e+00  3.58533353e-01 -7.07837343e-02 -4.07947153e-01\n",
      " -3.78597155e-02 -7.35669374e-01  1.67254835e-01  7.26989359e-02\n",
      " -1.34355441e-01 -6.49542212e-01 -1.49704373e+00 -3.84210587e-01\n",
      "  3.65241766e-02  4.00707513e-01 -5.90754867e-01 -7.21389055e-02\n",
      " -3.10087621e-01  6.89296126e-01 -6.47905111e-01  1.18552439e-01\n",
      "  1.26007944e-03 -1.11641765e-01  7.93418109e-01  4.98951495e-01\n",
      "  1.28275454e+00  4.53092188e-01 -1.78053021e-01  3.68913084e-01\n",
      " -1.18553841e+00 -8.16993177e-01 -6.90024972e-01  2.36174583e-01\n",
      "  6.38276577e-01 -3.10046196e-01 -1.35142660e+00 -1.03830671e+00\n",
      "  2.30157226e-01  6.25261426e-01  1.14408970e-01  1.15564942e+00\n",
      "  1.97346091e-01 -4.99886274e-02  1.58262014e-01  5.37764132e-02\n",
      " -3.46826017e-02  7.30605781e-01 -6.52843893e-01  1.77428770e+00\n",
      "  8.45132053e-01 -1.30528283e+00 -8.91668916e-01  6.99213892e-02\n",
      "  1.89540386e-02  1.80146039e+00 -5.96182287e-01 -3.32351267e-01\n",
      " -1.52751341e-01 -1.60453522e+00  4.46998745e-01 -3.60866189e-01\n",
      " -8.84412408e-01 -5.20024061e-01  1.64803123e+00  1.24131918e+00\n",
      "  3.72436434e-01 -1.23033822e+00  3.49664837e-01  8.65692377e-01\n",
      " -1.72213286e-01 -3.12464833e-01 -3.84532243e-01 -1.36677361e+00\n",
      " -9.59103286e-01 -7.21187055e-01 -4.03591037e-01  3.31009388e-01\n",
      "  1.81614175e-01  1.15494013e-01  8.00325036e-01 -3.03132892e-01\n",
      " -1.59475112e+00  1.38759643e-01  2.31686562e-01  5.48949778e-01\n",
      " -4.03742522e-01  9.43617344e-01  6.15562916e-01  7.77116954e-01\n",
      "  5.35097063e-01  8.50105584e-01 -9.08122659e-01  2.25868165e-01]\n",
      "brain [-1.5923254  -0.48296973 -0.24655285  0.0431655   0.31495064  0.06161357\n",
      "  1.2506709   0.8048347   0.71717733 -0.4384478  -0.3938545  -0.7665229\n",
      " -0.08876191  0.06798831 -0.7748423  -0.00854412 -0.03676885 -0.5315\n",
      "  1.5101557   0.55380327  0.1011067   0.674611   -1.238538   -0.41723794\n",
      " -0.03372651 -0.4038421   0.6384145  -0.04473794  0.550954    0.1297698\n",
      " -0.6963059  -0.36348164  0.30811575  0.29105434 -0.34658656 -0.8323218\n",
      "  0.45361316  1.4037     -0.14928031 -0.12578154 -1.0769868  -0.16856363\n",
      "  0.2757483   0.7912969  -0.6216543   0.06278807 -0.880319   -0.37814814\n",
      "  0.5083099   0.6221281   0.04077598  1.1777076   0.48427358 -0.5515013\n",
      "  0.03425826 -0.20513302  0.10868749  0.06822005  0.6935638  -0.8393086\n",
      " -0.25745624 -0.61854094 -0.11902883  0.43066785 -0.14018118  0.5996218\n",
      " -0.46486384 -1.1264677  -0.51955736 -0.090193    0.41858608 -0.47109306\n",
      "  0.923821   -0.8904282   0.28920996 -1.2013074  -1.0452043  -0.6056501\n",
      "  0.00837649 -0.5103784  -0.27904475  0.46160823 -0.9577145  -1.1988034\n",
      "  0.6147325   0.5196314   0.2261091  -1.0071528  -0.8246373   0.9082733\n",
      " -0.63603604  0.96746206  1.6734141   0.80729014  0.8341249   0.6420542 ]\n",
      ". [-0.89280856 -0.5925796   0.22745053 -1.6316622  -0.3223571   2.336295\n",
      "  0.84548646 -0.32974786  0.05215934 -0.37245387  3.1834831  -0.9171637\n",
      "  0.46888053  2.0900478  -0.693127    0.7413212  -1.4950877  -0.5618675\n",
      "  1.2345036  -0.90665835  0.23348653 -0.5757932   1.6220312  -0.49677098\n",
      "  1.6419474   3.9528294  -0.5806576   0.34859693 -0.28267625  1.8913362\n",
      "  0.04583699  1.2691066   1.2256716   0.5095654  -0.474064   -0.2763241\n",
      " -0.36520502 -0.38086373 -1.0494487   0.8452459   2.364789   -0.18162847\n",
      "  0.20024179 -1.1789305   0.11789304 -0.9766828  -0.4845919  -0.06481129\n",
      "  1.5323005  -0.42863137  3.9356306  -0.65360105 -0.51710606  0.87073386\n",
      "  0.97665095 -1.5169852  -0.576356   -0.9209666   0.4333334  -0.04955755\n",
      "  0.27928805 -1.7099828   0.25123656  2.2949548   0.33436033 -0.3641863\n",
      " -0.34275633 -0.12723234 -0.95619285 -0.6684086  -0.47401762 -0.22349115\n",
      " -1.0462625  -0.6369584   2.7411091   0.07133503 -0.75018734  1.6756121\n",
      " -1.1672943  -1.2147777  -0.7324765  -1.8598158  -0.86103815  0.43460196\n",
      " -0.9941951  -0.00971398 -0.54317534  1.0638623  -1.8990282   1.101438\n",
      " -0.92162097  0.03330269  0.26857534 -0.18358284 -0.8873562  -1.0347173 ]\n"
     ]
    }
   ],
   "source": [
    "doc = nlp(\"Deep learning algorithms are inspired by the human brain.\")\n",
    "for token in doc:\n",
    "    print(token.text, token.vector)\n"
   ]
  },
  {
   "cell_type": "code",
   "execution_count": 102,
   "metadata": {},
   "outputs": [
    {
     "name": "stdout",
     "output_type": "stream",
     "text": [
      "Data [-0.8575449   0.3552682  -0.0132792   0.9928758  -0.4021253  -0.04476113\n",
      " -0.26850572  0.7315023  -0.49882555 -0.2654677   1.5597377   0.740015\n",
      " -1.442267   -1.4097127  -0.27535647  0.0408079  -0.27156013 -0.37123692\n",
      " -1.0553901  -0.420735   -0.0990666  -0.92295015 -0.12666935  0.45897245\n",
      "  0.831902    0.04962385  0.91891843  1.7558225   0.65171635  0.8380246\n",
      " -0.6902151  -1.1793187  -0.28517413 -0.33095694 -0.7192014   1.7869964\n",
      " -0.2559304  -1.0777141  -0.5837805   2.3002093  -0.94227403  1.3291843\n",
      " -0.5105836   0.8797219  -0.44540176 -0.74916935  0.7220301   1.0852664\n",
      "  0.7960135  -0.9167366  -0.01820384 -0.9274871   0.7377376  -1.2153409\n",
      " -0.24831718  0.095543   -0.40090305 -0.7469624   0.23264849  0.80381286\n",
      " -1.0879273  -0.35068256 -0.78856933 -1.2565747   0.57898414 -0.31971428\n",
      "  0.13836923  0.24589655  0.15171605 -1.8710039  -0.29657894  1.3312994\n",
      "  1.1170037  -0.99995327  0.90986824 -0.24153538 -0.27246797 -0.71745735\n",
      "  0.14059605  0.32934308 -0.17243606  0.28329468  0.0909767  -1.3212492\n",
      "  0.4925897   0.5183636  -0.34089613  0.12852171  0.5048127   0.02886352\n",
      "  0.29260507  0.47444126  1.0990732   1.4681362  -1.3397022   0.09979226]\n",
      "science [-0.40462077 -1.0097516  -0.17244485 -0.36497173 -0.45877242  0.41738588\n",
      "  1.5738186   1.1535614  -0.2344567  -0.24562415  0.7759623  -0.26374072\n",
      " -0.11335091 -1.8437953  -0.78494966  0.52457285  1.2090347  -0.7532766\n",
      "  0.1949169   0.22384137  0.66318     0.42402256  0.29406375 -0.9940889\n",
      " -0.576235   -0.21930987 -0.27564266  1.3024988   0.1375081   0.9050221\n",
      "  0.16588826 -0.07601237  0.35139748 -0.47863555 -0.9593781  -0.47120428\n",
      "  0.39111185  0.47666937 -0.02010184 -0.04346949 -0.6531069  -0.21170712\n",
      "  0.22452354  1.4044217  -0.18613523  1.0787913   0.6220517   2.0167022\n",
      "  0.4189696  -0.5243654  -0.06408751 -0.73217183  1.0152838  -0.54456246\n",
      " -0.10828982 -0.925994    0.91326046 -0.7293575  -0.25537875  0.20690379\n",
      "  0.41030693  0.13498473 -0.36372873 -0.6682199  -0.03752993 -0.26043484\n",
      " -0.20167413 -0.22081354 -0.13489133 -0.80344236  0.00364949 -0.07495874\n",
      "  0.80001295 -0.9959857   0.37328547 -0.12935644 -0.48199457 -1.1092825\n",
      " -0.02186126 -1.2343313  -0.8695401   0.79359704 -0.0587366  -0.5068581\n",
      " -0.49285597  0.1816123  -0.4881086  -0.8974123  -1.0855463   0.21783507\n",
      "  0.01240753  0.958501    1.6858523   0.689394   -0.4130149   0.73145473]\n",
      "combines [ 0.14377883  0.75756425  0.29192418  0.93703616 -0.7015896  -0.57963455\n",
      "  0.12206954 -0.03393862  0.8736223   0.14073999  1.2532985  -0.25903648\n",
      " -0.54681194 -2.2121532  -0.01862007  0.38561183 -1.4322262   0.417341\n",
      " -0.29264852  0.29384553 -0.10965516 -1.134087   -0.89854914  0.6098223\n",
      " -0.1389389   0.22884166  0.80481666  1.2839587   0.6058619  -1.1568445\n",
      " -0.9268578   1.3253877  -1.4214269   0.7201042   0.33486524 -0.34343576\n",
      "  0.430559   -0.08432832  1.7707567  -0.34193122  2.2628427  -0.28229043\n",
      " -0.20204559 -0.68491465  0.824698    0.47574005  1.8249835  -0.8379185\n",
      "  1.0229094  -0.8194981   0.0254183  -0.9421234  -0.59151775 -0.22735953\n",
      " -0.57439274 -0.8981265  -0.82513934 -0.81240094 -0.7420688   0.7230004\n",
      "  0.0838974   1.6654792   0.17643306  1.083149    1.5983115   0.018476\n",
      "  0.37788576 -0.03864631 -0.33133456  1.7523601  -1.0152699   0.35450733\n",
      "  0.29311615 -0.6606327  -0.14400534  0.3414562   1.1531789  -1.6903534\n",
      " -0.5310794  -1.6151967  -0.98336023 -0.14093396 -0.5463126   0.0939492\n",
      "  1.7667122  -0.01144361 -0.63056093  0.23962596 -0.6286538  -0.39319253\n",
      " -0.2585378   0.2807939  -0.56755686  1.3329562  -1.0102664  -0.4873497 ]\n",
      "domain [ 0.8238848  -1.2901982  -0.38533562  0.7477969  -0.31860226  0.19446886\n",
      "  0.32941252  0.67639595  0.514467   -0.07697952  0.5272423  -1.1008445\n",
      "  0.49756873 -1.5382798  -0.5804007   0.26586315 -0.6921082   0.5098526\n",
      " -0.02189815 -0.5328796   1.4150202   0.16804568 -1.4173179   0.01783547\n",
      " -0.11980754  0.8785411   0.36571413  1.4986494   1.0089344   0.45383537\n",
      " -0.04307869 -0.5753956  -1.1035264  -0.23338407 -0.12972917 -0.47717854\n",
      "  1.0265696  -0.12071568 -0.6722756  -1.1218808  -0.6450555  -0.07606667\n",
      " -0.95416045  0.56219137  0.1726864  -0.10488069 -0.54055154 -0.5028239\n",
      " -0.9096197  -0.5485328  -0.15868649 -0.7962698   1.3657875  -1.561259\n",
      " -0.8327579  -0.43330413 -0.8236629   0.7499366  -0.52014446 -0.8482607\n",
      "  0.02527528  0.60751307 -0.32953468 -0.9722828  -0.70357925  0.22628069\n",
      "  0.58398247  0.7752526   0.45573965 -0.3841915   0.56285906 -0.6358464\n",
      "  1.608798   -0.18536952 -0.51790416 -0.42852992 -1.1382465  -0.8618157\n",
      "  0.7294251  -0.06704143  0.1544721  -0.10042566  0.7106848   0.3678207\n",
      "  0.6059909   0.1834006   0.5091115  -0.40339458 -1.5966539   1.5358689\n",
      "  0.7478093   0.29003346  1.2025822   1.5357437  -0.44777936 -0.55213344]\n",
      "expertise [-0.03233764 -0.92779845 -0.45156115  0.14879207  1.1658212   0.39614916\n",
      "  1.0264093   1.2155957   0.5056658  -1.1271874   0.23966405 -1.1912428\n",
      "  0.18229574  0.06933416 -0.09803469  0.3048141  -0.19305319 -0.09644682\n",
      "  0.07679799  0.2762017  -0.86182255  0.9510462  -0.33657217 -0.51216877\n",
      " -0.9046772  -0.221386   -0.17536967  0.27590877  0.12042435 -0.22339262\n",
      " -0.91238564 -0.28226292  0.88272214 -0.56639475 -0.58765304 -0.76668787\n",
      "  1.2703537   0.6612842   0.4628458  -0.13558283 -0.5620714   0.3583113\n",
      " -0.36524686  0.18911043  0.08301628 -0.05789798 -0.46648836 -0.16607237\n",
      " -0.09386498  0.54226136 -0.17052966  0.14370623  0.7166448  -0.9998122\n",
      "  0.08602774 -1.3000107  -0.52235484  0.6550075   0.9347348  -0.5357989\n",
      " -0.21350846  0.26110494  0.5213584   0.06827946  1.034318   -0.91577876\n",
      "  0.14844543 -0.04749249 -0.52453107  0.46844095  0.35371435 -0.73820233\n",
      "  1.3073826  -1.2124566  -0.24112283 -0.92902493 -0.6626565  -0.6523082\n",
      "  1.5620472  -0.6041302  -0.37241173  0.02802458 -1.0805415  -0.23461032\n",
      " -0.33198327  0.40007734  0.29492748 -0.8079937  -0.6386115   0.99067515\n",
      " -0.7792821   0.22769149  0.93371177  1.4963714  -0.4223655   1.4138958 ]\n",
      ", [ 0.5697648   0.36549833 -0.5278306  -0.47610041  0.57382435  4.182962\n",
      " -0.0787372   0.41521993  0.62737    -0.7018759  -0.19506395 -0.85031176\n",
      " -0.34101164 -0.84360266  0.5690874   0.04928157 -0.8345477  -0.8090956\n",
      " -0.12548321 -0.8413377   0.7261824  -0.50043344 -1.0220467   0.16359055\n",
      " -0.9083986   1.2873621  -0.5286337  -0.01262589 -0.24045089  0.33112282\n",
      " -0.45284355  0.6629211   1.8142666   0.07933425  1.1081827  -0.2971761\n",
      " -0.6049199  -0.4366677  -0.61268485 -0.2912051  -1.646588   -0.7594608\n",
      " -1.4835764  -0.2093882  -0.539106    0.4030403  -0.3839188  -0.11035699\n",
      "  1.1650388   0.9703336  -0.06656054 -0.9108614  -0.46368375  1.5830073\n",
      "  2.052154   -0.44643584  0.42944667 -0.44823328  0.82048565 -0.90754473\n",
      "  0.97054076  0.18648359  0.20943946 -0.11958712  0.86704427  0.8111373\n",
      " -0.6799086  -0.03083216 -0.7329598  -0.5116681  -0.0515735  -0.9761767\n",
      "  1.5872412  -0.7899219  -0.6242124  -0.2829826  -0.71152616 -0.55471706\n",
      " -0.23115644 -1.049902    1.0801793  -0.77454424  0.60039544  2.0131714\n",
      " -0.43535006  0.13108054 -0.53697264  1.4277525   0.57543695  0.05940768\n",
      "  0.12513739 -0.544268   -1.5199184  -0.23252922 -0.43822742 -0.21271543]\n",
      "programming [ 0.44830713 -0.04553805 -0.12297444  0.47714072 -1.5752296   1.2045567\n",
      "  0.21889389  1.2602772   0.1550807  -0.13747941 -0.31504488 -0.22988185\n",
      " -0.67276853 -0.63486814 -0.16613644 -0.07012124 -0.74542093 -0.83867955\n",
      " -0.75067616 -1.126775    0.8842031   1.1128447   0.7723878   0.27577153\n",
      " -0.11448738  0.778757    1.2134132   0.30715197  2.7932556   0.48496196\n",
      "  0.24867728  0.2652549  -0.91242003 -1.2325935   0.01955441  0.4854558\n",
      "  0.2676677  -0.15431038  0.5235926  -0.87956274 -0.99259484  0.2791638\n",
      " -1.2814871   0.8186116   2.142849    0.00899661 -0.23066056 -0.33115005\n",
      "  1.2387459  -1.1225936   0.07951053 -0.02758324  0.7317266  -1.2761894\n",
      " -0.56216013 -0.18124492 -0.29041013  0.01961865 -1.4396682   0.79193735\n",
      " -1.3070358   0.2066702  -0.93447405 -0.6591179   0.78635216 -0.10394117\n",
      " -1.5196353   0.26453337  0.5273743  -0.12753129  0.24881667  0.4799508\n",
      "  1.6481299  -0.4221475  -0.44044954 -0.06907755 -1.3047239   0.2547278\n",
      "  1.0566431  -0.9769945  -0.5454333   0.01187984  1.1175838  -0.67788374\n",
      " -0.6324967   0.0395658   0.9285895  -1.3198458  -1.3381522  -0.00558722\n",
      " -0.23410547  1.2662727   1.5194659   0.51944023 -0.56201524  0.5723394 ]\n",
      "skills [ 0.00853637  1.6826624  -0.25903895  0.39470655  0.96116334 -0.8635096\n",
      "  0.39287305  0.9094602   1.299287   -1.1813438   0.5529797  -1.13678\n",
      " -0.62524766 -0.06330234  0.09480126  0.7276981   0.63586676  1.2375095\n",
      "  0.7776046   0.41732398 -1.1871384  -1.0521091   0.74147207  0.4002232\n",
      " -1.0738444  -0.13837838  1.0186712  -0.1425271  -0.31628674  0.20138815\n",
      " -1.2119675  -0.30862802 -0.9367713   0.09823778 -0.00270412 -0.2811802\n",
      "  0.8409258   1.3282208   0.07936022 -1.4383807  -1.2480552   0.1178326\n",
      " -0.24472517 -0.07534011  0.23524325 -0.11247593 -0.85514027 -0.5791485\n",
      "  0.538427    0.1375319  -0.56443095 -0.7357423   0.7853809   0.248869\n",
      "  0.7029221  -0.04591284 -0.7194308  -0.41593662  0.5422515   0.3616135\n",
      " -0.14975613  0.30120617 -0.41592538 -1.0017362   1.7932725  -0.41204655\n",
      " -0.6663598   0.70332474 -0.6804591  -0.28293538 -0.7384368   0.30942267\n",
      " -0.05218869 -0.21912813 -0.4953636  -1.131026    0.45373112 -0.5505571\n",
      " -0.23837292 -0.12640351 -1.0487343  -0.4213593  -0.79173577 -0.79871285\n",
      " -0.20398313  0.24016231 -0.7282406   0.18708551  1.1648227   0.5012643\n",
      " -0.9081209   1.6406283   1.2369518   0.46946082  0.4510741   0.70996594]\n",
      ", [-2.69061774e-01 -7.24988639e-01 -1.34631276e+00 -1.60351920e+00\n",
      "  3.76834869e-02  3.77860212e+00 -3.93765986e-01 -3.63112956e-01\n",
      "  3.21286231e-01 -6.14549935e-01 -9.00641918e-01 -1.02832830e+00\n",
      " -2.25495875e-01 -7.13894963e-02  3.06049943e-01  3.84499542e-02\n",
      " -7.58037567e-02 -4.06067580e-01 -9.73529339e-01 -8.94394040e-01\n",
      "  1.06810319e+00 -1.01716384e-01 -1.06995344e-01 -2.99423665e-01\n",
      "  1.59043813e+00  1.83312654e+00  2.43250394e+00 -1.65121406e-01\n",
      " -1.47597909e-01 -9.36181247e-02 -4.29520309e-01  1.52882248e-01\n",
      "  9.22971368e-01  5.13655424e-01  2.89009690e-01 -2.12120086e-01\n",
      "  3.65656435e-01 -1.56669021e-01 -4.32444245e-01  5.68850636e-01\n",
      " -7.43550539e-01 -1.04850721e+00 -5.95763683e-01 -2.68725395e-01\n",
      " -4.44353610e-01 -1.02749765e-01 -1.81546211e-02 -9.66846108e-01\n",
      "  1.95542026e+00  8.00413549e-01 -1.32542491e-01 -2.22138613e-01\n",
      "  3.82545829e-01  1.23391533e+00  2.63197780e+00 -3.35738361e-01\n",
      " -1.41622365e+00 -1.29993200e+00 -3.55760157e-02 -4.20533806e-01\n",
      "  1.47463119e+00 -1.44021094e-01  3.07807058e-01  1.65089858e+00\n",
      "  7.94618428e-01  7.01459348e-01 -1.83621216e+00  3.44157010e-01\n",
      "  9.21496600e-02 -2.88382828e-01 -3.44147265e-01  8.62764418e-02\n",
      "  1.16193795e+00  2.58715153e-01  3.51045936e-01 -8.41324568e-01\n",
      " -1.25700426e+00 -1.14035439e+00  2.13520229e-02 -5.03730416e-01\n",
      "  7.28125155e-01 -1.46379149e+00 -5.46908498e-01  2.49327612e+00\n",
      " -2.18877017e-01  5.42916119e-01 -1.70791656e-01  1.02038300e+00\n",
      " -3.14783573e-01  1.51277006e+00  8.31798613e-02 -1.61575377e+00\n",
      " -1.86857939e+00 -1.14214420e-03  1.11150253e+00 -6.65623128e-01]\n",
      "and [ 3.21016669e-01  3.04602981e-01 -6.54836416e-01  6.13470972e-01\n",
      " -9.45042133e-01  2.55974913e+00  8.56874704e-01  2.66542286e-01\n",
      "  1.40889668e+00  4.40485179e-01  1.04863977e+00  4.90788758e-01\n",
      " -1.24388719e+00 -1.86702085e+00  2.80151725e+00  9.62561965e-02\n",
      " -3.70731592e-01 -3.71991724e-01  2.71373302e-01 -1.90939844e-01\n",
      " -4.18887854e-01 -4.07813698e-01  1.45543337e+00 -1.08857477e+00\n",
      "  6.28279984e-01 -4.39388275e-01 -1.19770753e+00  3.15695554e-02\n",
      "  9.21152949e-01 -7.87657142e-01  3.07537794e-01 -7.82911181e-01\n",
      "  6.30804360e-01  6.04860902e-01  1.84443617e+00  1.84136778e-01\n",
      " -7.11267531e-01 -7.93797314e-01 -1.04044962e+00 -1.09549046e-01\n",
      "  6.68458819e-01 -1.64224923e+00 -5.45175076e-01 -1.05139315e+00\n",
      "  7.77265847e-01  2.86082339e+00 -6.61045313e-04  9.62255478e-01\n",
      " -1.18854189e+00  7.97868371e-01  1.47481084e+00 -1.01791441e+00\n",
      " -5.60849249e-01 -3.49000096e-02  2.09515259e-01  3.38160902e-01\n",
      " -3.40495080e-01 -1.28261709e+00 -1.14896834e+00  3.35355341e-01\n",
      " -1.72113287e+00 -8.10378492e-01 -5.86651921e-01 -8.51902604e-01\n",
      "  9.75260437e-01 -3.48961204e-01 -2.17591858e+00 -3.03773820e-01\n",
      "  1.49425638e+00  7.23239183e-01  2.20028237e-01 -7.78807878e-01\n",
      " -1.80506659e+00  3.97661865e-01 -1.39048076e+00  4.70827281e-01\n",
      " -1.60905266e+00  1.30776978e+00  1.62900686e-02  1.92979574e+00\n",
      "  6.90447092e-02 -3.52188438e-01 -5.27452588e-01  8.83674264e-01\n",
      " -2.84738243e-01  1.25978899e+00 -4.95164335e-01  2.52103138e+00\n",
      " -3.63447070e-01 -5.73713541e-01  4.95960802e-01  5.51697239e-02\n",
      "  5.47130585e-01 -2.89417952e-02 -2.83914149e-01  8.46976042e-01]\n",
      "knowledge [ 0.5774276   0.24403763 -0.18578777 -0.37648076  1.1439936   0.10949861\n",
      "  1.4804738   0.6243273  -0.9172574  -0.26309028  1.0592135  -0.7479249\n",
      " -0.7949077   1.202788    0.0511205  -0.40816975  0.58501816 -0.2598625\n",
      " -1.2317704   0.51739705 -0.2881536   0.7159371   0.05605774 -0.00846113\n",
      " -0.61810577  0.3230828  -0.19221435  0.06864043 -1.2979797  -1.2683262\n",
      " -0.47100908 -1.1625137   0.4054175  -0.04637606 -0.1169322  -0.6090812\n",
      "  0.18077597 -1.0044708  -0.54224145 -0.5237214  -0.11721013  0.17891884\n",
      " -0.7997695   0.1743586   0.7846545   0.27275395 -0.5606549  -0.06600821\n",
      " -0.57406676 -0.05066749 -0.85317445 -0.5111064   1.3784206  -0.6325827\n",
      "  1.3003831  -1.167968   -0.48145723  0.65516526 -0.11332241  0.5625058\n",
      " -0.8869407  -0.51699525 -0.16549808 -1.516659    1.0849476  -0.29145795\n",
      " -0.04262789 -0.4522314   0.86978096 -0.6202802  -0.09054184  0.9154711\n",
      "  1.5680109   0.00224438  0.48830515  0.248557   -0.718018    0.14053431\n",
      "  1.2670047  -0.6087235  -0.32014072 -0.10984018 -1.249335   -1.0875418\n",
      "  1.0873041   1.1030426  -0.19185038 -0.06113948 -0.5134573   0.76519966\n",
      " -0.26676625 -0.1497271   0.9779991   0.9864265   0.0306223   1.509402  ]\n",
      "of [ 2.033178   -0.61578476 -0.5177684  -0.629887   -0.80434525 -0.9851157\n",
      " -0.23503461 -0.96753335  1.5810287   0.50141555  0.07726908 -0.8112916\n",
      " -0.98962224 -0.2822425   0.32611322 -1.5913574   0.6640878   1.2617265\n",
      "  0.55219984  2.1433184  -1.0223069  -0.9289826  -0.76824987 -0.7334384\n",
      "  1.9203836  -0.13327838  0.8857467  -0.81385744  0.78496677  0.17996284\n",
      " -0.7549814  -0.18459594  0.8847493  -0.44310638 -1.0763626  -0.10520926\n",
      "  0.7599064   0.487535    0.24196677 -0.677435   -1.4040525  -0.3798616\n",
      " -0.77838516 -0.4555605   1.1518315   0.4090747   0.47783238 -0.6068381\n",
      "  0.2637114  -0.87916756 -0.7152059  -2.0304     -0.47964507  0.81876725\n",
      " -1.6027787  -0.34443283  0.12380378 -1.3535917   1.6495758  -0.10143632\n",
      " -0.5460151  -1.2490141   0.01271826 -0.57020426 -0.5725887   0.13781115\n",
      "  1.0373781  -1.0154283   1.0060071   0.30201334  0.68923485  0.36117333\n",
      "  1.9225168   1.2156656  -1.3153259   0.4654632  -0.34702936  0.92890847\n",
      "  0.34135526  0.34652877  0.75655484  0.3771835   0.16433157  0.40339375\n",
      "  0.8583532  -0.12151733 -1.2154013   2.328375   -1.2719674   0.09083247\n",
      "  0.40618253 -0.1651051  -0.9095556   0.38597208 -0.16748193  0.5849103 ]\n",
      "mathematics [-0.88524836  1.0672345  -0.37854186  0.09646043  1.0359428   1.0260817\n",
      "  1.8079209   0.4329451   1.3328586  -0.21613303 -0.38284776 -1.2351129\n",
      " -0.93533415 -0.5691268  -1.0933299  -0.8265409   0.14065322  0.6493194\n",
      "  0.25008017 -0.65590924 -0.4066338  -0.23317662 -0.16792315 -0.20221196\n",
      " -0.591962   -0.5844517   1.5076456  -0.31409633  0.8567473  -0.23576084\n",
      " -0.14426482 -0.4659426  -0.13830343  0.1525223   0.09684041  0.12472036\n",
      "  0.4851625   0.4378356  -0.75616455 -1.0624068   0.33536506 -0.4732728\n",
      " -0.35778368  0.5003925  -0.06943282  0.44880778 -0.33548462  0.09033614\n",
      " -0.4649543  -0.8466042  -0.60113084 -0.6970466   0.50482434 -0.5613116\n",
      " -1.2962829   0.02658643  0.1735678   0.5158857   0.6506455   0.6398911\n",
      "  0.6016631  -0.41903532 -0.6376232  -0.38294622 -0.07340524 -0.18459255\n",
      " -0.18184732  0.85133886 -1.3887765  -0.54933006 -0.761958    1.1405661\n",
      "  1.1140926  -0.29800397 -0.4252347  -1.0443208  -0.6216131   0.16112375\n",
      " -0.7266251   0.04182312 -0.2666369   0.7336825  -0.45463613 -1.0169168\n",
      "  0.36430344  0.07766971 -1.1069343   0.07814828  0.4038328   1.503573\n",
      " -1.0080117   0.02648081  1.5305576   0.71422875  1.2741641   0.6658324 ]\n",
      "and [ 1.0308098e+00  4.5845485e-01 -8.2832670e-01  4.3796185e-01\n",
      "  1.0440159e+00  2.6722023e+00  2.5521380e-01  4.4841605e-01\n",
      "  1.6496536e-01  1.0594295e+00 -1.4113293e+00  7.5607657e-01\n",
      " -6.3212216e-01 -9.1083395e-01  2.7588823e+00 -5.0245059e-01\n",
      " -1.4354887e+00  1.8027319e+00 -1.0138412e+00  2.2454816e-01\n",
      " -3.6532918e-01  2.2208674e-01 -4.6658936e-01 -1.4370062e+00\n",
      "  1.0918629e+00 -4.3328226e-01  1.9408727e-01  2.0387383e+00\n",
      " -1.5921199e-01 -1.1902119e-01 -2.9534531e-01  5.5829519e-01\n",
      " -3.6513376e-01  8.9639932e-01  2.6908827e+00  4.2744115e-01\n",
      " -3.2911479e-01 -4.0960476e-01  1.6816312e-01  2.2684033e+00\n",
      " -2.6170605e-01 -9.6046513e-01 -1.2910864e+00 -2.9919872e-01\n",
      " -3.2078996e-01  1.1090033e+00 -2.2175059e-01  6.1293089e-01\n",
      " -1.6217268e+00  1.2197585e+00  1.7681649e+00 -1.0599123e+00\n",
      " -8.3249032e-02 -8.8788605e-01  7.3773432e-01 -2.3013696e-01\n",
      " -2.1173446e+00 -6.8344522e-01  8.1808162e-01  6.8490434e-01\n",
      " -1.2721137e+00 -1.6948842e+00 -5.2514100e-01 -1.7125115e+00\n",
      "  8.2618475e-01  1.6407053e+00 -1.9036410e+00 -1.7457041e-01\n",
      "  1.3732195e+00  1.1447804e+00 -1.4093535e+00 -8.2934153e-01\n",
      " -1.0482568e+00  2.0261985e-01 -1.6945280e+00 -6.1889994e-01\n",
      " -1.2274100e+00  2.3925681e+00 -1.5333748e-01  1.9268878e+00\n",
      " -5.2897727e-01 -9.7393262e-01 -3.6616600e-01  1.0173833e+00\n",
      " -3.2272488e-01  9.2540011e-02 -8.9840537e-01  2.8229306e+00\n",
      " -1.7263893e+00  7.7486038e-05 -2.4402976e-02  9.9126136e-01\n",
      " -4.4934446e-01 -3.6584252e-01  3.1801915e-01  1.1497530e-01]\n",
      "statistics [-0.71253085  1.5085723  -0.70168245  0.9545272   1.163811   -0.9119436\n",
      "  1.4501668   1.5320112   0.8598714   0.02285075 -0.90725714 -0.95397484\n",
      " -0.6286398  -0.06471279 -0.23119627  0.12202325  1.0840616   0.29790074\n",
      "  0.08707714 -0.21350846  0.03019795 -0.5389444  -1.2015901   0.8260472\n",
      "  0.00269379 -0.3725586   0.14722162 -0.87444496 -0.37260664 -0.76796365\n",
      "  0.26003885 -0.1607145  -0.48986906  0.4254703  -0.88721275 -0.88795424\n",
      "  1.0132099   1.7404493  -0.22958359 -0.6305525  -0.39188254 -0.88955617\n",
      " -0.97647464  0.18715665  0.65498084 -0.14575833 -0.61761975 -1.4274405\n",
      "  0.9472897  -0.7194443   1.1597906   0.8864889   1.0345639  -0.8638493\n",
      "  1.0688106  -0.08048257 -0.8670731  -0.8126279  -0.6247574   0.75403327\n",
      "  0.45886925 -0.07420915 -0.5146806  -0.9155745   1.4363747   0.12815967\n",
      " -0.05973968  0.6033773  -0.7012293  -0.14719993 -0.48537308 -0.49728173\n",
      "  0.96592706 -0.12111726 -0.5641717   0.13563295 -0.8352149   0.1078648\n",
      " -0.84577096 -0.59084356 -0.6114061  -0.9092386  -0.9928772  -1.6348509\n",
      "  0.2148825  -0.04145436 -0.30959955  1.7748866  -0.23767096  0.88085735\n",
      " -1.0117147   1.1062058   2.3802247   0.17173666  0.47333837  0.8217851 ]\n",
      ". [-7.5512910e-01 -8.9279789e-01 -2.8918967e-02 -1.7745208e+00\n",
      " -1.7312986e-01  2.0818968e+00  1.1032292e+00 -8.3367810e-02\n",
      "  1.6670604e-01 -4.6932802e-01  3.3890455e+00 -9.5813239e-01\n",
      "  3.5383150e-01  2.0868070e+00 -5.6932873e-01  6.1674267e-01\n",
      " -1.4009528e+00 -4.8045948e-01  9.7564852e-01 -6.8252540e-01\n",
      " -2.4205744e-02 -4.2308277e-01  1.4415345e+00 -2.0578641e-01\n",
      "  1.9202175e+00  3.5950427e+00 -1.9564986e-01  3.2026556e-01\n",
      " -4.7432905e-01  2.0569463e+00  1.1059499e-01  5.1349610e-01\n",
      "  1.1573448e+00 -2.6010275e-03 -5.9716100e-01  9.1277659e-02\n",
      " -9.6135616e-02 -4.5481628e-01 -9.0518171e-01  1.0365810e+00\n",
      "  2.3514211e+00 -4.6520644e-01  1.0692623e-01 -1.2196093e+00\n",
      "  4.3033123e-01 -7.0501739e-01 -8.0427295e-01 -2.3463398e-01\n",
      "  1.3618906e+00 -4.7182006e-01  3.3511972e+00 -7.3561293e-01\n",
      " -9.3492150e-01  7.5949103e-01  5.3255737e-01 -1.6488159e+00\n",
      " -7.4289972e-01 -1.3487437e+00  1.1446368e+00  2.0636469e-01\n",
      "  1.9697130e-01 -2.1273599e+00  3.7518799e-01  2.1234245e+00\n",
      "  1.8637961e-01  6.2312547e-02 -7.9633856e-01  2.1619624e-01\n",
      " -8.2766271e-01 -1.3453275e-01 -7.4300438e-01  1.1664503e-01\n",
      " -6.7781794e-01 -6.8112761e-01  2.8160448e+00  6.6328621e-01\n",
      " -5.8128291e-01  1.1252421e+00 -1.0670494e+00 -1.1633049e+00\n",
      " -6.5683126e-01 -1.6457562e+00 -6.0250539e-01  8.1306571e-01\n",
      " -1.1252383e+00 -3.9411935e-01 -3.5372695e-01  3.6730555e-01\n",
      " -1.9160622e+00  1.3302867e+00 -8.4701377e-01  5.1882857e-01\n",
      " -1.5960746e-01 -1.2259543e-01 -6.1478806e-01 -9.0402430e-01]\n"
     ]
    }
   ],
   "source": [
    "doc = nlp(\"Data science combines domain expertise, programming skills, and knowledge of mathematics and statistics.\")\n",
    "for token in doc:\n",
    "    print(token.text, token.vector)\n"
   ]
  },
  {
   "cell_type": "code",
   "execution_count": 103,
   "metadata": {},
   "outputs": [
    {
     "name": "stdout",
     "output_type": "stream",
     "text": [
      "Python [-1.3884622  -0.8771918   0.94524676  0.7072258  -0.26210758  0.77901214\n",
      "  1.2617639  -0.22541374 -1.3464358  -0.49543288  1.806869    0.58000946\n",
      " -0.9932107  -0.7187619  -0.8364532  -0.3230341   0.6269121   0.6291371\n",
      " -0.40070212 -0.07978985 -1.6543238  -0.10481214 -0.8407551  -0.26600695\n",
      " -0.18540908 -0.30346134  1.3658578   0.54466945 -1.0504615   0.6511463\n",
      "  0.11178985 -0.83743906  0.10098365 -0.1651997  -0.91961086  0.993175\n",
      " -0.8731744   0.6676611   0.13301736  2.9303243  -1.8776978  -0.19935852\n",
      " -0.00847948  1.098839   -1.177551    0.59018946  0.2322576   2.0617602\n",
      "  1.078973    0.10872427 -0.41678745  0.7691022  -0.88426137 -1.4472361\n",
      " -0.00457144  0.4500418   0.5908829  -0.62210983  0.30490097 -0.35692787\n",
      " -0.0393744   0.09402812 -0.20889056 -0.6531503   0.4111555  -0.49103546\n",
      " -0.4744317  -0.677973   -0.24517743 -1.7073281   0.7353099   0.44912833\n",
      " -0.12395301 -0.40457848 -0.68905735 -0.6722348  -0.5339426  -1.4068999\n",
      " -0.43802083 -0.49517238  0.00360855  0.45600688  0.10429944 -0.10537542\n",
      "  0.51478684  0.5936782   0.41503766 -0.47590652  0.75770396  0.41772267\n",
      " -0.13412657 -0.698515    2.7154238  -0.21681729 -0.39142     1.2526938 ]\n",
      "is [-0.25958216  1.4486713  -0.4375124   0.5588613   0.034224   -0.74393773\n",
      "  0.2536756   0.10017163  0.7446202   0.51766026  1.185437   -0.3679938\n",
      " -0.22043204  0.89311254 -0.7104347   0.5746575  -0.8035275  -0.16031492\n",
      " -0.26606238  0.59391683 -0.55529207 -0.41762787 -0.46773133  1.2379451\n",
      " -0.86243206 -0.5598495   0.24972628  0.68556875 -0.513185   -0.6086437\n",
      " -0.47234145  2.1595385   0.3978335  -0.02351303 -0.21197654 -0.5411723\n",
      "  0.28826895 -0.5985592   0.6506803  -1.0691828   1.8547641   0.5535964\n",
      "  0.72256124 -1.4317629   0.54975283  0.3257672   1.7723329  -0.1956318\n",
      " -0.5530606  -0.11889741 -1.0318421   0.1155425  -0.8133064  -0.7225106\n",
      " -0.6113652  -0.5165855  -0.01083077 -0.31050384 -0.6325367   0.48714644\n",
      "  0.43435925  0.26939535  0.6684784   0.68849087  0.8643496   1.1692591\n",
      "  0.01078442 -0.6678877   1.2954916   0.06196404 -0.62182784  0.33689418\n",
      " -0.15346861  0.01702119 -0.8452146   0.20794305 -0.4524305  -1.3409977\n",
      " -1.7323588   0.5634195  -0.35575092 -0.53218955 -0.21879248 -0.68955356\n",
      "  1.0220366  -0.5290828  -0.08559891  0.19767049 -0.31873417 -0.19595838\n",
      "  0.33888474 -1.1236002  -0.3791791  -0.24296129 -1.1044999  -0.35178   ]\n",
      "a [ 1.2817446e+00  3.1356716e-01  6.7372543e-01  1.4586425e+00\n",
      " -6.5375519e-01  5.6937575e-02  9.9822432e-02  7.8442603e-02\n",
      "  4.4279967e-02  1.7537596e+00  2.3057181e-01 -7.6007307e-02\n",
      "  5.1400483e-01  8.1211323e-01 -6.7281032e-01 -5.2762783e-01\n",
      "  5.8846378e-01 -1.7157555e-02 -1.4397135e+00 -2.0895982e-01\n",
      " -2.3892426e-01 -4.9188167e-01  2.6454782e-01 -1.1431599e+00\n",
      "  1.6653359e+00 -1.0566719e+00  1.3803680e+00 -9.1680384e-01\n",
      "  7.8442496e-01  2.3176765e+00  7.0400369e-01 -2.1435675e-01\n",
      "  4.1251883e-01 -8.8505113e-01 -3.2016879e-01  6.1080575e-01\n",
      "  9.9612218e-01  6.1367571e-01  1.9017902e-01 -4.9183488e-01\n",
      " -9.7556788e-01  1.5605155e+00 -1.0183774e+00  3.5539195e-01\n",
      " -7.9665029e-01  1.5215408e+00 -8.8125443e-01  7.9924390e-02\n",
      " -5.2321333e-01  3.9662039e-01 -1.1035378e+00 -4.2836964e-01\n",
      "  3.5648522e-01  1.1305017e+00 -1.8429121e-01  9.1032869e-01\n",
      " -2.1485078e+00  1.7073414e+00 -2.5020206e-01 -2.2980323e-01\n",
      "  3.4483877e-01 -1.2771692e+00  1.7579541e-02 -8.9918232e-01\n",
      "  1.4859438e-04 -8.3277088e-01  4.4315967e-01 -3.5535640e-01\n",
      " -5.5462204e-02  2.1469420e-01 -1.4102942e-01  1.6000015e-01\n",
      " -9.0731668e-01  4.8486784e-01 -1.0207126e+00 -8.8410419e-01\n",
      "  1.0024836e+00  5.3272706e-01 -9.6996114e-02 -3.8479710e-01\n",
      " -1.3329311e-01  3.1238085e-01 -1.5081763e-02 -8.3865201e-01\n",
      "  3.9884904e-01 -4.2615965e-01  9.4547522e-01 -1.8309414e-01\n",
      " -2.4931313e-01  8.4499162e-01 -5.3750849e-01 -1.0588078e+00\n",
      " -1.6286393e-01 -9.6150947e-01 -3.4682259e-01 -8.3951050e-01]\n",
      "popular [ 8.1017905e-01 -1.3937106e+00  5.6865263e-01  4.1749677e-01\n",
      " -6.7171365e-01  1.9575663e-02  4.0014768e-01 -8.1042361e-01\n",
      " -1.2933153e-01 -9.3141097e-01 -6.5586567e-01 -3.4535509e-01\n",
      " -2.3845103e-01  1.0543751e+00 -5.7301170e-01  7.6313525e-02\n",
      "  8.7290233e-01 -8.9633572e-01 -7.8609180e-01 -6.7554605e-01\n",
      " -8.6227381e-01  2.8153110e-01  1.5576211e-01  5.3947997e-01\n",
      "  4.6603966e-01 -1.8774271e-03 -8.5924938e-02  1.8279326e-01\n",
      "  1.4691461e+00  4.4349182e-01  1.2894219e+00  8.7992328e-01\n",
      " -3.2743859e-01 -1.4035965e+00 -9.8993562e-02  1.6794890e-01\n",
      "  7.6110482e-01 -3.2018852e-01  6.5496773e-02 -2.4104373e-01\n",
      " -1.0007122e+00  1.6117187e+00  3.0384576e-01  7.9595160e-01\n",
      "  7.3958409e-01 -5.1182890e-01 -1.3131239e+00  4.6327847e-01\n",
      " -7.0320070e-01 -1.2593025e-01 -9.1272712e-01  3.3357668e+00\n",
      " -9.3799293e-01 -8.2400644e-01 -1.4415351e+00  1.1262047e+00\n",
      " -4.8854947e-03  1.3207116e+00 -7.2739971e-01  3.9305824e-01\n",
      " -7.2229850e-01 -5.5863690e-01  3.3087704e-01 -1.0220857e+00\n",
      " -4.2315194e-01 -6.5901053e-01  5.4631627e-01  4.1158220e-01\n",
      "  5.8159727e-01 -1.1517665e+00 -3.0473280e-01  8.1879950e-01\n",
      " -1.2313180e+00  7.1793228e-01 -1.0458713e+00 -1.1250854e+00\n",
      " -3.9239681e-01  2.9190917e-02 -2.2621676e-03 -2.0304690e-01\n",
      " -7.7446169e-01  5.0351167e-01  7.6718187e-01  6.9207728e-01\n",
      " -1.0088147e+00  6.6018546e-01  4.0127259e-01  5.5810022e-01\n",
      " -3.3234385e-01 -5.2241492e-01 -3.6084962e-01 -8.5891318e-01\n",
      "  2.1329844e+00  6.5967304e-01 -3.0094242e-01  2.7485949e-01]\n",
      "programming [ 0.21366945 -0.21731907  0.29747373 -0.0285176  -0.6796968   0.51592433\n",
      "  0.29389971  0.54952586 -0.05486114  0.23495391 -1.2271141  -0.17713615\n",
      " -0.4124531  -0.2537948   0.3677281   0.2976494  -0.55730623 -0.56818295\n",
      " -0.9732543  -0.32548243  0.8952689   1.3025297  -0.43372184  0.3644432\n",
      "  0.22767633 -0.27251652  0.7157304   0.33774135  1.5408995   0.10687527\n",
      "  0.8401967   0.8279221  -0.8896769  -1.2896689   0.5669377   0.3868472\n",
      "  0.22700702 -0.19404858 -0.31325468  0.36128432 -1.2212807   1.2985951\n",
      " -0.10230561  1.2146382   0.9857574  -0.62485623 -1.5703714  -0.78995043\n",
      "  0.19565906 -0.3610168  -0.72902685  0.33808368  0.8977866  -1.7156111\n",
      " -1.1419964   0.11480612  0.05504772  0.5629078  -1.0767052   0.27011645\n",
      " -0.9492354   0.00203979 -0.17307925  0.0153627   0.17833713 -0.16833016\n",
      " -0.3391113  -0.3979776   1.3062139  -0.5435979   0.69479394  0.13117748\n",
      "  1.4491007  -1.1753366  -0.28256238 -1.6206713  -0.5333916  -0.3303119\n",
      "  1.1290963  -0.39368612 -0.20668952 -0.05760252  0.88837755 -0.6261595\n",
      " -1.3449287   0.10795751  0.7078059  -0.7958521  -0.84438515 -0.45081508\n",
      "  0.11158155  1.3993288   0.91184217  0.53272796 -0.74560153 -0.4045477 ]\n",
      "language [-1.1119707  -0.00633144  0.3167892  -0.8535468   0.41023797  0.34352437\n",
      "  0.5747192   0.44965202 -0.41640154 -0.7027381  -0.2580471  -0.8636518\n",
      " -0.54227424  0.14654803  0.2105771   1.0391752  -0.12496382  0.01779997\n",
      "  0.48204404  0.8967558   0.4109463   0.88334566  0.91815686 -0.48430645\n",
      " -0.19080618 -0.34469193  0.39370352 -0.10848157  0.5282264   0.2056882\n",
      " -0.04918211 -0.64056516 -0.25367868  0.11333981 -0.45853522  0.91545826\n",
      "  1.1001322   0.25316307  0.14860247 -0.826082   -0.63500154  0.18008852\n",
      " -0.27659243 -0.12914239  0.19685167  1.2598379  -0.07636862 -0.19648021\n",
      " -0.40195936 -0.2326253  -0.47709915  0.13365048  0.28131565 -1.17193\n",
      "  0.82802933  0.299535   -0.6610537  -0.5691108   0.8573422  -0.365677\n",
      "  0.08738191  0.23904765 -0.47450325 -0.39907414  1.0493486   0.19319083\n",
      " -0.6243108  -0.5629903  -0.5533507  -1.0489733   0.05706434  0.29207414\n",
      "  0.89281416 -0.5389991  -0.17346808 -1.223779   -0.4010281  -0.533682\n",
      "  0.17037134 -1.1468525   0.28881687 -0.01814662 -1.0669714  -0.9430867\n",
      " -0.627319   -0.42245585 -0.04081725 -0.41924262  0.09903587  0.09166679\n",
      " -1.2834237   0.36089498  1.2549378   1.1652172   0.69201165  1.2164466 ]\n",
      "for [ 1.2052935  -0.30561703  0.44475242 -0.60127825  0.27413636 -0.70616114\n",
      "  0.03346789 -0.26652157  0.18456185 -0.08367833  0.34391266 -0.82562315\n",
      " -0.01930487 -0.23666751  0.4616235  -0.3053466  -0.752048    1.3787613\n",
      " -0.48577753 -0.3947321  -0.6398017  -1.1487879  -0.3461179  -0.55309165\n",
      "  2.3836899  -0.16097894  1.3699923  -0.7643622   0.28664893  0.34485096\n",
      " -0.8661487  -0.00580968  1.8814636   0.06204796 -0.63313437  0.6486544\n",
      " -0.08508785  0.90602577  1.3373262  -0.67163664 -0.2720577  -1.0706904\n",
      " -0.49597514 -0.7555787   1.0908237   1.1214147   0.29094344  0.15363097\n",
      " -0.9568832  -0.89324737 -1.9602475  -1.2594819  -0.55731946  0.39210021\n",
      " -1.503624   -0.52584213 -0.65380585 -0.92025155  0.421622    0.13314575\n",
      " -0.96526986 -0.58630234 -0.21386613  1.4017911   0.30132887  1.4605478\n",
      "  0.22371823 -1.0803542   0.3553444   1.442495    0.90306515  0.01003765\n",
      "  0.13188466 -0.17620614 -1.4221058   0.73817307 -0.9697821   0.3647823\n",
      "  1.731677   -1.1680825   1.0935318  -0.3237418  -0.2698566   0.63083184\n",
      "  0.01498079  0.33335984 -0.7156273   1.0049115  -0.7929351   0.1512532\n",
      "  0.533186    0.3516794  -1.0170499   0.0656753  -0.07091945  1.0304483 ]\n",
      "data [ 1.10564637e+00  1.12112343e+00 -1.77265286e-01 -4.78131324e-02\n",
      "  1.33846223e-01  4.23301220e-01 -7.90917277e-02  8.86183858e-01\n",
      "  9.03496861e-01  3.26979160e-01 -3.15249532e-01 -3.26744579e-02\n",
      "  4.03390527e-01  1.78022623e-01 -9.55967844e-01 -4.13457155e-01\n",
      " -1.08959168e-01  9.60449353e-02  2.98347205e-01 -5.27530432e-01\n",
      "  1.27362251e+00 -6.31104350e-01 -1.68584728e+00  5.53785205e-01\n",
      "  5.70313573e-01  3.68774682e-01 -1.02044985e-01  6.56742692e-01\n",
      "  1.77575278e+00  5.16779542e-01 -1.02157950e+00 -4.55856860e-01\n",
      " -1.54142523e+00 -7.00928688e-01 -9.63093340e-02  1.04770154e-01\n",
      " -3.94589394e-01 -7.26095885e-02 -1.02569866e+00 -1.74165726e+00\n",
      " -1.47084475e+00 -1.54893696e-02 -9.83312726e-04  4.15599942e-01\n",
      "  4.82159525e-01 -6.34564042e-01 -7.78482556e-01  1.01627183e+00\n",
      "  1.76644444e-01 -1.00017309e-01 -3.99749756e-01  8.54143143e-01\n",
      "  1.79553330e+00 -1.45128894e+00 -9.12542522e-01  2.51036286e-01\n",
      " -2.07063437e-01  8.06249559e-01 -8.74515116e-01 -1.64411813e-01\n",
      " -6.13347709e-01 -1.42036545e+00  3.89579296e-01 -1.87729359e+00\n",
      "  5.19418597e-01  4.86515671e-01  2.61210650e-02  1.35027730e+00\n",
      "  2.49336571e-01 -6.50837183e-01  5.34408689e-01  1.23485446e-01\n",
      "  1.18363291e-01 -6.11935973e-01  9.65004683e-01 -4.02914912e-01\n",
      " -7.25211203e-01 -1.06799793e+00 -2.40518838e-01 -6.73316345e-02\n",
      " -1.10031649e-01  3.39175761e-01  1.30896580e+00 -1.39304137e+00\n",
      " -1.20420516e-01  3.88886571e-01 -2.34069645e-01 -4.86421496e-01\n",
      " -5.44721007e-01 -4.24654216e-01  8.14736366e-01  1.10682917e+00\n",
      "  4.01576281e-01  1.81308746e+00 -2.58377999e-01 -3.44030499e-01]\n",
      "analysis [-1.3540608   0.12116635 -0.9526475  -0.40515634  0.34472948 -0.44721884\n",
      "  1.5369856   1.3204622   1.0442663  -0.66244626 -1.2495546  -1.1354954\n",
      "  0.200463   -0.10215985  0.22812745  0.48339403  0.09471953 -0.7107479\n",
      "  1.1831403   0.530277   -0.20889196  0.24354404 -0.47808206 -0.40241244\n",
      " -0.413956   -0.31608075  0.39005506 -0.25632608 -0.3244485   0.28039375\n",
      "  0.254449    0.05399579  0.87325203 -0.5718844  -0.20161602  0.12314749\n",
      "  0.55385274  0.64387167 -0.4006565   0.26674175 -0.11820918  1.0150039\n",
      "  0.87283844  0.07115456  0.13828121  0.27717602 -1.0491564  -1.0026873\n",
      "  0.29413337 -0.5626459   0.64163667  1.0759299   1.0828271  -0.8001338\n",
      "  0.6198369  -0.41707647 -0.263672   -0.27912474  1.1348614  -0.41948062\n",
      "  0.22890955  0.18273519 -0.24248217 -1.0137894   0.9354195   0.8097238\n",
      " -0.43242848 -0.839848   -0.24272291 -0.63574946  0.40170854 -0.77110106\n",
      "  1.3708476  -0.6033963  -0.14613852 -0.8737028  -0.51688796 -0.8810133\n",
      "  0.33573377 -0.63185495 -0.6900738   0.17190358 -1.3071376  -1.1819751\n",
      "  0.7622054   0.5875074  -0.2595693  -0.55903226 -0.13212222  1.0435222\n",
      " -0.2929497   0.1527224   1.8319485   0.4167789  -0.75796735  0.98670024]\n",
      ". [-0.28503615 -0.73391736  0.2708929  -1.6564075   0.08116812  2.011987\n",
      "  0.746166   -0.16150609  0.22502905 -0.6590585   2.518295   -0.7415339\n",
      "  0.66616267  2.0730522  -0.0699067   0.6126286  -1.537323   -0.6032045\n",
      "  1.2242919  -0.5190985   0.37031278 -0.55063033  1.415209   -0.3799361\n",
      "  1.3967146   4.287865   -0.3621261   0.23725724 -0.6321576   1.5267082\n",
      " -0.19882503  1.4250765   1.439719   -0.18389991 -0.5402584   0.21176916\n",
      " -0.26206097 -0.52611953 -0.5339366   1.2926056   2.1053383  -0.29458407\n",
      " -0.22896576 -0.9854451   0.322932   -1.0705476  -0.9376105   0.01420367\n",
      "  1.6136272  -0.74242735  3.6174197  -0.6726941  -0.70870835  0.65892863\n",
      "  1.152289   -1.6321263  -0.9706383  -0.85549533  0.40544832  0.0247231\n",
      "  0.17273352 -1.7737008   0.15011713  2.391865    0.7214044  -0.1503119\n",
      " -0.89200795  0.13877031 -0.7855852  -0.3612494  -0.56800103  0.26521087\n",
      " -1.0847051  -0.697645    2.7667274   0.25898802 -0.69209373  1.3476288\n",
      " -1.1183202  -1.3641571  -0.06351215 -1.880774   -0.79816896  0.5395205\n",
      " -1.5719407   0.06290959 -0.4541679   0.8582511  -1.3926401   0.93554753\n",
      " -0.83687985 -0.22791544  0.32359773 -0.3061102  -1.0880985  -1.3901887 ]\n"
     ]
    }
   ],
   "source": [
    "doc = nlp(\"Python is a popular programming language for data analysis.\")\n",
    "for token in doc:\n",
    "    print(token.text, token.vector)\n"
   ]
  },
  {
   "cell_type": "code",
   "execution_count": null,
   "metadata": {},
   "outputs": [],
   "source": []
  }
 ],
 "metadata": {
  "kernelspec": {
   "display_name": "myenv",
   "language": "python",
   "name": "python3"
  },
  "language_info": {
   "codemirror_mode": {
    "name": "ipython",
    "version": 3
   },
   "file_extension": ".py",
   "mimetype": "text/x-python",
   "name": "python",
   "nbconvert_exporter": "python",
   "pygments_lexer": "ipython3",
   "version": "3.11.8"
  }
 },
 "nbformat": 4,
 "nbformat_minor": 2
}
